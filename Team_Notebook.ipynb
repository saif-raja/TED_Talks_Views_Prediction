{
  "nbformat": 4,
  "nbformat_minor": 0,
  "metadata": {
    "colab": {
      "name": "Team Notebook.ipynb",
      "provenance": [],
      "collapsed_sections": [
        "n6IzNNGdwTV4",
        "m-XVJcfGxDpg",
        "WEEKxC0BxK7c",
        "0J0iRFZRgxe3",
        "8dLeUKyys2Gw",
        "THJl700h6mYG",
        "9cEIJAa85bXy",
        "Pn3laqmdXxAA",
        "jmCOQQVS6Vi9",
        "22hqK4EpsHcQ",
        "UjK3iFnIvOmc"
      ],
      "include_colab_link": true
    },
    "kernelspec": {
      "display_name": "Python 3",
      "name": "python3"
    },
    "language_info": {
      "name": "python"
    }
  },
  "cells": [
    {
      "cell_type": "markdown",
      "metadata": {
        "id": "view-in-github",
        "colab_type": "text"
      },
      "source": [
        "<a href=\"https://colab.research.google.com/github/saif-raja/Capstone-Project-3_Regression-TED_Talks_Views_Prediction/blob/main/Team_Notebook.ipynb\" target=\"_parent\"><img src=\"https://colab.research.google.com/assets/colab-badge.svg\" alt=\"Open In Colab\"/></a>"
      ]
    },
    {
      "cell_type": "markdown",
      "metadata": {
        "id": "kRdaW4y6tuDR"
      },
      "source": [
        "#<font size=\"+3\" color='#053c96'><b> About this Project </b></font>"
      ]
    },
    {
      "cell_type": "markdown",
      "metadata": {
        "id": "kBzmO_ibtsUC"
      },
      "source": [
        "This is a Machine Learning Capstone Project ,\n",
        "\n",
        "done for completion of the AlmaBetter Premium Program ,\n",
        "\n",
        "<b> AlmaBetter School , Bengaluru India</b>\n",
        "\n",
        "\n",
        "This Project is done by :\n",
        "* Saifuddin Raja\n",
        "* Hariom Bharadwaj\n",
        "* Mayank Kumar\n",
        "* Shivam Mishra\n",
        "* Sarvesh Yadav\n",
        "\n",
        "\n",
        "\n",
        "\n",
        "\n",
        "\n"
      ]
    },
    {
      "cell_type": "markdown",
      "metadata": {
        "id": "_sIGuvX0v-4m"
      },
      "source": [
        "#<font size=\"+3\" color='#053c96'><b> Problem Statement</b></font>"
      ]
    },
    {
      "cell_type": "markdown",
      "metadata": {
        "id": "sFNil3T3wHjI"
      },
      "source": [
        "TED is devoted to spreading powerful ideas on just about any topic. This dataset contain over 4,005 TED talks including transcripts in many languages.\n",
        " \n",
        "Founded in 1984 by Richard Salman as a nonprofit organization \n",
        "that aimed at bringing experts from the fields of Technology, Entertainment, and Design together, TED Conferences have gone on to become the Mecca of ideas from virtually all walks of life. As of 2015, TED and its sister TEDx chapters have published more than 2000 talks for free consumption by the masses and its speaker list boasts of the likes of Al Gore, Jimmy Wales, Shahrukh Khan, and Bill Gates. \n",
        "\n",
        "TED talks have been given for many years with the platform of \"Ideas Worth Spreading\". In the digital world we live in today, TED is a great platform to get your idea out there. But how do you know if your idea will be heard or appreciated.\n",
        "\n",
        "The main objective is to build a predictive model, which could help in predicting the views of the videos uploaded on the TEDx website."
      ]
    },
    {
      "cell_type": "markdown",
      "metadata": {
        "id": "n6IzNNGdwTV4"
      },
      "source": [
        "#<font size=\"+3\" color='#053c96'><b> The Structure of this notebook</b></font>\n"
      ]
    },
    {
      "cell_type": "markdown",
      "metadata": {
        "id": "Mw2hKfxNwo3q"
      },
      "source": [
        "#**Project Work flow**\n",
        "\n",
        "---\n",
        "\n",
        "1. Importing Libraries\n",
        "\n",
        "2. Loading the Dataset\n",
        "\n",
        "3. EDA on features \n",
        "\n",
        "4. Feature Engineering\n",
        "\n",
        "5. Data Cleaning\n",
        "\n",
        "6. Feature selection\n",
        "\n",
        "7. Fitting the regression models and HyperParameter Tuning\n",
        "\n",
        "8. Comparison of Models\n",
        "\n",
        "9. Final selection of the model\n",
        "\n",
        "10. Conclusion\n",
        "--- "
      ]
    },
    {
      "cell_type": "markdown",
      "metadata": {
        "id": "m-XVJcfGxDpg"
      },
      "source": [
        "#<font size=\"+3\" color='#053c96'><b> Understanding the given Data</b></font>\n",
        "\n",
        "\n",
        "For each feature in the given dataset , \n",
        "\n",
        "What is the meaning of the feature and its data type"
      ]
    },
    {
      "cell_type": "markdown",
      "metadata": {
        "id": "U-PrPt_xxJgK"
      },
      "source": [
        "#<font size=\"+3\" color='#053c96'><b> Initial Code : Initliaing the Data and Modules </b></font>\n",
        "\n",
        "> Indented block\n",
        "\n"
      ]
    },
    {
      "cell_type": "markdown",
      "metadata": {
        "id": "WEEKxC0BxK7c"
      },
      "source": [
        "---\n",
        "##<font size=\"+2\" color='#053c96'><b> Installing and Importing Libraries</b></font>\n",
        "\n",
        "### Libraries used in this Project:\n",
        "\n",
        "Datawrangling : \n",
        "* Numpy\n",
        "* Pandas\n",
        "\n",
        "For Graphing : \n",
        "* Matplotib\n",
        "* Seaborn \n",
        "\n",
        "Machine learning :\n",
        "* Scikit-Learn\n",
        "* SK-Opt\n",
        "* XGBoost\n",
        "* CatBoost\n",
        "\n",
        "Miscellaneous :\n",
        "* Google colab tools"
      ]
    },
    {
      "cell_type": "markdown",
      "metadata": {
        "id": "fxXk-ll-xbNL"
      },
      "source": [
        "# Importing few libraries"
      ]
    },
    {
      "cell_type": "code",
      "metadata": {
        "id": "53rcUiHixSPK"
      },
      "source": [
        "import pandas as pd\n",
        "import numpy as np\n",
        "import seaborn as sns\n",
        "import matplotlib\n",
        "import matplotlib.pyplot as plt\n",
        "%matplotlib inline\n",
        "from sklearn.linear_model import Ridge, Lasso\n",
        "from sklearn.ensemble import RandomForestRegressor, GradientBoostingRegressor, ExtraTreesRegressor\n",
        "from sklearn.neural_network import MLPRegressor\n",
        "import xgboost as xgb\n",
        "from sklearn import neighbors\n",
        "from sklearn.svm import SVR\n",
        "from sklearn import metrics\n",
        "from sklearn.metrics import mean_squared_error, r2_score,mean_absolute_error\n",
        "from sklearn.preprocessing import StandardScaler, MinMaxScaler\n",
        "from sklearn.model_selection import train_test_split, KFold\n",
        "from sklearn.preprocessing import OneHotEncoder\n",
        "from sklearn.model_selection import GridSearchCV\n",
        "from sklearn.model_selection import RandomizedSearchCV\n",
        "from sklearn import ensemble\n",
        "\n",
        "sns.set_style('darkgrid')\n",
        "matplotlib.rcParams['font.size'] = 14\n",
        "matplotlib.rcParams['figure.figsize'] = (7,4)\n",
        "matplotlib.rcParams['figure.facecolor'] = '#00000000'\n",
        "\n",
        "import warnings\n",
        "warnings.filterwarnings('ignore')"
      ],
      "execution_count": null,
      "outputs": []
    },
    {
      "cell_type": "code",
      "metadata": {
        "id": "ttzz_CEQ23Q8"
      },
      "source": [
        "from wordcloud import WordCloud,ImageColorGenerator\n",
        "pd.plotting.register_matplotlib_converters()\n",
        "import calendar"
      ],
      "execution_count": null,
      "outputs": []
    },
    {
      "cell_type": "markdown",
      "metadata": {
        "id": "BWNqb0qz2Wdk"
      },
      "source": [
        "### <font size=\"+3\" color='#053c96'>Importing ML Libraries:</font>"
      ]
    },
    {
      "cell_type": "code",
      "metadata": {
        "colab": {
          "base_uri": "https://localhost:8080/"
        },
        "id": "BPL7bHkZ2HSY",
        "outputId": "5eb09382-2590-41f5-c82c-722eefae4821"
      },
      "source": [
        "!pip install scikit-optimize\n",
        "!pip install catboost"
      ],
      "execution_count": null,
      "outputs": [
        {
          "output_type": "stream",
          "name": "stdout",
          "text": [
            "Requirement already satisfied: scikit-optimize in /usr/local/lib/python3.7/dist-packages (0.8.1)\n",
            "Requirement already satisfied: scipy>=0.19.1 in /usr/local/lib/python3.7/dist-packages (from scikit-optimize) (1.4.1)\n",
            "Requirement already satisfied: joblib>=0.11 in /usr/local/lib/python3.7/dist-packages (from scikit-optimize) (1.0.1)\n",
            "Requirement already satisfied: pyaml>=16.9 in /usr/local/lib/python3.7/dist-packages (from scikit-optimize) (21.8.3)\n",
            "Requirement already satisfied: numpy>=1.13.3 in /usr/local/lib/python3.7/dist-packages (from scikit-optimize) (1.19.5)\n",
            "Requirement already satisfied: scikit-learn>=0.20.0 in /usr/local/lib/python3.7/dist-packages (from scikit-optimize) (0.22.2.post1)\n",
            "Requirement already satisfied: PyYAML in /usr/local/lib/python3.7/dist-packages (from pyaml>=16.9->scikit-optimize) (3.13)\n",
            "Requirement already satisfied: catboost in /usr/local/lib/python3.7/dist-packages (0.26.1)\n",
            "Requirement already satisfied: graphviz in /usr/local/lib/python3.7/dist-packages (from catboost) (0.10.1)\n",
            "Requirement already satisfied: scipy in /usr/local/lib/python3.7/dist-packages (from catboost) (1.4.1)\n",
            "Requirement already satisfied: pandas>=0.24.0 in /usr/local/lib/python3.7/dist-packages (from catboost) (1.1.5)\n",
            "Requirement already satisfied: matplotlib in /usr/local/lib/python3.7/dist-packages (from catboost) (3.2.2)\n",
            "Requirement already satisfied: plotly in /usr/local/lib/python3.7/dist-packages (from catboost) (4.4.1)\n",
            "Requirement already satisfied: six in /usr/local/lib/python3.7/dist-packages (from catboost) (1.15.0)\n",
            "Requirement already satisfied: numpy>=1.16.0 in /usr/local/lib/python3.7/dist-packages (from catboost) (1.19.5)\n",
            "Requirement already satisfied: python-dateutil>=2.7.3 in /usr/local/lib/python3.7/dist-packages (from pandas>=0.24.0->catboost) (2.8.2)\n",
            "Requirement already satisfied: pytz>=2017.2 in /usr/local/lib/python3.7/dist-packages (from pandas>=0.24.0->catboost) (2018.9)\n",
            "Requirement already satisfied: cycler>=0.10 in /usr/local/lib/python3.7/dist-packages (from matplotlib->catboost) (0.10.0)\n",
            "Requirement already satisfied: kiwisolver>=1.0.1 in /usr/local/lib/python3.7/dist-packages (from matplotlib->catboost) (1.3.1)\n",
            "Requirement already satisfied: pyparsing!=2.0.4,!=2.1.2,!=2.1.6,>=2.0.1 in /usr/local/lib/python3.7/dist-packages (from matplotlib->catboost) (2.4.7)\n",
            "Requirement already satisfied: retrying>=1.3.3 in /usr/local/lib/python3.7/dist-packages (from plotly->catboost) (1.3.3)\n"
          ]
        }
      ]
    },
    {
      "cell_type": "code",
      "metadata": {
        "id": "0gewHijN6exJ"
      },
      "source": [
        "import sklearn\n",
        "\n",
        "from sklearn.model_selection import ShuffleSplit , StratifiedKFold , RepeatedStratifiedKFold ,train_test_split\n",
        "from sklearn.model_selection import cross_val_score , cross_validate ,cross_val_predict\n",
        "\n",
        "from sklearn.metrics import plot_roc_curve\n",
        "from sklearn.metrics import plot_precision_recall_curve\n",
        "from sklearn.metrics import confusion_matrix as confmat\n",
        "from sklearn.metrics import precision_recall_curve , classification_report\n",
        "\n",
        "from sklearn.preprocessing import RobustScaler\n",
        "from sklearn.pipeline import Pipeline"
      ],
      "execution_count": null,
      "outputs": []
    },
    {
      "cell_type": "code",
      "metadata": {
        "colab": {
          "base_uri": "https://localhost:8080/"
        },
        "id": "vcVGAk8B0PmW",
        "outputId": "6c1e4f97-8c76-417c-f2dc-d66aa72f4b9c"
      },
      "source": [
        "from google.colab import drive\n",
        "drive.mount('/content/drive')"
      ],
      "execution_count": null,
      "outputs": [
        {
          "output_type": "stream",
          "name": "stdout",
          "text": [
            "Drive already mounted at /content/drive; to attempt to forcibly remount, call drive.mount(\"/content/drive\", force_remount=True).\n"
          ]
        }
      ]
    },
    {
      "cell_type": "code",
      "metadata": {
        "id": "LtyXXjcXzmSF"
      },
      "source": [
        "#hariom path\n",
        "filepath='/content/drive/MyDrive/AlmaBetter/Capston Project 3 Ted Talk Analysis/Code/Data/data_ted_talks.csv'\n",
        "dataset1=pd.read_csv(filepath)"
      ],
      "execution_count": null,
      "outputs": []
    },
    {
      "cell_type": "code",
      "metadata": {
        "id": "z2V3h5H9-XtI"
      },
      "source": [
        "# #loading the data file and creating a dataframe\n",
        "# path='/content/drive/MyDrive/AlmaBetter/Modules/Week-12-TedXTalk- Project/Copy of data_ted_talks.csv'\n",
        "# data = pd.read_csv(path)"
      ],
      "execution_count": null,
      "outputs": []
    },
    {
      "cell_type": "code",
      "metadata": {
        "id": "4ujBINGd0BF3"
      },
      "source": [
        "#data copy\n",
        "data=dataset.copy()"
      ],
      "execution_count": null,
      "outputs": []
    },
    {
      "cell_type": "markdown",
      "metadata": {
        "id": "zAQHRadU0--R"
      },
      "source": [
        "\n",
        "\n",
        "`\n",
        "\n",
        "<b> #<font size=\"+3\" color='#053c96'><b> Dataset Information: </b></font>"
      ]
    },
    {
      "cell_type": "code",
      "metadata": {
        "colab": {
          "base_uri": "https://localhost:8080/"
        },
        "id": "HF0khOufz7AO",
        "outputId": "2e3e00ea-5ddd-4857-fcad-f3790e487cbd"
      },
      "source": [
        "def resumetable(df):\n",
        "    print(f\"Dataset Shape: {df.shape}\")\n",
        "    summary = pd.DataFrame(df.dtypes,columns=['dtypes'])\n",
        "    summary = summary.reset_index()\n",
        "    summary['Name'] = summary['index']\n",
        "    summary = summary[['Name','dtypes']]\n",
        "    summary['Missing'] = df.isnull().sum().values    \n",
        "    summary['Uniques'] = df.nunique().values\n",
        "    summary['First Value'] = df.loc[0].values\n",
        "    summary['Second Value'] = df.loc[1].values\n",
        "    return summary\n",
        "result = resumetable(data)"
      ],
      "execution_count": null,
      "outputs": [
        {
          "output_type": "stream",
          "name": "stdout",
          "text": [
            "Dataset Shape: (4005, 19)\n"
          ]
        }
      ]
    },
    {
      "cell_type": "code",
      "metadata": {
        "colab": {
          "base_uri": "https://localhost:8080/",
          "height": 578
        },
        "id": "5nKh88PR97IL",
        "outputId": "5ae2a335-fb04-4755-844d-37300a9aef07"
      },
      "source": [
        "# Printing the dataset\n",
        "data.head()"
      ],
      "execution_count": null,
      "outputs": [
        {
          "output_type": "execute_result",
          "data": {
            "text/html": [
              "<div>\n",
              "<style scoped>\n",
              "    .dataframe tbody tr th:only-of-type {\n",
              "        vertical-align: middle;\n",
              "    }\n",
              "\n",
              "    .dataframe tbody tr th {\n",
              "        vertical-align: top;\n",
              "    }\n",
              "\n",
              "    .dataframe thead th {\n",
              "        text-align: right;\n",
              "    }\n",
              "</style>\n",
              "<table border=\"1\" class=\"dataframe\">\n",
              "  <thead>\n",
              "    <tr style=\"text-align: right;\">\n",
              "      <th></th>\n",
              "      <th>talk_id</th>\n",
              "      <th>title</th>\n",
              "      <th>speaker_1</th>\n",
              "      <th>all_speakers</th>\n",
              "      <th>occupations</th>\n",
              "      <th>about_speakers</th>\n",
              "      <th>views</th>\n",
              "      <th>recorded_date</th>\n",
              "      <th>published_date</th>\n",
              "      <th>event</th>\n",
              "      <th>native_lang</th>\n",
              "      <th>available_lang</th>\n",
              "      <th>comments</th>\n",
              "      <th>duration</th>\n",
              "      <th>topics</th>\n",
              "      <th>related_talks</th>\n",
              "      <th>url</th>\n",
              "      <th>description</th>\n",
              "      <th>transcript</th>\n",
              "    </tr>\n",
              "  </thead>\n",
              "  <tbody>\n",
              "    <tr>\n",
              "      <th>0</th>\n",
              "      <td>1</td>\n",
              "      <td>Averting the climate crisis</td>\n",
              "      <td>Al Gore</td>\n",
              "      <td>{0: 'Al Gore'}</td>\n",
              "      <td>{0: ['climate advocate']}</td>\n",
              "      <td>{0: 'Nobel Laureate Al Gore focused the world’...</td>\n",
              "      <td>3523392</td>\n",
              "      <td>2006-02-25</td>\n",
              "      <td>2006-06-27</td>\n",
              "      <td>TED2006</td>\n",
              "      <td>en</td>\n",
              "      <td>['ar', 'bg', 'cs', 'de', 'el', 'en', 'es', 'fa...</td>\n",
              "      <td>272.0</td>\n",
              "      <td>977</td>\n",
              "      <td>['alternative energy', 'cars', 'climate change...</td>\n",
              "      <td>{243: 'New thinking on the climate crisis', 54...</td>\n",
              "      <td>https://www.ted.com/talks/al_gore_averting_the...</td>\n",
              "      <td>With the same humor and humanity he exuded in ...</td>\n",
              "      <td>Thank you so much, Chris. And it's truly a gre...</td>\n",
              "    </tr>\n",
              "    <tr>\n",
              "      <th>1</th>\n",
              "      <td>92</td>\n",
              "      <td>The best stats you've ever seen</td>\n",
              "      <td>Hans Rosling</td>\n",
              "      <td>{0: 'Hans Rosling'}</td>\n",
              "      <td>{0: ['global health expert; data visionary']}</td>\n",
              "      <td>{0: 'In Hans Rosling’s hands, data sings. Glob...</td>\n",
              "      <td>14501685</td>\n",
              "      <td>2006-02-22</td>\n",
              "      <td>2006-06-27</td>\n",
              "      <td>TED2006</td>\n",
              "      <td>en</td>\n",
              "      <td>['ar', 'az', 'bg', 'bn', 'bs', 'cs', 'da', 'de...</td>\n",
              "      <td>628.0</td>\n",
              "      <td>1190</td>\n",
              "      <td>['Africa', 'Asia', 'Google', 'demo', 'economic...</td>\n",
              "      <td>{2056: \"Own your body's data\", 2296: 'A visual...</td>\n",
              "      <td>https://www.ted.com/talks/hans_rosling_the_bes...</td>\n",
              "      <td>You've never seen data presented like this. Wi...</td>\n",
              "      <td>About 10 years ago, I took on the task to teac...</td>\n",
              "    </tr>\n",
              "    <tr>\n",
              "      <th>2</th>\n",
              "      <td>7</td>\n",
              "      <td>Simplicity sells</td>\n",
              "      <td>David Pogue</td>\n",
              "      <td>{0: 'David Pogue'}</td>\n",
              "      <td>{0: ['technology columnist']}</td>\n",
              "      <td>{0: 'David Pogue is the personal technology co...</td>\n",
              "      <td>1920832</td>\n",
              "      <td>2006-02-24</td>\n",
              "      <td>2006-06-27</td>\n",
              "      <td>TED2006</td>\n",
              "      <td>en</td>\n",
              "      <td>['ar', 'bg', 'de', 'el', 'en', 'es', 'fa', 'fr...</td>\n",
              "      <td>124.0</td>\n",
              "      <td>1286</td>\n",
              "      <td>['computers', 'entertainment', 'interface desi...</td>\n",
              "      <td>{1725: '10 top time-saving tech tips', 2274: '...</td>\n",
              "      <td>https://www.ted.com/talks/david_pogue_simplici...</td>\n",
              "      <td>New York Times columnist David Pogue takes aim...</td>\n",
              "      <td>(Music: \"The Sound of Silence,\" Simon &amp; Garfun...</td>\n",
              "    </tr>\n",
              "    <tr>\n",
              "      <th>3</th>\n",
              "      <td>53</td>\n",
              "      <td>Greening the ghetto</td>\n",
              "      <td>Majora Carter</td>\n",
              "      <td>{0: 'Majora Carter'}</td>\n",
              "      <td>{0: ['activist for environmental justice']}</td>\n",
              "      <td>{0: 'Majora Carter redefined the field of envi...</td>\n",
              "      <td>2664069</td>\n",
              "      <td>2006-02-26</td>\n",
              "      <td>2006-06-27</td>\n",
              "      <td>TED2006</td>\n",
              "      <td>en</td>\n",
              "      <td>['ar', 'bg', 'bn', 'ca', 'cs', 'de', 'en', 'es...</td>\n",
              "      <td>219.0</td>\n",
              "      <td>1116</td>\n",
              "      <td>['MacArthur grant', 'activism', 'business', 'c...</td>\n",
              "      <td>{1041: '3 stories of local eco-entrepreneurshi...</td>\n",
              "      <td>https://www.ted.com/talks/majora_carter_greeni...</td>\n",
              "      <td>In an emotionally charged talk, MacArthur-winn...</td>\n",
              "      <td>If you're here today — and I'm very happy that...</td>\n",
              "    </tr>\n",
              "    <tr>\n",
              "      <th>4</th>\n",
              "      <td>66</td>\n",
              "      <td>Do schools kill creativity?</td>\n",
              "      <td>Sir Ken Robinson</td>\n",
              "      <td>{0: 'Sir Ken Robinson'}</td>\n",
              "      <td>{0: ['author', 'educator']}</td>\n",
              "      <td>{0: \"Creativity expert Sir Ken Robinson challe...</td>\n",
              "      <td>65051954</td>\n",
              "      <td>2006-02-25</td>\n",
              "      <td>2006-06-27</td>\n",
              "      <td>TED2006</td>\n",
              "      <td>en</td>\n",
              "      <td>['af', 'ar', 'az', 'be', 'bg', 'bn', 'ca', 'cs...</td>\n",
              "      <td>4931.0</td>\n",
              "      <td>1164</td>\n",
              "      <td>['children', 'creativity', 'culture', 'dance',...</td>\n",
              "      <td>{865: 'Bring on the learning revolution!', 173...</td>\n",
              "      <td>https://www.ted.com/talks/sir_ken_robinson_do_...</td>\n",
              "      <td>Sir Ken Robinson makes an entertaining and pro...</td>\n",
              "      <td>Good morning. How are you? (Audience) Good. It...</td>\n",
              "    </tr>\n",
              "  </tbody>\n",
              "</table>\n",
              "</div>"
            ],
            "text/plain": [
              "   talk_id  ...                                         transcript\n",
              "0        1  ...  Thank you so much, Chris. And it's truly a gre...\n",
              "1       92  ...  About 10 years ago, I took on the task to teac...\n",
              "2        7  ...  (Music: \"The Sound of Silence,\" Simon & Garfun...\n",
              "3       53  ...  If you're here today — and I'm very happy that...\n",
              "4       66  ...  Good morning. How are you? (Audience) Good. It...\n",
              "\n",
              "[5 rows x 19 columns]"
            ]
          },
          "metadata": {},
          "execution_count": 342
        }
      ]
    },
    {
      "cell_type": "code",
      "metadata": {
        "colab": {
          "base_uri": "https://localhost:8080/",
          "height": 636
        },
        "id": "qGwrEKpv0udu",
        "outputId": "45c28520-639f-4e7a-dc8d-1822008cf4e3"
      },
      "source": [
        "# Summary about dataset\n",
        "result.sort_values('Missing', ascending= False)"
      ],
      "execution_count": null,
      "outputs": [
        {
          "output_type": "execute_result",
          "data": {
            "text/html": [
              "<div>\n",
              "<style scoped>\n",
              "    .dataframe tbody tr th:only-of-type {\n",
              "        vertical-align: middle;\n",
              "    }\n",
              "\n",
              "    .dataframe tbody tr th {\n",
              "        vertical-align: top;\n",
              "    }\n",
              "\n",
              "    .dataframe thead th {\n",
              "        text-align: right;\n",
              "    }\n",
              "</style>\n",
              "<table border=\"1\" class=\"dataframe\">\n",
              "  <thead>\n",
              "    <tr style=\"text-align: right;\">\n",
              "      <th></th>\n",
              "      <th>Name</th>\n",
              "      <th>dtypes</th>\n",
              "      <th>Missing</th>\n",
              "      <th>Uniques</th>\n",
              "      <th>First Value</th>\n",
              "      <th>Second Value</th>\n",
              "    </tr>\n",
              "  </thead>\n",
              "  <tbody>\n",
              "    <tr>\n",
              "      <th>12</th>\n",
              "      <td>comments</td>\n",
              "      <td>float64</td>\n",
              "      <td>655</td>\n",
              "      <td>601</td>\n",
              "      <td>272</td>\n",
              "      <td>628</td>\n",
              "    </tr>\n",
              "    <tr>\n",
              "      <th>4</th>\n",
              "      <td>occupations</td>\n",
              "      <td>object</td>\n",
              "      <td>522</td>\n",
              "      <td>2049</td>\n",
              "      <td>{0: ['climate advocate']}</td>\n",
              "      <td>{0: ['global health expert; data visionary']}</td>\n",
              "    </tr>\n",
              "    <tr>\n",
              "      <th>5</th>\n",
              "      <td>about_speakers</td>\n",
              "      <td>object</td>\n",
              "      <td>503</td>\n",
              "      <td>2977</td>\n",
              "      <td>{0: 'Nobel Laureate Al Gore focused the world’...</td>\n",
              "      <td>{0: 'In Hans Rosling’s hands, data sings. Glob...</td>\n",
              "    </tr>\n",
              "    <tr>\n",
              "      <th>3</th>\n",
              "      <td>all_speakers</td>\n",
              "      <td>object</td>\n",
              "      <td>4</td>\n",
              "      <td>3306</td>\n",
              "      <td>{0: 'Al Gore'}</td>\n",
              "      <td>{0: 'Hans Rosling'}</td>\n",
              "    </tr>\n",
              "    <tr>\n",
              "      <th>7</th>\n",
              "      <td>recorded_date</td>\n",
              "      <td>object</td>\n",
              "      <td>1</td>\n",
              "      <td>1334</td>\n",
              "      <td>2006-02-25</td>\n",
              "      <td>2006-02-22</td>\n",
              "    </tr>\n",
              "    <tr>\n",
              "      <th>0</th>\n",
              "      <td>talk_id</td>\n",
              "      <td>int64</td>\n",
              "      <td>0</td>\n",
              "      <td>4005</td>\n",
              "      <td>1</td>\n",
              "      <td>92</td>\n",
              "    </tr>\n",
              "    <tr>\n",
              "      <th>17</th>\n",
              "      <td>description</td>\n",
              "      <td>object</td>\n",
              "      <td>0</td>\n",
              "      <td>4005</td>\n",
              "      <td>With the same humor and humanity he exuded in ...</td>\n",
              "      <td>You've never seen data presented like this. Wi...</td>\n",
              "    </tr>\n",
              "    <tr>\n",
              "      <th>16</th>\n",
              "      <td>url</td>\n",
              "      <td>object</td>\n",
              "      <td>0</td>\n",
              "      <td>4005</td>\n",
              "      <td>https://www.ted.com/talks/al_gore_averting_the...</td>\n",
              "      <td>https://www.ted.com/talks/hans_rosling_the_bes...</td>\n",
              "    </tr>\n",
              "    <tr>\n",
              "      <th>15</th>\n",
              "      <td>related_talks</td>\n",
              "      <td>object</td>\n",
              "      <td>0</td>\n",
              "      <td>4005</td>\n",
              "      <td>{243: 'New thinking on the climate crisis', 54...</td>\n",
              "      <td>{2056: \"Own your body's data\", 2296: 'A visual...</td>\n",
              "    </tr>\n",
              "    <tr>\n",
              "      <th>14</th>\n",
              "      <td>topics</td>\n",
              "      <td>object</td>\n",
              "      <td>0</td>\n",
              "      <td>3977</td>\n",
              "      <td>['alternative energy', 'cars', 'climate change...</td>\n",
              "      <td>['Africa', 'Asia', 'Google', 'demo', 'economic...</td>\n",
              "    </tr>\n",
              "    <tr>\n",
              "      <th>13</th>\n",
              "      <td>duration</td>\n",
              "      <td>int64</td>\n",
              "      <td>0</td>\n",
              "      <td>1188</td>\n",
              "      <td>977</td>\n",
              "      <td>1190</td>\n",
              "    </tr>\n",
              "    <tr>\n",
              "      <th>9</th>\n",
              "      <td>event</td>\n",
              "      <td>object</td>\n",
              "      <td>0</td>\n",
              "      <td>459</td>\n",
              "      <td>TED2006</td>\n",
              "      <td>TED2006</td>\n",
              "    </tr>\n",
              "    <tr>\n",
              "      <th>11</th>\n",
              "      <td>available_lang</td>\n",
              "      <td>object</td>\n",
              "      <td>0</td>\n",
              "      <td>3902</td>\n",
              "      <td>['ar', 'bg', 'cs', 'de', 'el', 'en', 'es', 'fa...</td>\n",
              "      <td>['ar', 'az', 'bg', 'bn', 'bs', 'cs', 'da', 'de...</td>\n",
              "    </tr>\n",
              "    <tr>\n",
              "      <th>10</th>\n",
              "      <td>native_lang</td>\n",
              "      <td>object</td>\n",
              "      <td>0</td>\n",
              "      <td>12</td>\n",
              "      <td>en</td>\n",
              "      <td>en</td>\n",
              "    </tr>\n",
              "    <tr>\n",
              "      <th>1</th>\n",
              "      <td>title</td>\n",
              "      <td>object</td>\n",
              "      <td>0</td>\n",
              "      <td>4005</td>\n",
              "      <td>Averting the climate crisis</td>\n",
              "      <td>The best stats you've ever seen</td>\n",
              "    </tr>\n",
              "    <tr>\n",
              "      <th>8</th>\n",
              "      <td>published_date</td>\n",
              "      <td>object</td>\n",
              "      <td>0</td>\n",
              "      <td>2962</td>\n",
              "      <td>2006-06-27</td>\n",
              "      <td>2006-06-27</td>\n",
              "    </tr>\n",
              "    <tr>\n",
              "      <th>6</th>\n",
              "      <td>views</td>\n",
              "      <td>int64</td>\n",
              "      <td>0</td>\n",
              "      <td>3996</td>\n",
              "      <td>3523392</td>\n",
              "      <td>14501685</td>\n",
              "    </tr>\n",
              "    <tr>\n",
              "      <th>2</th>\n",
              "      <td>speaker_1</td>\n",
              "      <td>object</td>\n",
              "      <td>0</td>\n",
              "      <td>3274</td>\n",
              "      <td>Al Gore</td>\n",
              "      <td>Hans Rosling</td>\n",
              "    </tr>\n",
              "    <tr>\n",
              "      <th>18</th>\n",
              "      <td>transcript</td>\n",
              "      <td>object</td>\n",
              "      <td>0</td>\n",
              "      <td>4005</td>\n",
              "      <td>Thank you so much, Chris. And it's truly a gre...</td>\n",
              "      <td>About 10 years ago, I took on the task to teac...</td>\n",
              "    </tr>\n",
              "  </tbody>\n",
              "</table>\n",
              "</div>"
            ],
            "text/plain": [
              "              Name  ...                                       Second Value\n",
              "12        comments  ...                                                628\n",
              "4      occupations  ...      {0: ['global health expert; data visionary']}\n",
              "5   about_speakers  ...  {0: 'In Hans Rosling’s hands, data sings. Glob...\n",
              "3     all_speakers  ...                                {0: 'Hans Rosling'}\n",
              "7    recorded_date  ...                                         2006-02-22\n",
              "0          talk_id  ...                                                 92\n",
              "17     description  ...  You've never seen data presented like this. Wi...\n",
              "16             url  ...  https://www.ted.com/talks/hans_rosling_the_bes...\n",
              "15   related_talks  ...  {2056: \"Own your body's data\", 2296: 'A visual...\n",
              "14          topics  ...  ['Africa', 'Asia', 'Google', 'demo', 'economic...\n",
              "13        duration  ...                                               1190\n",
              "9            event  ...                                            TED2006\n",
              "11  available_lang  ...  ['ar', 'az', 'bg', 'bn', 'bs', 'cs', 'da', 'de...\n",
              "10     native_lang  ...                                                 en\n",
              "1            title  ...                    The best stats you've ever seen\n",
              "8   published_date  ...                                         2006-06-27\n",
              "6            views  ...                                           14501685\n",
              "2        speaker_1  ...                                       Hans Rosling\n",
              "18      transcript  ...  About 10 years ago, I took on the task to teac...\n",
              "\n",
              "[19 rows x 6 columns]"
            ]
          },
          "metadata": {},
          "execution_count": 343
        }
      ]
    },
    {
      "cell_type": "markdown",
      "metadata": {
        "id": "xwXiXA5a8zwy"
      },
      "source": [
        "This is the dataset summary where we have seen "
      ]
    },
    {
      "cell_type": "markdown",
      "metadata": {
        "id": "woHuXjxkOXC-"
      },
      "source": [
        "**Dataset is loaded. So, let's go with EDA on features.**"
      ]
    },
    {
      "cell_type": "markdown",
      "metadata": {
        "id": "20nxEUyu3dbA"
      },
      "source": [
        "#**3.Exploratory Data Analysis**"
      ]
    },
    {
      "cell_type": "code",
      "metadata": {
        "colab": {
          "base_uri": "https://localhost:8080/"
        },
        "id": "_CE6pXifwDK-",
        "outputId": "c70ba45c-7223-42d6-aa56-ee2c17425f7c"
      },
      "source": [
        "#printing the shape of the dataset.\n",
        "data.shape"
      ],
      "execution_count": null,
      "outputs": [
        {
          "output_type": "execute_result",
          "data": {
            "text/plain": [
              "(4005, 19)"
            ]
          },
          "metadata": {},
          "execution_count": 344
        }
      ]
    },
    {
      "cell_type": "code",
      "metadata": {
        "id": "aRUuilQ88_sn"
      },
      "source": [
        "dataset=data.copy()"
      ],
      "execution_count": null,
      "outputs": []
    },
    {
      "cell_type": "code",
      "metadata": {
        "colab": {
          "base_uri": "https://localhost:8080/"
        },
        "id": "PbYkLhUv9EEQ",
        "outputId": "48eae884-ca52-4398-da20-1fee0be6f839"
      },
      "source": [
        "dataset['talk_id'].nunique()/(len(dataset))"
      ],
      "execution_count": null,
      "outputs": [
        {
          "output_type": "execute_result",
          "data": {
            "text/plain": [
              "1.0"
            ]
          },
          "metadata": {},
          "execution_count": 346
        }
      ]
    },
    {
      "cell_type": "markdown",
      "metadata": {
        "id": "BcpQABwO-UKb"
      },
      "source": [
        "There are missing value in the data\n",
        "By looking at the info of the dataset we can get a rough idea on the numeric and the string columns\n",
        "By looking at the summary of the data we can infer the mean,standard deviation, min and max of the\n",
        "We will be able to get an idea about the outliers here by the percentiles"
      ]
    },
    {
      "cell_type": "code",
      "metadata": {
        "colab": {
          "base_uri": "https://localhost:8080/",
          "height": 172
        },
        "id": "ct9tbWHz-RRC",
        "outputId": "82824931-ffa2-4e34-fa0e-74bc231dba95"
      },
      "source": [
        "dataset.describe(percentiles = [.25,.50,.75,.95,.99]).T"
      ],
      "execution_count": null,
      "outputs": [
        {
          "output_type": "execute_result",
          "data": {
            "text/html": [
              "<div>\n",
              "<style scoped>\n",
              "    .dataframe tbody tr th:only-of-type {\n",
              "        vertical-align: middle;\n",
              "    }\n",
              "\n",
              "    .dataframe tbody tr th {\n",
              "        vertical-align: top;\n",
              "    }\n",
              "\n",
              "    .dataframe thead th {\n",
              "        text-align: right;\n",
              "    }\n",
              "</style>\n",
              "<table border=\"1\" class=\"dataframe\">\n",
              "  <thead>\n",
              "    <tr style=\"text-align: right;\">\n",
              "      <th></th>\n",
              "      <th>count</th>\n",
              "      <th>mean</th>\n",
              "      <th>std</th>\n",
              "      <th>min</th>\n",
              "      <th>25%</th>\n",
              "      <th>50%</th>\n",
              "      <th>75%</th>\n",
              "      <th>95%</th>\n",
              "      <th>99%</th>\n",
              "      <th>max</th>\n",
              "    </tr>\n",
              "  </thead>\n",
              "  <tbody>\n",
              "    <tr>\n",
              "      <th>talk_id</th>\n",
              "      <td>4005.0</td>\n",
              "      <td>1.243254e+04</td>\n",
              "      <td>1.744758e+04</td>\n",
              "      <td>1.0</td>\n",
              "      <td>1252.0</td>\n",
              "      <td>2333.0</td>\n",
              "      <td>23777.0</td>\n",
              "      <td>52465.80</td>\n",
              "      <td>60751.60</td>\n",
              "      <td>62794.0</td>\n",
              "    </tr>\n",
              "    <tr>\n",
              "      <th>views</th>\n",
              "      <td>4005.0</td>\n",
              "      <td>2.148006e+06</td>\n",
              "      <td>3.451226e+06</td>\n",
              "      <td>0.0</td>\n",
              "      <td>882069.0</td>\n",
              "      <td>1375508.0</td>\n",
              "      <td>2133110.0</td>\n",
              "      <td>6182301.40</td>\n",
              "      <td>16299833.68</td>\n",
              "      <td>65051954.0</td>\n",
              "    </tr>\n",
              "    <tr>\n",
              "      <th>comments</th>\n",
              "      <td>3350.0</td>\n",
              "      <td>1.619970e+02</td>\n",
              "      <td>2.688389e+02</td>\n",
              "      <td>0.0</td>\n",
              "      <td>38.0</td>\n",
              "      <td>89.0</td>\n",
              "      <td>188.0</td>\n",
              "      <td>531.65</td>\n",
              "      <td>1038.73</td>\n",
              "      <td>6449.0</td>\n",
              "    </tr>\n",
              "    <tr>\n",
              "      <th>duration</th>\n",
              "      <td>4005.0</td>\n",
              "      <td>7.240112e+02</td>\n",
              "      <td>3.617755e+02</td>\n",
              "      <td>60.0</td>\n",
              "      <td>393.0</td>\n",
              "      <td>738.0</td>\n",
              "      <td>974.0</td>\n",
              "      <td>1230.80</td>\n",
              "      <td>1601.12</td>\n",
              "      <td>3922.0</td>\n",
              "    </tr>\n",
              "  </tbody>\n",
              "</table>\n",
              "</div>"
            ],
            "text/plain": [
              "           count          mean  ...          99%         max\n",
              "talk_id   4005.0  1.243254e+04  ...     60751.60     62794.0\n",
              "views     4005.0  2.148006e+06  ...  16299833.68  65051954.0\n",
              "comments  3350.0  1.619970e+02  ...      1038.73      6449.0\n",
              "duration  4005.0  7.240112e+02  ...      1601.12      3922.0\n",
              "\n",
              "[4 rows x 10 columns]"
            ]
          },
          "metadata": {},
          "execution_count": 347
        }
      ]
    },
    {
      "cell_type": "code",
      "metadata": {
        "colab": {
          "base_uri": "https://localhost:8080/",
          "height": 512
        },
        "id": "R_ZunrOQ-Ybw",
        "outputId": "6c1f6daf-28a8-490a-c64f-4ca90efa4174"
      },
      "source": [
        "dataset.describe(include='object').T"
      ],
      "execution_count": null,
      "outputs": [
        {
          "output_type": "execute_result",
          "data": {
            "text/html": [
              "<div>\n",
              "<style scoped>\n",
              "    .dataframe tbody tr th:only-of-type {\n",
              "        vertical-align: middle;\n",
              "    }\n",
              "\n",
              "    .dataframe tbody tr th {\n",
              "        vertical-align: top;\n",
              "    }\n",
              "\n",
              "    .dataframe thead th {\n",
              "        text-align: right;\n",
              "    }\n",
              "</style>\n",
              "<table border=\"1\" class=\"dataframe\">\n",
              "  <thead>\n",
              "    <tr style=\"text-align: right;\">\n",
              "      <th></th>\n",
              "      <th>count</th>\n",
              "      <th>unique</th>\n",
              "      <th>top</th>\n",
              "      <th>freq</th>\n",
              "    </tr>\n",
              "  </thead>\n",
              "  <tbody>\n",
              "    <tr>\n",
              "      <th>title</th>\n",
              "      <td>4005</td>\n",
              "      <td>4005</td>\n",
              "      <td>A musical escape into a world of light and color</td>\n",
              "      <td>1</td>\n",
              "    </tr>\n",
              "    <tr>\n",
              "      <th>speaker_1</th>\n",
              "      <td>4005</td>\n",
              "      <td>3274</td>\n",
              "      <td>Alex Gendler</td>\n",
              "      <td>34</td>\n",
              "    </tr>\n",
              "    <tr>\n",
              "      <th>all_speakers</th>\n",
              "      <td>4001</td>\n",
              "      <td>3306</td>\n",
              "      <td>{0: 'Alex Gendler'}</td>\n",
              "      <td>34</td>\n",
              "    </tr>\n",
              "    <tr>\n",
              "      <th>occupations</th>\n",
              "      <td>3483</td>\n",
              "      <td>2049</td>\n",
              "      <td>{0: ['writer']}</td>\n",
              "      <td>53</td>\n",
              "    </tr>\n",
              "    <tr>\n",
              "      <th>about_speakers</th>\n",
              "      <td>3502</td>\n",
              "      <td>2977</td>\n",
              "      <td>{0: 'Alex Rosenthal takes everyday experiences...</td>\n",
              "      <td>10</td>\n",
              "    </tr>\n",
              "    <tr>\n",
              "      <th>recorded_date</th>\n",
              "      <td>4004</td>\n",
              "      <td>1334</td>\n",
              "      <td>2017-04-24</td>\n",
              "      <td>97</td>\n",
              "    </tr>\n",
              "    <tr>\n",
              "      <th>published_date</th>\n",
              "      <td>4005</td>\n",
              "      <td>2962</td>\n",
              "      <td>2017-09-07</td>\n",
              "      <td>27</td>\n",
              "    </tr>\n",
              "    <tr>\n",
              "      <th>event</th>\n",
              "      <td>4005</td>\n",
              "      <td>459</td>\n",
              "      <td>TED-Ed</td>\n",
              "      <td>556</td>\n",
              "    </tr>\n",
              "    <tr>\n",
              "      <th>native_lang</th>\n",
              "      <td>4005</td>\n",
              "      <td>12</td>\n",
              "      <td>en</td>\n",
              "      <td>3957</td>\n",
              "    </tr>\n",
              "    <tr>\n",
              "      <th>available_lang</th>\n",
              "      <td>4005</td>\n",
              "      <td>3902</td>\n",
              "      <td>['en']</td>\n",
              "      <td>24</td>\n",
              "    </tr>\n",
              "    <tr>\n",
              "      <th>topics</th>\n",
              "      <td>4005</td>\n",
              "      <td>3977</td>\n",
              "      <td>['TED-Ed', 'math']</td>\n",
              "      <td>8</td>\n",
              "    </tr>\n",
              "    <tr>\n",
              "      <th>related_talks</th>\n",
              "      <td>4005</td>\n",
              "      <td>4005</td>\n",
              "      <td>{587: 'Teach statistics before calculus!', 259...</td>\n",
              "      <td>1</td>\n",
              "    </tr>\n",
              "    <tr>\n",
              "      <th>url</th>\n",
              "      <td>4005</td>\n",
              "      <td>4005</td>\n",
              "      <td>https://www.ted.com/talks/alex_wissner_gross_a...</td>\n",
              "      <td>1</td>\n",
              "    </tr>\n",
              "    <tr>\n",
              "      <th>description</th>\n",
              "      <td>4005</td>\n",
              "      <td>4005</td>\n",
              "      <td>Garik Israelian is a spectroscopist, studying ...</td>\n",
              "      <td>1</td>\n",
              "    </tr>\n",
              "    <tr>\n",
              "      <th>transcript</th>\n",
              "      <td>4005</td>\n",
              "      <td>4005</td>\n",
              "      <td>Periods. Blood. Menstruation. Gross. Secret. H...</td>\n",
              "      <td>1</td>\n",
              "    </tr>\n",
              "  </tbody>\n",
              "</table>\n",
              "</div>"
            ],
            "text/plain": [
              "               count  ...  freq\n",
              "title           4005  ...     1\n",
              "speaker_1       4005  ...    34\n",
              "all_speakers    4001  ...    34\n",
              "occupations     3483  ...    53\n",
              "about_speakers  3502  ...    10\n",
              "recorded_date   4004  ...    97\n",
              "published_date  4005  ...    27\n",
              "event           4005  ...   556\n",
              "native_lang     4005  ...  3957\n",
              "available_lang  4005  ...    24\n",
              "topics          4005  ...     8\n",
              "related_talks   4005  ...     1\n",
              "url             4005  ...     1\n",
              "description     4005  ...     1\n",
              "transcript      4005  ...     1\n",
              "\n",
              "[15 rows x 4 columns]"
            ]
          },
          "metadata": {},
          "execution_count": 348
        }
      ]
    },
    {
      "cell_type": "markdown",
      "metadata": {
        "id": "0J0iRFZRgxe3"
      },
      "source": [
        "##**Visualization Part**"
      ]
    },
    {
      "cell_type": "markdown",
      "metadata": {
        "id": "sQRvjvL6BI6z"
      },
      "source": [
        "# Visualization for numerical parts"
      ]
    },
    {
      "cell_type": "code",
      "metadata": {
        "colab": {
          "base_uri": "https://localhost:8080/",
          "height": 374
        },
        "id": "gfxruL9ygWYy",
        "outputId": "5d73c6f9-dd74-452f-d5b2-c36559abb056"
      },
      "source": [
        "#visualizing the distplot of views:\n",
        "plt.figure(figsize=(15,5))\n",
        "sns.distplot(data['views'])"
      ],
      "execution_count": null,
      "outputs": [
        {
          "output_type": "execute_result",
          "data": {
            "text/plain": [
              "<matplotlib.axes._subplots.AxesSubplot at 0x7f1b232daf90>"
            ]
          },
          "metadata": {},
          "execution_count": 349
        },
        {
          "output_type": "display_data",
          "data": {
            "image/png": "[encoded data removed]",
            "text/plain": [
              "<Figure size 1080x360 with 1 Axes>"
            ]
          },
          "metadata": {
            "needs_background": "light"
          }
        }
      ]
    },
    {
      "cell_type": "markdown",
      "metadata": {
        "id": "AAy_5yBFbiQ2"
      },
      "source": [
        "* **As shown from the graph 'views' feature  is positively skewed.**\n",
        "\n",
        "\n"
      ]
    },
    {
      "cell_type": "code",
      "metadata": {
        "colab": {
          "base_uri": "https://localhost:8080/",
          "height": 360
        },
        "id": "l8JMJ5NyCBz2",
        "outputId": "1c898bfb-53c2-437f-a506-60b53b93b4b9"
      },
      "source": [
        "#visualization of duration\n",
        "plt.figure(figsize=(10,5))\n",
        "sns.distplot(data['duration'])"
      ],
      "execution_count": null,
      "outputs": [
        {
          "output_type": "execute_result",
          "data": {
            "text/plain": [
              "<matplotlib.axes._subplots.AxesSubplot at 0x7f1b1b2e99d0>"
            ]
          },
          "metadata": {},
          "execution_count": 350
        },
        {
          "output_type": "display_data",
          "data": {
            "image/png": "[encoded data removed]",
            "text/plain": [
              "<Figure size 720x360 with 1 Axes>"
            ]
          },
          "metadata": {
            "needs_background": "light"
          }
        }
      ]
    },
    {
      "cell_type": "code",
      "metadata": {
        "colab": {
          "base_uri": "https://localhost:8080/",
          "height": 362
        },
        "id": "9BLuqT-dCaJO",
        "outputId": "b952f66c-6f56-4005-f682-8530df51c45e"
      },
      "source": [
        "##visualization of the comments\n",
        "plt.figure(figsize=(10,5))\n",
        "sns.distplot(data['comments'])"
      ],
      "execution_count": null,
      "outputs": [
        {
          "output_type": "execute_result",
          "data": {
            "text/plain": [
              "<matplotlib.axes._subplots.AxesSubplot at 0x7f1b1a55ca50>"
            ]
          },
          "metadata": {},
          "execution_count": 351
        },
        {
          "output_type": "display_data",
          "data": {
            "image/png": "[encoded data removed]",
            "text/plain": [
              "<Figure size 720x360 with 1 Axes>"
            ]
          },
          "metadata": {
            "needs_background": "light"
          }
        }
      ]
    },
    {
      "cell_type": "markdown",
      "metadata": {
        "id": "mqRVneiCRXhD"
      },
      "source": [
        "#**4.Data Preprocessing and Feature Engineering**\n",
        "\n"
      ]
    },
    {
      "cell_type": "markdown",
      "metadata": {
        "id": "TUVB0PWFbKjx"
      },
      "source": [
        "Feature engineering is an informal topic, but one that is absolutely known and agreed to be key to success in applied machine learning."
      ]
    },
    {
      "cell_type": "markdown",
      "metadata": {
        "id": "8dLeUKyys2Gw"
      },
      "source": [
        "# Adding a daily views column for further analysis:"
      ]
    },
    {
      "cell_type": "markdown",
      "metadata": {
        "id": "stSl55ANt8Xd"
      },
      "source": [
        "# Formatting Datetime type:"
      ]
    },
    {
      "cell_type": "code",
      "metadata": {
        "colab": {
          "base_uri": "https://localhost:8080/",
          "height": 36
        },
        "id": "hdWWjuPis0c6",
        "outputId": "51d47063-875e-4fc6-9222-761487e88626"
      },
      "source": [
        "# importing Datetime\n",
        "from datetime import datetime\n",
        "import calendar\n",
        "# Setting the Datetime formate: \n",
        "today = datetime.now()\n",
        "today.strftime('%Y-%m-%d')"
      ],
      "execution_count": null,
      "outputs": [
        {
          "output_type": "execute_result",
          "data": {
            "application/vnd.google.colaboratory.intrinsic+json": {
              "type": "string"
            },
            "text/plain": [
              "'2021-09-12'"
            ]
          },
          "metadata": {},
          "execution_count": 352
        }
      ]
    },
    {
      "cell_type": "code",
      "metadata": {
        "id": "99uhbER-taP6"
      },
      "source": [
        "# Recorded date fromate:\n",
        "data['recorded_date']= pd.to_datetime(data['recorded_date'])\n",
        "# Formating the published date time:\n",
        "data['published_date']= pd.to_datetime(data['published_date'])\n",
        "\n",
        "# Period of day's talk has been published:\n",
        "last_publishing_date = data['published_date'].max()\n",
        "\n",
        "data['time_since_published'] = last_publishing_date - pd.DatetimeIndex(data['published_date'])"
      ],
      "execution_count": null,
      "outputs": []
    },
    {
      "cell_type": "code",
      "metadata": {
        "id": "f3tig2njKNVS"
      },
      "source": [
        "month_order = ['Jan', 'Feb', 'Mar', 'Apr', 'May', 'Jun', 'Jul', 'Aug', 'Sep', 'Oct', 'Nov', 'Dec']\n",
        "day_order   = ['Mon', 'Tue', 'Wed', 'Thu', 'Fri', 'Sat', 'Sun']"
      ],
      "execution_count": null,
      "outputs": []
    },
    {
      "cell_type": "code",
      "metadata": {
        "id": "FvELvK_6JmHW"
      },
      "source": [
        "import datetime\n",
        "data['month'] = pd.DatetimeIndex(data['published_date']).month\n",
        "data['month'] = data['month'].apply(lambda x: calendar.month_abbr[x])\n",
        "data['year'] = pd.DatetimeIndex(data['published_date']).year\n",
        "data['day'] = pd.DatetimeIndex(data['published_date']).day\n",
        "data['week_day']= data['published_date'].apply(lambda x: day_order[datetime.date(x.year, x.month, x.day).weekday()])\n"
      ],
      "execution_count": null,
      "outputs": []
    },
    {
      "cell_type": "markdown",
      "metadata": {
        "id": "PQxrc0GRuAsY"
      },
      "source": [
        "# Creating daily views column:"
      ]
    },
    {
      "cell_type": "code",
      "metadata": {
        "id": "FUbVL1uetmCA"
      },
      "source": [
        "# Daily views/Talk:\n",
        "data['daily_views'] = data['views'] / ( data['time_since_published'].apply(lambda x : x.days) + 1 )"
      ],
      "execution_count": null,
      "outputs": []
    },
    {
      "cell_type": "markdown",
      "metadata": {
        "id": "h55eFjQ00Sy6"
      },
      "source": [
        "# Categarising Variable types:"
      ]
    },
    {
      "cell_type": "markdown",
      "metadata": {
        "id": "k6t03Cwdy1Je"
      },
      "source": [
        "data_categorical= data[['title', 'speaker_1', 'all_speakers', 'occupations',\n",
        "       'about_speakers',\n",
        "       'native_lang', 'available_lang', 'comments', 'topics',\n",
        "       'related_talks', 'url', 'description', 'transcript']]\n",
        "data_numerical= data[['talk_id','views', 'duration']] \n",
        "\n",
        "data_target_variable= data[['views']]"
      ]
    },
    {
      "cell_type": "markdown",
      "metadata": {
        "id": "QqhT0xM3zF2l"
      },
      "source": [
        ""
      ]
    },
    {
      "cell_type": "markdown",
      "metadata": {
        "id": "5YlgHRJ9yarK"
      },
      "source": [
        "# Bivariate Analysis of different features vs. target variable:"
      ]
    },
    {
      "cell_type": "markdown",
      "metadata": {
        "id": "yAb6w4Yp0uyi"
      },
      "source": [
        "<b> Speaker_1 vs. daily_views:</b>"
      ]
    },
    {
      "cell_type": "code",
      "metadata": {
        "colab": {
          "base_uri": "https://localhost:8080/",
          "height": 518
        },
        "id": "wW_pdZ5AypuY",
        "outputId": "b1ddc798-0edc-4bd6-fbae-3632615c6983"
      },
      "source": [
        "#top 25 speakers\n",
        "temp=data.groupby(['speaker_1'],as_index=False)['daily_views'].sum().sort_values('daily_views',ascending=False)[:5]\n",
        "plt.figure(figsize=(8,6))\n",
        "ax=sns.barplot(x='speaker_1', y='daily_views',data=temp)\n",
        "plt.setp(ax.get_xticklabels(), rotation=50);\n",
        "plt.title('Top 5 speaker according to daily_views')\n",
        "ax.grid(False)"
      ],
      "execution_count": null,
      "outputs": [
        {
          "output_type": "display_data",
          "data": {
            "image/png": "[encoded data removed]",
            "text/plain": [
              "<Figure size 576x432 with 1 Axes>"
            ]
          },
          "metadata": {
            "needs_background": "light"
          }
        }
      ]
    },
    {
      "cell_type": "markdown",
      "metadata": {
        "id": "lbG4BLML23xP"
      },
      "source": [
        "<b> speaker vs. talks delivered:</b>"
      ]
    },
    {
      "cell_type": "code",
      "metadata": {
        "id": "EwrNu0qGyaUu",
        "colab": {
          "base_uri": "https://localhost:8080/",
          "height": 414
        },
        "outputId": "df9f76d7-1a2f-4333-eff3-d0ae8d4bbe32"
      },
      "source": [
        "# Speaker vs. talks delivered:\n",
        "speaker_count = data['speaker_1'].value_counts().to_frame()\n",
        "data_speaker_count = pd.DataFrame(speaker_count)\n",
        "data_speaker_count = data_speaker_count.reset_index()\n",
        "data_speaker_count.columns = ['Speaker_name', 'talks_delivered']\n",
        "most_talks = data_speaker_count.nlargest(5, 'talks_delivered')\n",
        "plt.figure(figsize=(10,6))\n",
        "sns.barplot(x = 'Speaker_name', y = 'talks_delivered', data = most_talks)"
      ],
      "execution_count": null,
      "outputs": [
        {
          "output_type": "execute_result",
          "data": {
            "text/plain": [
              "<matplotlib.axes._subplots.AxesSubplot at 0x7f1b1ae73e50>"
            ]
          },
          "metadata": {},
          "execution_count": 358
        },
        {
          "output_type": "display_data",
          "data": {
            "image/png": "[encoded data removed]",
            "text/plain": [
              "<Figure size 720x432 with 1 Axes>"
            ]
          },
          "metadata": {
            "needs_background": "light"
          }
        }
      ]
    },
    {
      "cell_type": "markdown",
      "metadata": {
        "id": "LmB48SckDeZn"
      },
      "source": [
        "<b> speaker vs. duration</b>"
      ]
    },
    {
      "cell_type": "code",
      "metadata": {
        "id": "xXlUjKlwDfJM",
        "colab": {
          "base_uri": "https://localhost:8080/",
          "height": 505
        },
        "outputId": "434449aa-250e-4ae1-9a04-7bccdf6be262"
      },
      "source": [
        "temp=data.groupby(['speaker_1'],as_index=False)['duration'].sum().sort_values('duration',ascending=False)[:25]\n",
        "temp=data.groupby(['speaker_1'],as_index=False).agg({'duration':'sum','talk_id':'count'}).sort_values('duration',ascending=False).reset_index()[:8]\n",
        "temp['talk_id']=temp['duration']/temp['talk_id']\n",
        "plt.figure(figsize=(15,6))\n",
        "ax=sns.barplot(x='speaker_1',y='duration',data=temp)\n",
        "labels=ax.get_xticklabels()\n",
        "plt.setp(labels, rotation=70);"
      ],
      "execution_count": null,
      "outputs": [
        {
          "output_type": "display_data",
          "data": {
            "image/png": "[encoded data removed]",
            "text/plain": [
              "<Figure size 1080x432 with 1 Axes>"
            ]
          },
          "metadata": {
            "needs_background": "light"
          }
        }
      ]
    },
    {
      "cell_type": "markdown",
      "metadata": {
        "id": "7r7zm5yqNANx"
      },
      "source": [
        "<b> speaker1 vs. comments </b>"
      ]
    },
    {
      "cell_type": "code",
      "metadata": {
        "colab": {
          "base_uri": "https://localhost:8080/",
          "height": 538
        },
        "id": "hmcHl23SNJnD",
        "outputId": "5b3b6f33-162c-4995-a282-9854a431fe20"
      },
      "source": [
        "temp=data.groupby(['speaker_1'],as_index=False)['comments'].sum().sort_values('comments',ascending=False)[:5]\n",
        "plt.figure(figsize=(10,6))\n",
        "ax=sns.barplot(x='speaker_1',y='comments',data=temp);\n",
        "plt.setp(ax.get_xticklabels(), rotation=90);\n",
        "plt.title('Most popular speaker according to views')"
      ],
      "execution_count": null,
      "outputs": [
        {
          "output_type": "execute_result",
          "data": {
            "text/plain": [
              "Text(0.5, 1.0, 'Most popular speaker according to views')"
            ]
          },
          "metadata": {},
          "execution_count": 360
        },
        {
          "output_type": "display_data",
          "data": {
            "image/png": "[encoded data removed]",
            "text/plain": [
              "<Figure size 720x432 with 1 Axes>"
            ]
          },
          "metadata": {
            "needs_background": "light"
          }
        }
      ]
    },
    {
      "cell_type": "code",
      "metadata": {
        "colab": {
          "base_uri": "https://localhost:8080/",
          "height": 511
        },
        "id": "LWRuzmNrH9CW",
        "outputId": "ec109d6c-3488-4d5a-ba09-13fec620e8c4"
      },
      "source": [
        "# Speaker most popular video\n",
        "temp=data[['speaker_1','views']].sort_values('views',ascending=False)[:5]\n",
        "plt.figure(figsize=(8,6))\n",
        "ax=sns.barplot(x='speaker_1',y='views',data=temp)\n",
        "plt.setp(ax.get_xticklabels(), rotation=60);\n",
        "plt.title('Speaker_1 with most popular video')\n",
        "plt.ylabel('Avg views in ten millions')\n",
        "ax.grid(False)"
      ],
      "execution_count": null,
      "outputs": [
        {
          "output_type": "display_data",
          "data": {
            "image/png": "[encoded data removed]",
            "text/plain": [
              "<Figure size 576x432 with 1 Axes>"
            ]
          },
          "metadata": {
            "needs_background": "light"
          }
        }
      ]
    },
    {
      "cell_type": "markdown",
      "metadata": {
        "id": "8haxLFodxx6Z"
      },
      "source": [
        "# Applying target encoding on speaker1"
      ]
    },
    {
      "cell_type": "code",
      "metadata": {
        "id": "AQPXX39cRWTO"
      },
      "source": [
        "speaker=data.groupby('speaker_1').agg({'daily_views' : 'mean'}).sort_values(['daily_views'],ascending=False)\n",
        "speaker=speaker.to_dict()\n",
        "speaker=speaker.values()\n",
        "speaker=  list(speaker)[0]\n",
        "data['speaker_1_avg_views']=data['speaker_1'].map(speaker)"
      ],
      "execution_count": null,
      "outputs": []
    },
    {
      "cell_type": "markdown",
      "metadata": {
        "id": "lRSiptMjyGRh"
      },
      "source": [
        "#plot of speaker_1_avg_views:"
      ]
    },
    {
      "cell_type": "code",
      "metadata": {
        "colab": {
          "base_uri": "https://localhost:8080/",
          "height": 360
        },
        "id": "atr6mGj2Rgcu",
        "outputId": "6ae37741-2cfb-4d8d-f1ff-258d2923f097"
      },
      "source": [
        "plt.figure(figsize=(10,5))\n",
        "sns.distplot(data['speaker_1_avg_views'])"
      ],
      "execution_count": null,
      "outputs": [
        {
          "output_type": "execute_result",
          "data": {
            "text/plain": [
              "<matplotlib.axes._subplots.AxesSubplot at 0x7f1b1a76bed0>"
            ]
          },
          "metadata": {},
          "execution_count": 363
        },
        {
          "output_type": "display_data",
          "data": {
            "image/png": "[encoded data removed]",
            "text/plain": [
              "<Figure size 720x360 with 1 Axes>"
            ]
          },
          "metadata": {
            "needs_background": "light"
          }
        }
      ]
    },
    {
      "cell_type": "markdown",
      "metadata": {
        "id": "lEKVDdkMSsbT"
      },
      "source": [
        "#**Event**\n"
      ]
    },
    {
      "cell_type": "markdown",
      "metadata": {
        "id": "6RlkpYj2yRgI"
      },
      "source": [
        "##As event is also a categorical feature, we have done target encoding on it:\n",
        "\n",
        "1.   List item\n",
        "2.   List item\n",
        "\n"
      ]
    },
    {
      "cell_type": "code",
      "metadata": {
        "id": "9j_5_RidS557"
      },
      "source": [
        "event=data.groupby('event').agg({'daily_views' : 'mean'}).sort_values(['daily_views'],ascending=False)\n",
        "event=event.to_dict()\n",
        "event=event.values()\n",
        "event=  list(event)[0]\n",
        "data['event_wise_avg_views']=data['event'].map(event)"
      ],
      "execution_count": null,
      "outputs": []
    },
    {
      "cell_type": "markdown",
      "metadata": {
        "id": "nNqzdE7Gyh-y"
      },
      "source": [
        "# Plot of event_wise_avg_views"
      ]
    },
    {
      "cell_type": "code",
      "metadata": {
        "colab": {
          "base_uri": "https://localhost:8080/",
          "height": 360
        },
        "id": "cUb5OaNkKraL",
        "outputId": "4ee2d78c-9660-4e7f-dbf2-b4bebd3727c9"
      },
      "source": [
        "plt.figure(figsize=(10,5))\n",
        "sns.distplot(data['event_wise_avg_views'])"
      ],
      "execution_count": null,
      "outputs": [
        {
          "output_type": "execute_result",
          "data": {
            "text/plain": [
              "<matplotlib.axes._subplots.AxesSubplot at 0x7f1b18d2edd0>"
            ]
          },
          "metadata": {},
          "execution_count": 365
        },
        {
          "output_type": "display_data",
          "data": {
            "image/png": "[encoded data removed]",
            "text/plain": [
              "<Figure size 720x360 with 1 Axes>"
            ]
          },
          "metadata": {
            "needs_background": "light"
          }
        }
      ]
    },
    {
      "cell_type": "code",
      "metadata": {
        "colab": {
          "base_uri": "https://localhost:8080/",
          "height": 531
        },
        "id": "MmKejo6H6fq6",
        "outputId": "e1680b2d-cf68-4f64-9fbb-4c18244cae2a"
      },
      "source": [
        "temp=data.groupby(['event','year'],as_index=False).agg({'daily_views':'sum','talk_id':'count'}).sort_values('daily_views',ascending=False).reset_index()[:8]\n",
        "temp['talk_id']=temp['daily_views']/temp['talk_id']\n",
        "plt.figure(figsize=(10,6))\n",
        "ax=sns.barplot(x='event',y='daily_views',data=temp)\n",
        "labels=ax.get_xticklabels()\n",
        "plt.title('Top TED Events by daily_views')\n",
        "plt.ylabel('daily_views in million')\n",
        "plt.setp(labels, rotation=50);"
      ],
      "execution_count": null,
      "outputs": [
        {
          "output_type": "display_data",
          "data": {
            "image/png": "[encoded data removed]",
            "text/plain": [
              "<Figure size 720x432 with 1 Axes>"
            ]
          },
          "metadata": {
            "needs_background": "light"
          }
        }
      ]
    },
    {
      "cell_type": "code",
      "metadata": {
        "colab": {
          "base_uri": "https://localhost:8080/",
          "height": 492
        },
        "id": "0V-g73X49KI-",
        "outputId": "4dbdc5ca-fdba-488c-9afe-98c1c1dbf09f"
      },
      "source": [
        "plt.figure(figsize=(10,6))\n",
        "ax=sns.barplot(x='event',y='talk_id',data=temp)\n",
        "labels=ax.get_xticklabels()\n",
        "plt.title('Top TED Events by Average daily_views')\n",
        "plt.xlabel('Events')\n",
        "plt.ylabel('Avg daily_views in millions')\n",
        "\n",
        "plt.setp(labels, rotation=30);"
      ],
      "execution_count": null,
      "outputs": [
        {
          "output_type": "display_data",
          "data": {
            "image/png": "[encoded data removed]",
            "text/plain": [
              "<Figure size 720x432 with 1 Axes>"
            ]
          },
          "metadata": {
            "needs_background": "light"
          }
        }
      ]
    },
    {
      "cell_type": "code",
      "metadata": {
        "colab": {
          "base_uri": "https://localhost:8080/",
          "height": 558
        },
        "id": "EpOHmZXBQE9u",
        "outputId": "871791e4-09d2-42f8-b3e5-09ae74cf90ec"
      },
      "source": [
        "temp=data.groupby(['event','year'],as_index=False).agg({'daily_views':'sum','talk_id':'count'}).sort_values('daily_views',ascending=False).reset_index()[:8]\n",
        "plt.figure(figsize=(10,6))\n",
        "ax=sns.barplot(x='event',y='daily_views',data=temp)\n",
        "labels=ax.get_xticklabels()\n",
        "plt.title('Top TED Events by daily_views')\n",
        "plt.ylabel('daily_views in millions')\n",
        "plt.setp(labels, rotation=90);"
      ],
      "execution_count": null,
      "outputs": [
        {
          "output_type": "display_data",
          "data": {
            "image/png": "[encoded data removed]",
            "text/plain": [
              "<Figure size 720x432 with 1 Axes>"
            ]
          },
          "metadata": {
            "needs_background": "light"
          }
        }
      ]
    },
    {
      "cell_type": "markdown",
      "metadata": {
        "id": "IK4xNij29b1t"
      },
      "source": [
        "#available_lang "
      ]
    },
    {
      "cell_type": "markdown",
      "metadata": {
        "id": "bn1O9ZoZy9Sq"
      },
      "source": [
        "## Applying eval for casting on available_lang column:"
      ]
    },
    {
      "cell_type": "code",
      "metadata": {
        "colab": {
          "base_uri": "https://localhost:8080/"
        },
        "id": "RnMyhEDeC1VP",
        "outputId": "3bd5a43a-8f75-477a-d9d7-854aa10a4df9"
      },
      "source": [
        "data.columns"
      ],
      "execution_count": null,
      "outputs": [
        {
          "output_type": "execute_result",
          "data": {
            "text/plain": [
              "Index(['talk_id', 'title', 'speaker_1', 'all_speakers', 'occupations',\n",
              "       'about_speakers', 'views', 'recorded_date', 'published_date', 'event',\n",
              "       'native_lang', 'available_lang', 'comments', 'duration', 'topics',\n",
              "       'related_talks', 'url', 'description', 'transcript',\n",
              "       'time_since_published', 'month', 'year', 'day', 'week_day',\n",
              "       'daily_views', 'speaker_1_avg_views', 'event_wise_avg_views'],\n",
              "      dtype='object')"
            ]
          },
          "metadata": {},
          "execution_count": 369
        }
      ]
    },
    {
      "cell_type": "markdown",
      "metadata": {
        "id": "mXuRQDNUzRSs"
      },
      "source": [
        "# Density plot of available language column:"
      ]
    },
    {
      "cell_type": "code",
      "metadata": {
        "id": "aPGYQ_TtNjdg"
      },
      "source": [
        "data['number_of_lang'] = data['available_lang'].apply(lambda x: len(x))"
      ],
      "execution_count": null,
      "outputs": []
    },
    {
      "cell_type": "code",
      "metadata": {
        "colab": {
          "base_uri": "https://localhost:8080/",
          "height": 305
        },
        "id": "jb9-ep14_QCv",
        "outputId": "38feed27-3996-434f-f3fb-ed8a5a3ca0c1"
      },
      "source": [
        "sns.distplot(data['number_of_lang'])"
      ],
      "execution_count": null,
      "outputs": [
        {
          "output_type": "execute_result",
          "data": {
            "text/plain": [
              "<matplotlib.axes._subplots.AxesSubplot at 0x7f1b18bea490>"
            ]
          },
          "metadata": {},
          "execution_count": 371
        },
        {
          "output_type": "display_data",
          "data": {
            "image/png": "[encoded data removed]",
            "text/plain": [
              "<Figure size 504x288 with 1 Axes>"
            ]
          },
          "metadata": {
            "needs_background": "light"
          }
        }
      ]
    },
    {
      "cell_type": "markdown",
      "metadata": {
        "id": "rJX-a1bZAk1n"
      },
      "source": [
        "<b> Topics</b>\n",
        "\n",
        "\n"
      ]
    },
    {
      "cell_type": "code",
      "metadata": {
        "colab": {
          "base_uri": "https://localhost:8080/"
        },
        "id": "HDpNJiAlQapf",
        "outputId": "691d83c0-520d-4fef-d203-50fad05b2924"
      },
      "source": [
        "data['topics']"
      ],
      "execution_count": null,
      "outputs": [
        {
          "output_type": "execute_result",
          "data": {
            "text/plain": [
              "0       ['alternative energy', 'cars', 'climate change...\n",
              "1       ['Africa', 'Asia', 'Google', 'demo', 'economic...\n",
              "2       ['computers', 'entertainment', 'interface desi...\n",
              "3       ['MacArthur grant', 'activism', 'business', 'c...\n",
              "4       ['children', 'creativity', 'culture', 'dance',...\n",
              "                              ...                        \n",
              "4000    ['activism', 'data', 'technology', 'mental hea...\n",
              "4001    ['TED-Ed', 'education', 'history', 'animation'...\n",
              "4002    ['society', 'law', 'policy', 'justice system',...\n",
              "4003    ['TED-Ed', 'education', 'animation', 'United S...\n",
              "4004    ['animals', 'TED-Ed', 'animation', 'oceans', '...\n",
              "Name: topics, Length: 4005, dtype: object"
            ]
          },
          "metadata": {},
          "execution_count": 372
        }
      ]
    },
    {
      "cell_type": "code",
      "metadata": {
        "id": "sDAb3HUmBa6h"
      },
      "source": [
        "data['topics'] = data.apply(lambda x: eval(x['topics']), axis=1)\n"
      ],
      "execution_count": null,
      "outputs": []
    },
    {
      "cell_type": "markdown",
      "metadata": {
        "id": "X91OoU-ZbtvO"
      },
      "source": [
        "** Number of topics "
      ]
    },
    {
      "cell_type": "code",
      "metadata": {
        "id": "4PoAbwzl4hJ1"
      },
      "source": [
        "data['num_of_topics'] = data.apply(lambda x: len(x['topics']), axis=1)"
      ],
      "execution_count": null,
      "outputs": []
    },
    {
      "cell_type": "markdown",
      "metadata": {
        "id": "zphag29lzhG1"
      },
      "source": [
        "# Density plot of num of topics:"
      ]
    },
    {
      "cell_type": "code",
      "metadata": {
        "colab": {
          "base_uri": "https://localhost:8080/",
          "height": 360
        },
        "id": "w24z7XJPBcOY",
        "outputId": "736af839-6e65-4e4d-ca6e-84e3740f0086"
      },
      "source": [
        "# graph:\n",
        "plt.figure(figsize=(10,5))\n",
        "sns.distplot(data['num_of_topics'])"
      ],
      "execution_count": null,
      "outputs": [
        {
          "output_type": "execute_result",
          "data": {
            "text/plain": [
              "<matplotlib.axes._subplots.AxesSubplot at 0x7f1b18b3d590>"
            ]
          },
          "metadata": {},
          "execution_count": 375
        },
        {
          "output_type": "display_data",
          "data": {
            "image/png": "[encoded data removed]",
            "text/plain": [
              "<Figure size 720x360 with 1 Axes>"
            ]
          },
          "metadata": {
            "needs_background": "light"
          }
        }
      ]
    },
    {
      "cell_type": "markdown",
      "metadata": {
        "id": "lsXZTBXtzn8K"
      },
      "source": [
        "# Unique topics:"
      ]
    },
    {
      "cell_type": "code",
      "metadata": {
        "colab": {
          "base_uri": "https://localhost:8080/"
        },
        "id": "iTNUXOPYNG5a",
        "outputId": "9f618c66-e1e4-4d79-cf16-3d3b197c9685"
      },
      "source": [
        "#Checking for unique topic\n",
        "unique_topics=[]\n",
        "for i in range(0,len(data)):\n",
        "  temp=data['topics'][i]\n",
        "  for i in temp:\n",
        "    if(i not in unique_topics):\n",
        "      unique_topics.append(i)\n",
        "      \n",
        "len(unique_topics)"
      ],
      "execution_count": null,
      "outputs": [
        {
          "output_type": "execute_result",
          "data": {
            "text/plain": [
              "457"
            ]
          },
          "metadata": {},
          "execution_count": 376
        }
      ]
    },
    {
      "cell_type": "code",
      "metadata": {
        "id": "08_0J42xNGvB"
      },
      "source": [
        "#fetching the avg views w.r.t each topic in another dict unique_topics_avg_view_dict\n",
        "unique_topics_avg_view_dict={}\n",
        "for topic in unique_topics:\n",
        "  temp=0\n",
        "  count=0\n",
        "  for i in range(0,len(data)):\n",
        "    temp2=data['topics'][i]\n",
        "    if(topic in temp2):\n",
        "      temp+=data['daily_views'][i]\n",
        "      count+=1\n",
        "  unique_topics_avg_view_dict[topic]=temp//count"
      ],
      "execution_count": null,
      "outputs": []
    },
    {
      "cell_type": "code",
      "metadata": {
        "id": "KJDNA7DnQoXp"
      },
      "source": [
        "#storing the avg views w.r.t topic for each talk\n",
        "topics_wise_avg_views=[]\n",
        "for i in range(0,len(data)):\n",
        "  temp=0\n",
        "  temp_topic=data['topics'][i]\n",
        "  for ele in temp_topic:\n",
        "    temp+=unique_topics_avg_view_dict[ele]\n",
        "  \n",
        "  topics_wise_avg_views.append(temp//len(temp_topic))\n",
        "\n",
        "se = pd.Series(topics_wise_avg_views)\n",
        "data['topics_wise_avg_views'] = se.values"
      ],
      "execution_count": null,
      "outputs": []
    },
    {
      "cell_type": "markdown",
      "metadata": {
        "id": "btBKM9ANzzi7"
      },
      "source": [
        "# Density plot for topic_wise_views:"
      ]
    },
    {
      "cell_type": "code",
      "metadata": {
        "colab": {
          "base_uri": "https://localhost:8080/",
          "height": 305
        },
        "id": "_gqGMqa3C2rF",
        "outputId": "1c25ac5c-ad8e-43f1-b9b2-54586419dda2"
      },
      "source": [
        "# Graph:\n",
        "plt.figure(figsize=(10,4))\n",
        "sns.distplot(data['topics_wise_avg_views'])"
      ],
      "execution_count": null,
      "outputs": [
        {
          "output_type": "execute_result",
          "data": {
            "text/plain": [
              "<matplotlib.axes._subplots.AxesSubplot at 0x7f1b18b3d450>"
            ]
          },
          "metadata": {},
          "execution_count": 379
        },
        {
          "output_type": "display_data",
          "data": {
            "image/png": "[encoded data removed]",
            "text/plain": [
              "<Figure size 720x288 with 1 Axes>"
            ]
          },
          "metadata": {
            "needs_background": "light"
          }
        }
      ]
    },
    {
      "cell_type": "markdown",
      "metadata": {
        "id": "UTJ8mdRTkPfM"
      },
      "source": [
        "# <b> related_talks column.</b>"
      ]
    },
    {
      "cell_type": "code",
      "metadata": {
        "id": "VegW78DUtNpL"
      },
      "source": [
        "#applying eval function related talk column:\n",
        "import ast\n",
        "data['related_talks'] = data['related_talks'].apply(lambda x: ast.literal_eval(x))"
      ],
      "execution_count": null,
      "outputs": []
    },
    {
      "cell_type": "code",
      "metadata": {
        "id": "BOZ9JF3JkXfQ"
      },
      "source": [
        ""
      ],
      "execution_count": null,
      "outputs": []
    },
    {
      "cell_type": "markdown",
      "metadata": {
        "id": "AGvb6HQeoWkJ"
      },
      "source": [
        "# Related Talk\n",
        "\n",
        "Related talk column contains a dictionary containing information about related videos with talk_id as key and video name as it's value.**\n",
        "** taking mean of all realated talk videos views:"
      ]
    },
    {
      "cell_type": "code",
      "metadata": {
        "id": "X-r-mTMv1b_W"
      },
      "source": [
        "#defining a new feature called related_views\n",
        "data['related_views'] = 0\n",
        "#iterating through the each row and extracting the value of related_talks\n",
        "for index, row in data.iterrows():\n",
        "    id_list=list(row['related_talks'].keys())\n",
        "    temp=0\n",
        "    for i in range(len(data)):\n",
        "      if (data.loc[i,'talk_id']) in id_list:\n",
        "        temp+=data.loc[i,'daily_views']\n",
        "\n",
        "    data.loc[index,'related_views']=temp//6"
      ],
      "execution_count": null,
      "outputs": []
    },
    {
      "cell_type": "markdown",
      "metadata": {
        "id": "nKOu2ZmD0MjR"
      },
      "source": [
        "# Density plot of realted_views:"
      ]
    },
    {
      "cell_type": "code",
      "metadata": {
        "id": "ciVpm0EJGsgu",
        "colab": {
          "base_uri": "https://localhost:8080/",
          "height": 360
        },
        "outputId": "90f85940-dbb6-4940-cfd1-28c50d8f85ec"
      },
      "source": [
        "#Graph of related_views column\n",
        "plt.figure(figsize=(10,5))\n",
        "sns.distplot(data['related_views'])"
      ],
      "execution_count": null,
      "outputs": [
        {
          "output_type": "execute_result",
          "data": {
            "text/plain": [
              "<matplotlib.axes._subplots.AxesSubplot at 0x7f1b188ea690>"
            ]
          },
          "metadata": {},
          "execution_count": 382
        },
        {
          "output_type": "display_data",
          "data": {
            "image/png": "[encoded data removed]",
            "text/plain": [
              "<Figure size 720x360 with 1 Axes>"
            ]
          },
          "metadata": {
            "needs_background": "light"
          }
        }
      ]
    },
    {
      "cell_type": "markdown",
      "metadata": {
        "id": "z2M7weF0cGlS"
      },
      "source": [
        "#**5. Data Cleaning.**"
      ]
    },
    {
      "cell_type": "markdown",
      "metadata": {
        "id": "UMrbrUem0rxd"
      },
      "source": [
        "##**5.1 Outlier Treatment on numerical columns.**"
      ]
    },
    {
      "cell_type": "markdown",
      "metadata": {
        "id": "okMYnJsJqJco"
      },
      "source": [
        "Outliers are present in few columns which needs to be treated.\n",
        "We are replacing the outliers with the mean values."
      ]
    },
    {
      "cell_type": "code",
      "metadata": {
        "id": "EcST8t-bnMaX"
      },
      "source": [
        "# Aplying Outlier treatment on duration and number of Languages:"
      ],
      "execution_count": null,
      "outputs": []
    },
    {
      "cell_type": "code",
      "metadata": {
        "colab": {
          "base_uri": "https://localhost:8080/",
          "height": 305
        },
        "id": "ITIM2o17nMXQ",
        "outputId": "550626e5-79d2-44b0-8168-13dc73dd0a8c"
      },
      "source": [
        "sns.boxplot(data['duration'], data= data)\n"
      ],
      "execution_count": null,
      "outputs": [
        {
          "output_type": "execute_result",
          "data": {
            "text/plain": [
              "<matplotlib.axes._subplots.AxesSubplot at 0x7f1b22c42f50>"
            ]
          },
          "metadata": {},
          "execution_count": 384
        },
        {
          "output_type": "display_data",
          "data": {
            "image/png": "[encoded data removed]",
            "text/plain": [
              "<Figure size 504x288 with 1 Axes>"
            ]
          },
          "metadata": {
            "needs_background": "light"
          }
        }
      ]
    },
    {
      "cell_type": "code",
      "metadata": {
        "id": "WMi-Esacn0DY"
      },
      "source": [
        "data_duration_iqr=  data['duration'].quantile(0.75)-data['duration'].quantile(0.25)\n",
        "data['duration']= data['duration'].mask(data['duration']>(data['duration'].quantile(0.75)+1.5*data_duration_iqr), data['duration'].mean())\n"
      ],
      "execution_count": null,
      "outputs": []
    },
    {
      "cell_type": "code",
      "metadata": {
        "colab": {
          "base_uri": "https://localhost:8080/"
        },
        "id": "OmvoqJyJnyOU",
        "outputId": "687906b6-f828-46ac-df94-3547b4a83ce8"
      },
      "source": [
        "data.shape"
      ],
      "execution_count": null,
      "outputs": [
        {
          "output_type": "execute_result",
          "data": {
            "text/plain": [
              "(4005, 31)"
            ]
          },
          "metadata": {},
          "execution_count": 386
        }
      ]
    },
    {
      "cell_type": "code",
      "metadata": {
        "colab": {
          "base_uri": "https://localhost:8080/",
          "height": 305
        },
        "id": "9xXAXB0_n-Tl",
        "outputId": "8b7bec65-e221-4247-9a84-3048dbcdf6f3"
      },
      "source": [
        "sns.boxplot(data['duration'], data= data)"
      ],
      "execution_count": null,
      "outputs": [
        {
          "output_type": "execute_result",
          "data": {
            "text/plain": [
              "<matplotlib.axes._subplots.AxesSubplot at 0x7f1b1a9b0c50>"
            ]
          },
          "metadata": {},
          "execution_count": 387
        },
        {
          "output_type": "display_data",
          "data": {
            "image/png": "[encoded data removed]",
            "text/plain": [
              "<Figure size 504x288 with 1 Axes>"
            ]
          },
          "metadata": {
            "needs_background": "light"
          }
        }
      ]
    },
    {
      "cell_type": "markdown",
      "metadata": {
        "id": "mShOVk2foBem"
      },
      "source": [
        "# Outlier treatment for Number of languages available: "
      ]
    },
    {
      "cell_type": "code",
      "metadata": {
        "colab": {
          "base_uri": "https://localhost:8080/",
          "height": 305
        },
        "id": "MahJSxJ6oNy0",
        "outputId": "e996f30c-d75a-403b-fe98-7eb107dc4929"
      },
      "source": [
        "sns.boxenplot(data['number_of_lang'], data= data)"
      ],
      "execution_count": null,
      "outputs": [
        {
          "output_type": "execute_result",
          "data": {
            "text/plain": [
              "<matplotlib.axes._subplots.AxesSubplot at 0x7f1b1a2eaf50>"
            ]
          },
          "metadata": {},
          "execution_count": 388
        },
        {
          "output_type": "display_data",
          "data": {
            "image/png": "[encoded data removed]",
            "text/plain": [
              "<Figure size 504x288 with 1 Axes>"
            ]
          },
          "metadata": {
            "needs_background": "light"
          }
        }
      ]
    },
    {
      "cell_type": "code",
      "metadata": {
        "id": "kmEBN5GBouS_"
      },
      "source": [
        "number_of_lang_iqr= (data['number_of_lang'].quantile(0.75))-(data['number_of_lang'].quantile(0.25))\n",
        "data['number_of_lang']= data['number_of_lang'].mask(data['number_of_lang']>(data['number_of_lang'].quantile(0.75)+1.5*number_of_lang_iqr), data['number_of_lang'].mean())"
      ],
      "execution_count": null,
      "outputs": []
    },
    {
      "cell_type": "code",
      "metadata": {
        "colab": {
          "base_uri": "https://localhost:8080/",
          "height": 305
        },
        "id": "Cw1VuT28pWhW",
        "outputId": "a2750ace-1987-4d08-99c3-111c1bf0e8d8"
      },
      "source": [
        "sns.boxenplot(data['number_of_lang'], data= data)"
      ],
      "execution_count": null,
      "outputs": [
        {
          "output_type": "execute_result",
          "data": {
            "text/plain": [
              "<matplotlib.axes._subplots.AxesSubplot at 0x7f1b198f90d0>"
            ]
          },
          "metadata": {},
          "execution_count": 390
        },
        {
          "output_type": "display_data",
          "data": {
            "image/png": "[encoded data removed]",
            "text/plain": [
              "<Figure size 504x288 with 1 Axes>"
            ]
          },
          "metadata": {
            "needs_background": "light"
          }
        }
      ]
    },
    {
      "cell_type": "markdown",
      "metadata": {
        "id": "BOoAlyrh2AKj"
      },
      "source": [
        "* **Now, we don't have any outliers.**"
      ]
    },
    {
      "cell_type": "code",
      "metadata": {
        "id": "g2Es_P-caxFE",
        "colab": {
          "base_uri": "https://localhost:8080/"
        },
        "outputId": "8e36988f-7c58-4902-9f3f-6a39d45c5644"
      },
      "source": [
        "data.columns"
      ],
      "execution_count": null,
      "outputs": [
        {
          "output_type": "execute_result",
          "data": {
            "text/plain": [
              "Index(['talk_id', 'title', 'speaker_1', 'all_speakers', 'occupations',\n",
              "       'about_speakers', 'views', 'recorded_date', 'published_date', 'event',\n",
              "       'native_lang', 'available_lang', 'comments', 'duration', 'topics',\n",
              "       'related_talks', 'url', 'description', 'transcript',\n",
              "       'time_since_published', 'month', 'year', 'day', 'week_day',\n",
              "       'daily_views', 'speaker_1_avg_views', 'event_wise_avg_views',\n",
              "       'number_of_lang', 'num_of_topics', 'topics_wise_avg_views',\n",
              "       'related_views'],\n",
              "      dtype='object')"
            ]
          },
          "metadata": {},
          "execution_count": 391
        }
      ]
    },
    {
      "cell_type": "markdown",
      "metadata": {
        "id": "-i9FbhI82lbE"
      },
      "source": [
        "# <b>Dataset For nlp</b>"
      ]
    },
    {
      "cell_type": "code",
      "metadata": {
        "id": "jfkEkRkz2kHH"
      },
      "source": [
        "nlp_dataset= data.copy() "
      ],
      "execution_count": null,
      "outputs": []
    },
    {
      "cell_type": "code",
      "metadata": {
        "colab": {
          "base_uri": "https://localhost:8080/"
        },
        "id": "fDOG_VSRALMb",
        "outputId": "4217f672-24ea-40d0-b702-bba4de472933"
      },
      "source": [
        "nlp_dataset.columns"
      ],
      "execution_count": null,
      "outputs": [
        {
          "output_type": "execute_result",
          "data": {
            "text/plain": [
              "Index(['talk_id', 'title', 'speaker_1', 'all_speakers', 'occupations',\n",
              "       'about_speakers', 'views', 'recorded_date', 'published_date', 'event',\n",
              "       'native_lang', 'available_lang', 'comments', 'duration', 'topics',\n",
              "       'related_talks', 'url', 'description', 'transcript',\n",
              "       'time_since_published', 'month', 'year', 'day', 'week_day',\n",
              "       'daily_views', 'speaker_1_avg_views', 'event_wise_avg_views',\n",
              "       'number_of_lang', 'num_of_topics', 'topics_wise_avg_views',\n",
              "       'related_views'],\n",
              "      dtype='object')"
            ]
          },
          "metadata": {},
          "execution_count": 393
        }
      ]
    },
    {
      "cell_type": "code",
      "metadata": {
        "id": "h9erDulCqKd7"
      },
      "source": [
        "temp_data1 = nlp_dataset[['talk_id', 'title', 'speaker_1', 'all_speakers', 'occupations',\n",
        "       'about_speakers', 'views', 'recorded_date', 'published_date', 'event',\n",
        "       'native_lang', 'comments', 'duration', 'topics', 'related_talks', 'url',\n",
        "       'description', 'transcript', 'time_since_published', 'month', 'year',\n",
        "       'day', 'daily_views', 'speaker_1_avg_views', 'number_of_lang',\n",
        "       'num_of_topics', 'topics_wise_avg_views', 'related_views']]"
      ],
      "execution_count": null,
      "outputs": []
    },
    {
      "cell_type": "code",
      "metadata": {
        "colab": {
          "base_uri": "https://localhost:8080/",
          "height": 764
        },
        "id": "fvtKSAKDquC2",
        "outputId": "7e7e891e-d450-4b97-bf41-35ea715911e2"
      },
      "source": [
        "fig, ax = plt.subplots(figsize=(15,10))\n",
        "sns.heatmap(temp_data1.corr(), annot= True, cmap= \"autumn\",ax=ax)\n",
        "# plt.figure(figsize=(10,8))\n"
      ],
      "execution_count": null,
      "outputs": [
        {
          "output_type": "execute_result",
          "data": {
            "text/plain": [
              "<matplotlib.axes._subplots.AxesSubplot at 0x7f1b19906810>"
            ]
          },
          "metadata": {},
          "execution_count": 395
        },
        {
          "output_type": "display_data",
          "data": {
            "image/png": "[encoded data removed]",
            "text/plain": [
              "<Figure size 1080x720 with 2 Axes>"
            ]
          },
          "metadata": {
            "needs_background": "light"
          }
        }
      ]
    },
    {
      "cell_type": "markdown",
      "metadata": {
        "id": "ShIai-zI_7Jr"
      },
      "source": [
        "# Removing Irrelevant columns:\n"
      ]
    },
    {
      "cell_type": "code",
      "metadata": {
        "colab": {
          "base_uri": "https://localhost:8080/"
        },
        "id": "uP3cLpC-Rkby",
        "outputId": "be14a23e-f525-49eb-ad93-3da44af178f6"
      },
      "source": [
        "data.columns"
      ],
      "execution_count": null,
      "outputs": [
        {
          "output_type": "execute_result",
          "data": {
            "text/plain": [
              "Index(['talk_id', 'title', 'speaker_1', 'all_speakers', 'occupations',\n",
              "       'about_speakers', 'views', 'recorded_date', 'published_date', 'event',\n",
              "       'native_lang', 'available_lang', 'comments', 'duration', 'topics',\n",
              "       'related_talks', 'url', 'description', 'transcript',\n",
              "       'time_since_published', 'month', 'year', 'day', 'week_day',\n",
              "       'daily_views', 'speaker_1_avg_views', 'event_wise_avg_views',\n",
              "       'number_of_lang', 'num_of_topics', 'topics_wise_avg_views',\n",
              "       'related_views'],\n",
              "      dtype='object')"
            ]
          },
          "metadata": {},
          "execution_count": 396
        }
      ]
    },
    {
      "cell_type": "code",
      "metadata": {
        "id": "wO4fEESsVPqM"
      },
      "source": [
        "unwanted_features=['talk_id', 'title', 'speaker_1', 'all_speakers', 'occupations',\n",
        "       'about_speakers', 'views', 'recorded_date', 'published_date', 'event',\n",
        "       'native_lang', 'available_lang', 'topics',\n",
        "       'related_talks', 'url', 'description', 'transcript',\n",
        "     'topics_wise_avg_views', 'related_views']"
      ],
      "execution_count": null,
      "outputs": []
    },
    {
      "cell_type": "code",
      "metadata": {
        "id": "S3oEyeN6dhCd"
      },
      "source": [
        "df=data.copy()"
      ],
      "execution_count": null,
      "outputs": []
    },
    {
      "cell_type": "code",
      "metadata": {
        "colab": {
          "base_uri": "https://localhost:8080/",
          "height": 184
        },
        "id": "HNnrL0vrf273",
        "outputId": "1a0590e1-977f-4ba7-aa4c-5eae4c5935ad"
      },
      "source": [
        "df.head(1)"
      ],
      "execution_count": null,
      "outputs": [
        {
          "output_type": "execute_result",
          "data": {
            "text/html": [
              "<div>\n",
              "<style scoped>\n",
              "    .dataframe tbody tr th:only-of-type {\n",
              "        vertical-align: middle;\n",
              "    }\n",
              "\n",
              "    .dataframe tbody tr th {\n",
              "        vertical-align: top;\n",
              "    }\n",
              "\n",
              "    .dataframe thead th {\n",
              "        text-align: right;\n",
              "    }\n",
              "</style>\n",
              "<table border=\"1\" class=\"dataframe\">\n",
              "  <thead>\n",
              "    <tr style=\"text-align: right;\">\n",
              "      <th></th>\n",
              "      <th>talk_id</th>\n",
              "      <th>title</th>\n",
              "      <th>speaker_1</th>\n",
              "      <th>all_speakers</th>\n",
              "      <th>occupations</th>\n",
              "      <th>about_speakers</th>\n",
              "      <th>views</th>\n",
              "      <th>recorded_date</th>\n",
              "      <th>published_date</th>\n",
              "      <th>event</th>\n",
              "      <th>native_lang</th>\n",
              "      <th>available_lang</th>\n",
              "      <th>comments</th>\n",
              "      <th>duration</th>\n",
              "      <th>topics</th>\n",
              "      <th>related_talks</th>\n",
              "      <th>url</th>\n",
              "      <th>description</th>\n",
              "      <th>transcript</th>\n",
              "      <th>time_since_published</th>\n",
              "      <th>month</th>\n",
              "      <th>year</th>\n",
              "      <th>day</th>\n",
              "      <th>week_day</th>\n",
              "      <th>daily_views</th>\n",
              "      <th>speaker_1_avg_views</th>\n",
              "      <th>event_wise_avg_views</th>\n",
              "      <th>number_of_lang</th>\n",
              "      <th>num_of_topics</th>\n",
              "      <th>topics_wise_avg_views</th>\n",
              "      <th>related_views</th>\n",
              "    </tr>\n",
              "  </thead>\n",
              "  <tbody>\n",
              "    <tr>\n",
              "      <th>0</th>\n",
              "      <td>1</td>\n",
              "      <td>Averting the climate crisis</td>\n",
              "      <td>Al Gore</td>\n",
              "      <td>{0: 'Al Gore'}</td>\n",
              "      <td>{0: ['climate advocate']}</td>\n",
              "      <td>{0: 'Nobel Laureate Al Gore focused the world’...</td>\n",
              "      <td>3523392</td>\n",
              "      <td>2006-02-25</td>\n",
              "      <td>2006-06-27</td>\n",
              "      <td>TED2006</td>\n",
              "      <td>en</td>\n",
              "      <td>['ar', 'bg', 'cs', 'de', 'el', 'en', 'es', 'fa...</td>\n",
              "      <td>272.0</td>\n",
              "      <td>977.0</td>\n",
              "      <td>[alternative energy, cars, climate change, cul...</td>\n",
              "      <td>{243: 'New thinking on the climate crisis', 54...</td>\n",
              "      <td>https://www.ted.com/talks/al_gore_averting_the...</td>\n",
              "      <td>With the same humor and humanity he exuded in ...</td>\n",
              "      <td>Thank you so much, Chris. And it's truly a gre...</td>\n",
              "      <td>5056 days</td>\n",
              "      <td>Jun</td>\n",
              "      <td>2006</td>\n",
              "      <td>27</td>\n",
              "      <td>Tue</td>\n",
              "      <td>696.735614</td>\n",
              "      <td>699.725014</td>\n",
              "      <td>782.72889</td>\n",
              "      <td>270.0</td>\n",
              "      <td>9</td>\n",
              "      <td>2432.0</td>\n",
              "      <td>3093.0</td>\n",
              "    </tr>\n",
              "  </tbody>\n",
              "</table>\n",
              "</div>"
            ],
            "text/plain": [
              "   talk_id                        title  ... topics_wise_avg_views related_views\n",
              "0        1  Averting the climate crisis  ...                2432.0        3093.0\n",
              "\n",
              "[1 rows x 31 columns]"
            ]
          },
          "metadata": {},
          "execution_count": 399
        }
      ]
    },
    {
      "cell_type": "code",
      "metadata": {
        "id": "v9VoJc4AYwUx"
      },
      "source": [
        "#dropping unimportant columns from the datasets.\n",
        "df.drop(columns=unwanted_features,inplace=True)"
      ],
      "execution_count": null,
      "outputs": []
    },
    {
      "cell_type": "code",
      "metadata": {
        "id": "Qc0GriYgr9-B"
      },
      "source": [
        "# df.drop(columns= ['published_date'], inplace= True)"
      ],
      "execution_count": null,
      "outputs": []
    },
    {
      "cell_type": "markdown",
      "metadata": {
        "id": "iA4VuRb9AQkC"
      },
      "source": [
        "**Defining the dependent and independent variables.**"
      ]
    },
    {
      "cell_type": "code",
      "metadata": {
        "id": "piIgWqwDF-fw"
      },
      "source": [
        "#separating the dependent and independent variables\n",
        "y=df['daily_views']\n",
        "X=df.drop(columns='daily_views')"
      ],
      "execution_count": null,
      "outputs": []
    },
    {
      "cell_type": "code",
      "metadata": {
        "id": "2MPqhPNjc1HW"
      },
      "source": [
        "X2=X"
      ],
      "execution_count": null,
      "outputs": []
    },
    {
      "cell_type": "markdown",
      "metadata": {
        "id": "UCPWvuhxqyD7"
      },
      "source": [
        "**Doing one hot encoding using get_dummies function.**"
      ]
    },
    {
      "cell_type": "code",
      "metadata": {
        "colab": {
          "base_uri": "https://localhost:8080/"
        },
        "id": "FTYpa9m8gtiO",
        "outputId": "3fec8d12-e9d1-4991-d79a-630c4093901d"
      },
      "source": [
        "X.columns\n"
      ],
      "execution_count": null,
      "outputs": [
        {
          "output_type": "execute_result",
          "data": {
            "text/plain": [
              "Index(['comments', 'duration', 'time_since_published', 'month', 'year', 'day',\n",
              "       'week_day', 'speaker_1_avg_views', 'event_wise_avg_views',\n",
              "       'number_of_lang', 'num_of_topics'],\n",
              "      dtype='object')"
            ]
          },
          "metadata": {},
          "execution_count": 406
        }
      ]
    },
    {
      "cell_type": "code",
      "metadata": {
        "id": "zlx6Y7p2cMBj",
        "colab": {
          "base_uri": "https://localhost:8080/"
        },
        "outputId": "e6c8ce97-b3b2-4a48-b146-95337e8983a7"
      },
      "source": [
        "#one hot encoding on categorical features\n",
        "X=pd.get_dummies(X)\n",
        "X.shape"
      ],
      "execution_count": null,
      "outputs": [
        {
          "output_type": "execute_result",
          "data": {
            "text/plain": [
              "(4005, 28)"
            ]
          },
          "metadata": {},
          "execution_count": 407
        }
      ]
    },
    {
      "cell_type": "code",
      "metadata": {
        "id": "UI9Us1ePex5N",
        "colab": {
          "base_uri": "https://localhost:8080/",
          "height": 131
        },
        "outputId": "fd520e5f-6b3c-4c10-dbf4-198cae67b204"
      },
      "source": [
        "X.head(2)"
      ],
      "execution_count": null,
      "outputs": [
        {
          "output_type": "execute_result",
          "data": {
            "text/html": [
              "<div>\n",
              "<style scoped>\n",
              "    .dataframe tbody tr th:only-of-type {\n",
              "        vertical-align: middle;\n",
              "    }\n",
              "\n",
              "    .dataframe tbody tr th {\n",
              "        vertical-align: top;\n",
              "    }\n",
              "\n",
              "    .dataframe thead th {\n",
              "        text-align: right;\n",
              "    }\n",
              "</style>\n",
              "<table border=\"1\" class=\"dataframe\">\n",
              "  <thead>\n",
              "    <tr style=\"text-align: right;\">\n",
              "      <th></th>\n",
              "      <th>comments</th>\n",
              "      <th>duration</th>\n",
              "      <th>time_since_published</th>\n",
              "      <th>year</th>\n",
              "      <th>day</th>\n",
              "      <th>speaker_1_avg_views</th>\n",
              "      <th>event_wise_avg_views</th>\n",
              "      <th>number_of_lang</th>\n",
              "      <th>num_of_topics</th>\n",
              "      <th>month_Apr</th>\n",
              "      <th>month_Aug</th>\n",
              "      <th>month_Dec</th>\n",
              "      <th>month_Feb</th>\n",
              "      <th>month_Jan</th>\n",
              "      <th>month_Jul</th>\n",
              "      <th>month_Jun</th>\n",
              "      <th>month_Mar</th>\n",
              "      <th>month_May</th>\n",
              "      <th>month_Nov</th>\n",
              "      <th>month_Oct</th>\n",
              "      <th>month_Sep</th>\n",
              "      <th>week_day_Fri</th>\n",
              "      <th>week_day_Mon</th>\n",
              "      <th>week_day_Sat</th>\n",
              "      <th>week_day_Sun</th>\n",
              "      <th>week_day_Thu</th>\n",
              "      <th>week_day_Tue</th>\n",
              "      <th>week_day_Wed</th>\n",
              "    </tr>\n",
              "  </thead>\n",
              "  <tbody>\n",
              "    <tr>\n",
              "      <th>0</th>\n",
              "      <td>272.0</td>\n",
              "      <td>977.0</td>\n",
              "      <td>5056 days</td>\n",
              "      <td>2006</td>\n",
              "      <td>27</td>\n",
              "      <td>699.725014</td>\n",
              "      <td>782.72889</td>\n",
              "      <td>270.000000</td>\n",
              "      <td>9</td>\n",
              "      <td>0</td>\n",
              "      <td>0</td>\n",
              "      <td>0</td>\n",
              "      <td>0</td>\n",
              "      <td>0</td>\n",
              "      <td>0</td>\n",
              "      <td>1</td>\n",
              "      <td>0</td>\n",
              "      <td>0</td>\n",
              "      <td>0</td>\n",
              "      <td>0</td>\n",
              "      <td>0</td>\n",
              "      <td>0</td>\n",
              "      <td>0</td>\n",
              "      <td>0</td>\n",
              "      <td>0</td>\n",
              "      <td>0</td>\n",
              "      <td>1</td>\n",
              "      <td>0</td>\n",
              "    </tr>\n",
              "    <tr>\n",
              "      <th>1</th>\n",
              "      <td>628.0</td>\n",
              "      <td>1190.0</td>\n",
              "      <td>5056 days</td>\n",
              "      <td>2006</td>\n",
              "      <td>27</td>\n",
              "      <td>1098.925286</td>\n",
              "      <td>782.72889</td>\n",
              "      <td>160.720599</td>\n",
              "      <td>11</td>\n",
              "      <td>0</td>\n",
              "      <td>0</td>\n",
              "      <td>0</td>\n",
              "      <td>0</td>\n",
              "      <td>0</td>\n",
              "      <td>0</td>\n",
              "      <td>1</td>\n",
              "      <td>0</td>\n",
              "      <td>0</td>\n",
              "      <td>0</td>\n",
              "      <td>0</td>\n",
              "      <td>0</td>\n",
              "      <td>0</td>\n",
              "      <td>0</td>\n",
              "      <td>0</td>\n",
              "      <td>0</td>\n",
              "      <td>0</td>\n",
              "      <td>1</td>\n",
              "      <td>0</td>\n",
              "    </tr>\n",
              "  </tbody>\n",
              "</table>\n",
              "</div>"
            ],
            "text/plain": [
              "   comments  duration  ... week_day_Tue  week_day_Wed\n",
              "0     272.0     977.0  ...            1             0\n",
              "1     628.0    1190.0  ...            1             0\n",
              "\n",
              "[2 rows x 28 columns]"
            ]
          },
          "metadata": {},
          "execution_count": 408
        }
      ]
    },
    {
      "cell_type": "markdown",
      "metadata": {
        "id": "otfzr-xm2g3z"
      },
      "source": [
        "\n",
        "* **Applying proper feature selection is must here to get rid of unimportant features.**"
      ]
    },
    {
      "cell_type": "markdown",
      "metadata": {
        "id": "pqzypLifjSup"
      },
      "source": [
        "##**5.2 Let's treat nan values of numerical columns using KNNImputer**"
      ]
    },
    {
      "cell_type": "code",
      "metadata": {
        "colab": {
          "base_uri": "https://localhost:8080/"
        },
        "id": "OVkFeMBwAxhg",
        "outputId": "89eeb346-ca7d-4e28-93cb-66e7c5138299"
      },
      "source": [
        "#checking for null values\n",
        "X[['duration','comments']].isna().sum()"
      ],
      "execution_count": null,
      "outputs": [
        {
          "output_type": "execute_result",
          "data": {
            "text/plain": [
              "duration      0\n",
              "comments    655\n",
              "dtype: int64"
            ]
          },
          "metadata": {},
          "execution_count": 409
        }
      ]
    },
    {
      "cell_type": "markdown",
      "metadata": {
        "id": "lXxTXuhaBUKK"
      },
      "source": [
        "* **Comments has around 655 NaN values**\n",
        "\n",
        "\n",
        "\n",
        "* **Let's treat it using KNNImputer.**"
      ]
    },
    {
      "cell_type": "code",
      "metadata": {
        "id": "jqqe7ryrVIpS"
      },
      "source": [
        "#Taking features for using in KNNImputer\n",
        "outlier_data=['duration','comments','speaker_1_avg_views','event_wise_avg_views']"
      ],
      "execution_count": null,
      "outputs": []
    },
    {
      "cell_type": "code",
      "metadata": {
        "id": "eWdWybnIfRS4"
      },
      "source": [
        "# Before applying KNNImputer, we have to scale features so avoid bias.\n",
        "scaler = MinMaxScaler()\n",
        "#Import libraries\n",
        "from sklearn.impute import KNNImputer\n",
        "# define imputer\n",
        "imputer = KNNImputer()\n",
        "#fitting the model\n",
        "imputer.fit(scaler.fit_transform(X[outlier_data]))\n",
        "# transform the dataset\n",
        "X[outlier_data] = imputer.transform(scaler.fit_transform(X[outlier_data]))\n",
        "#again applying inverse_transform on the data\n",
        "X[outlier_data] = scaler.inverse_transform(X[outlier_data])"
      ],
      "execution_count": null,
      "outputs": []
    },
    {
      "cell_type": "code",
      "metadata": {
        "id": "SUsMWYv_j07L",
        "colab": {
          "base_uri": "https://localhost:8080/"
        },
        "outputId": "7fa737b1-8d5e-46a8-8da1-ed1ec094d0d6"
      },
      "source": [
        "# Checking Nan values:\n",
        "X[['duration','comments']].isna().sum()"
      ],
      "execution_count": null,
      "outputs": [
        {
          "output_type": "execute_result",
          "data": {
            "text/plain": [
              "duration    0\n",
              "comments    0\n",
              "dtype: int64"
            ]
          },
          "metadata": {},
          "execution_count": 412
        }
      ]
    },
    {
      "cell_type": "markdown",
      "metadata": {
        "id": "C8778U1gBBOP"
      },
      "source": [
        "* **Comments has no null values**"
      ]
    },
    {
      "cell_type": "code",
      "metadata": {
        "colab": {
          "base_uri": "https://localhost:8080/",
          "height": 224
        },
        "id": "BChmSKF0-52o",
        "outputId": "caec560a-8170-472a-f01b-e09ab5afd744"
      },
      "source": [
        "X.head()"
      ],
      "execution_count": null,
      "outputs": [
        {
          "output_type": "execute_result",
          "data": {
            "text/html": [
              "<div>\n",
              "<style scoped>\n",
              "    .dataframe tbody tr th:only-of-type {\n",
              "        vertical-align: middle;\n",
              "    }\n",
              "\n",
              "    .dataframe tbody tr th {\n",
              "        vertical-align: top;\n",
              "    }\n",
              "\n",
              "    .dataframe thead th {\n",
              "        text-align: right;\n",
              "    }\n",
              "</style>\n",
              "<table border=\"1\" class=\"dataframe\">\n",
              "  <thead>\n",
              "    <tr style=\"text-align: right;\">\n",
              "      <th></th>\n",
              "      <th>comments</th>\n",
              "      <th>duration</th>\n",
              "      <th>time_since_published</th>\n",
              "      <th>year</th>\n",
              "      <th>day</th>\n",
              "      <th>speaker_1_avg_views</th>\n",
              "      <th>event_wise_avg_views</th>\n",
              "      <th>number_of_lang</th>\n",
              "      <th>num_of_topics</th>\n",
              "      <th>month_Apr</th>\n",
              "      <th>month_Aug</th>\n",
              "      <th>month_Dec</th>\n",
              "      <th>month_Feb</th>\n",
              "      <th>month_Jan</th>\n",
              "      <th>month_Jul</th>\n",
              "      <th>month_Jun</th>\n",
              "      <th>month_Mar</th>\n",
              "      <th>month_May</th>\n",
              "      <th>month_Nov</th>\n",
              "      <th>month_Oct</th>\n",
              "      <th>month_Sep</th>\n",
              "      <th>week_day_Fri</th>\n",
              "      <th>week_day_Mon</th>\n",
              "      <th>week_day_Sat</th>\n",
              "      <th>week_day_Sun</th>\n",
              "      <th>week_day_Thu</th>\n",
              "      <th>week_day_Tue</th>\n",
              "      <th>week_day_Wed</th>\n",
              "    </tr>\n",
              "  </thead>\n",
              "  <tbody>\n",
              "    <tr>\n",
              "      <th>0</th>\n",
              "      <td>272.0</td>\n",
              "      <td>977.0</td>\n",
              "      <td>5056 days</td>\n",
              "      <td>2006</td>\n",
              "      <td>27</td>\n",
              "      <td>699.725014</td>\n",
              "      <td>782.72889</td>\n",
              "      <td>270.000000</td>\n",
              "      <td>9</td>\n",
              "      <td>0</td>\n",
              "      <td>0</td>\n",
              "      <td>0</td>\n",
              "      <td>0</td>\n",
              "      <td>0</td>\n",
              "      <td>0</td>\n",
              "      <td>1</td>\n",
              "      <td>0</td>\n",
              "      <td>0</td>\n",
              "      <td>0</td>\n",
              "      <td>0</td>\n",
              "      <td>0</td>\n",
              "      <td>0</td>\n",
              "      <td>0</td>\n",
              "      <td>0</td>\n",
              "      <td>0</td>\n",
              "      <td>0</td>\n",
              "      <td>1</td>\n",
              "      <td>0</td>\n",
              "    </tr>\n",
              "    <tr>\n",
              "      <th>1</th>\n",
              "      <td>628.0</td>\n",
              "      <td>1190.0</td>\n",
              "      <td>5056 days</td>\n",
              "      <td>2006</td>\n",
              "      <td>27</td>\n",
              "      <td>1098.925286</td>\n",
              "      <td>782.72889</td>\n",
              "      <td>160.720599</td>\n",
              "      <td>11</td>\n",
              "      <td>0</td>\n",
              "      <td>0</td>\n",
              "      <td>0</td>\n",
              "      <td>0</td>\n",
              "      <td>0</td>\n",
              "      <td>0</td>\n",
              "      <td>1</td>\n",
              "      <td>0</td>\n",
              "      <td>0</td>\n",
              "      <td>0</td>\n",
              "      <td>0</td>\n",
              "      <td>0</td>\n",
              "      <td>0</td>\n",
              "      <td>0</td>\n",
              "      <td>0</td>\n",
              "      <td>0</td>\n",
              "      <td>0</td>\n",
              "      <td>1</td>\n",
              "      <td>0</td>\n",
              "    </tr>\n",
              "    <tr>\n",
              "      <th>2</th>\n",
              "      <td>124.0</td>\n",
              "      <td>1286.0</td>\n",
              "      <td>5056 days</td>\n",
              "      <td>2006</td>\n",
              "      <td>27</td>\n",
              "      <td>687.917181</td>\n",
              "      <td>782.72889</td>\n",
              "      <td>165.000000</td>\n",
              "      <td>9</td>\n",
              "      <td>0</td>\n",
              "      <td>0</td>\n",
              "      <td>0</td>\n",
              "      <td>0</td>\n",
              "      <td>0</td>\n",
              "      <td>0</td>\n",
              "      <td>1</td>\n",
              "      <td>0</td>\n",
              "      <td>0</td>\n",
              "      <td>0</td>\n",
              "      <td>0</td>\n",
              "      <td>0</td>\n",
              "      <td>0</td>\n",
              "      <td>0</td>\n",
              "      <td>0</td>\n",
              "      <td>0</td>\n",
              "      <td>0</td>\n",
              "      <td>1</td>\n",
              "      <td>0</td>\n",
              "    </tr>\n",
              "    <tr>\n",
              "      <th>3</th>\n",
              "      <td>219.0</td>\n",
              "      <td>1116.0</td>\n",
              "      <td>5056 days</td>\n",
              "      <td>2006</td>\n",
              "      <td>27</td>\n",
              "      <td>452.806229</td>\n",
              "      <td>782.72889</td>\n",
              "      <td>219.000000</td>\n",
              "      <td>9</td>\n",
              "      <td>0</td>\n",
              "      <td>0</td>\n",
              "      <td>0</td>\n",
              "      <td>0</td>\n",
              "      <td>0</td>\n",
              "      <td>0</td>\n",
              "      <td>1</td>\n",
              "      <td>0</td>\n",
              "      <td>0</td>\n",
              "      <td>0</td>\n",
              "      <td>0</td>\n",
              "      <td>0</td>\n",
              "      <td>0</td>\n",
              "      <td>0</td>\n",
              "      <td>0</td>\n",
              "      <td>0</td>\n",
              "      <td>0</td>\n",
              "      <td>1</td>\n",
              "      <td>0</td>\n",
              "    </tr>\n",
              "    <tr>\n",
              "      <th>4</th>\n",
              "      <td>4931.0</td>\n",
              "      <td>1164.0</td>\n",
              "      <td>5056 days</td>\n",
              "      <td>2006</td>\n",
              "      <td>27</td>\n",
              "      <td>6453.203121</td>\n",
              "      <td>782.72889</td>\n",
              "      <td>160.720599</td>\n",
              "      <td>7</td>\n",
              "      <td>0</td>\n",
              "      <td>0</td>\n",
              "      <td>0</td>\n",
              "      <td>0</td>\n",
              "      <td>0</td>\n",
              "      <td>0</td>\n",
              "      <td>1</td>\n",
              "      <td>0</td>\n",
              "      <td>0</td>\n",
              "      <td>0</td>\n",
              "      <td>0</td>\n",
              "      <td>0</td>\n",
              "      <td>0</td>\n",
              "      <td>0</td>\n",
              "      <td>0</td>\n",
              "      <td>0</td>\n",
              "      <td>0</td>\n",
              "      <td>1</td>\n",
              "      <td>0</td>\n",
              "    </tr>\n",
              "  </tbody>\n",
              "</table>\n",
              "</div>"
            ],
            "text/plain": [
              "   comments  duration  ... week_day_Tue  week_day_Wed\n",
              "0     272.0     977.0  ...            1             0\n",
              "1     628.0    1190.0  ...            1             0\n",
              "2     124.0    1286.0  ...            1             0\n",
              "3     219.0    1116.0  ...            1             0\n",
              "4    4931.0    1164.0  ...            1             0\n",
              "\n",
              "[5 rows x 28 columns]"
            ]
          },
          "metadata": {},
          "execution_count": 413
        }
      ]
    },
    {
      "cell_type": "markdown",
      "metadata": {
        "id": "tiYsPJtZ7mE1"
      },
      "source": [
        "<b># Cleaned dataset</b>"
      ]
    },
    {
      "cell_type": "code",
      "metadata": {
        "colab": {
          "base_uri": "https://localhost:8080/",
          "height": 300
        },
        "id": "S6sr1jw97pXc",
        "outputId": "388f3640-85bf-4f03-b3e7-2771d1948952"
      },
      "source": [
        "data.head(2)"
      ],
      "execution_count": null,
      "outputs": [
        {
          "output_type": "execute_result",
          "data": {
            "text/html": [
              "<div>\n",
              "<style scoped>\n",
              "    .dataframe tbody tr th:only-of-type {\n",
              "        vertical-align: middle;\n",
              "    }\n",
              "\n",
              "    .dataframe tbody tr th {\n",
              "        vertical-align: top;\n",
              "    }\n",
              "\n",
              "    .dataframe thead th {\n",
              "        text-align: right;\n",
              "    }\n",
              "</style>\n",
              "<table border=\"1\" class=\"dataframe\">\n",
              "  <thead>\n",
              "    <tr style=\"text-align: right;\">\n",
              "      <th></th>\n",
              "      <th>talk_id</th>\n",
              "      <th>title</th>\n",
              "      <th>speaker_1</th>\n",
              "      <th>all_speakers</th>\n",
              "      <th>occupations</th>\n",
              "      <th>about_speakers</th>\n",
              "      <th>views</th>\n",
              "      <th>recorded_date</th>\n",
              "      <th>published_date</th>\n",
              "      <th>event</th>\n",
              "      <th>native_lang</th>\n",
              "      <th>available_lang</th>\n",
              "      <th>comments</th>\n",
              "      <th>duration</th>\n",
              "      <th>topics</th>\n",
              "      <th>related_talks</th>\n",
              "      <th>url</th>\n",
              "      <th>description</th>\n",
              "      <th>transcript</th>\n",
              "      <th>time_since_published</th>\n",
              "      <th>month</th>\n",
              "      <th>year</th>\n",
              "      <th>day</th>\n",
              "      <th>week_day</th>\n",
              "      <th>daily_views</th>\n",
              "      <th>speaker_1_avg_views</th>\n",
              "      <th>event_wise_avg_views</th>\n",
              "      <th>number_of_lang</th>\n",
              "      <th>num_of_topics</th>\n",
              "      <th>topics_wise_avg_views</th>\n",
              "      <th>related_views</th>\n",
              "    </tr>\n",
              "  </thead>\n",
              "  <tbody>\n",
              "    <tr>\n",
              "      <th>0</th>\n",
              "      <td>1</td>\n",
              "      <td>Averting the climate crisis</td>\n",
              "      <td>Al Gore</td>\n",
              "      <td>{0: 'Al Gore'}</td>\n",
              "      <td>{0: ['climate advocate']}</td>\n",
              "      <td>{0: 'Nobel Laureate Al Gore focused the world’...</td>\n",
              "      <td>3523392</td>\n",
              "      <td>2006-02-25</td>\n",
              "      <td>2006-06-27</td>\n",
              "      <td>TED2006</td>\n",
              "      <td>en</td>\n",
              "      <td>['ar', 'bg', 'cs', 'de', 'el', 'en', 'es', 'fa...</td>\n",
              "      <td>272.0</td>\n",
              "      <td>977.0</td>\n",
              "      <td>[alternative energy, cars, climate change, cul...</td>\n",
              "      <td>{243: 'New thinking on the climate crisis', 54...</td>\n",
              "      <td>https://www.ted.com/talks/al_gore_averting_the...</td>\n",
              "      <td>With the same humor and humanity he exuded in ...</td>\n",
              "      <td>Thank you so much, Chris. And it's truly a gre...</td>\n",
              "      <td>5056 days</td>\n",
              "      <td>Jun</td>\n",
              "      <td>2006</td>\n",
              "      <td>27</td>\n",
              "      <td>Tue</td>\n",
              "      <td>696.735614</td>\n",
              "      <td>699.725014</td>\n",
              "      <td>782.72889</td>\n",
              "      <td>270.000000</td>\n",
              "      <td>9</td>\n",
              "      <td>2432.0</td>\n",
              "      <td>3093.0</td>\n",
              "    </tr>\n",
              "    <tr>\n",
              "      <th>1</th>\n",
              "      <td>92</td>\n",
              "      <td>The best stats you've ever seen</td>\n",
              "      <td>Hans Rosling</td>\n",
              "      <td>{0: 'Hans Rosling'}</td>\n",
              "      <td>{0: ['global health expert; data visionary']}</td>\n",
              "      <td>{0: 'In Hans Rosling’s hands, data sings. Glob...</td>\n",
              "      <td>14501685</td>\n",
              "      <td>2006-02-22</td>\n",
              "      <td>2006-06-27</td>\n",
              "      <td>TED2006</td>\n",
              "      <td>en</td>\n",
              "      <td>['ar', 'az', 'bg', 'bn', 'bs', 'cs', 'da', 'de...</td>\n",
              "      <td>628.0</td>\n",
              "      <td>1190.0</td>\n",
              "      <td>[Africa, Asia, Google, demo, economics, global...</td>\n",
              "      <td>{2056: 'Own your body's data', 2296: 'A visual...</td>\n",
              "      <td>https://www.ted.com/talks/hans_rosling_the_bes...</td>\n",
              "      <td>You've never seen data presented like this. Wi...</td>\n",
              "      <td>About 10 years ago, I took on the task to teac...</td>\n",
              "      <td>5056 days</td>\n",
              "      <td>Jun</td>\n",
              "      <td>2006</td>\n",
              "      <td>27</td>\n",
              "      <td>Tue</td>\n",
              "      <td>2867.645837</td>\n",
              "      <td>1098.925286</td>\n",
              "      <td>782.72889</td>\n",
              "      <td>160.720599</td>\n",
              "      <td>11</td>\n",
              "      <td>2546.0</td>\n",
              "      <td>865.0</td>\n",
              "    </tr>\n",
              "  </tbody>\n",
              "</table>\n",
              "</div>"
            ],
            "text/plain": [
              "   talk_id  ... related_views\n",
              "0        1  ...        3093.0\n",
              "1       92  ...         865.0\n",
              "\n",
              "[2 rows x 31 columns]"
            ]
          },
          "metadata": {},
          "execution_count": 414
        }
      ]
    },
    {
      "cell_type": "code",
      "metadata": {
        "colab": {
          "base_uri": "https://localhost:8080/"
        },
        "id": "ZY3dhEZuqCvi",
        "outputId": "9b8cc502-ac13-47e6-cc73-e3fb44f753aa"
      },
      "source": [
        "data.info()"
      ],
      "execution_count": null,
      "outputs": [
        {
          "output_type": "stream",
          "name": "stdout",
          "text": [
            "<class 'pandas.core.frame.DataFrame'>\n",
            "RangeIndex: 4005 entries, 0 to 4004\n",
            "Data columns (total 31 columns):\n",
            " #   Column                 Non-Null Count  Dtype          \n",
            "---  ------                 --------------  -----          \n",
            " 0   talk_id                4005 non-null   int64          \n",
            " 1   title                  4005 non-null   object         \n",
            " 2   speaker_1              4005 non-null   object         \n",
            " 3   all_speakers           4001 non-null   object         \n",
            " 4   occupations            3483 non-null   object         \n",
            " 5   about_speakers         3502 non-null   object         \n",
            " 6   views                  4005 non-null   int64          \n",
            " 7   recorded_date          4004 non-null   datetime64[ns] \n",
            " 8   published_date         4005 non-null   datetime64[ns] \n",
            " 9   event                  4005 non-null   object         \n",
            " 10  native_lang            4005 non-null   object         \n",
            " 11  available_lang         4005 non-null   object         \n",
            " 12  comments               3350 non-null   float64        \n",
            " 13  duration               4005 non-null   float64        \n",
            " 14  topics                 4005 non-null   object         \n",
            " 15  related_talks          4005 non-null   object         \n",
            " 16  url                    4005 non-null   object         \n",
            " 17  description            4005 non-null   object         \n",
            " 18  transcript             4005 non-null   object         \n",
            " 19  time_since_published   4005 non-null   timedelta64[ns]\n",
            " 20  month                  4005 non-null   object         \n",
            " 21  year                   4005 non-null   int64          \n",
            " 22  day                    4005 non-null   int64          \n",
            " 23  week_day               4005 non-null   object         \n",
            " 24  daily_views            4005 non-null   float64        \n",
            " 25  speaker_1_avg_views    4005 non-null   float64        \n",
            " 26  event_wise_avg_views   4005 non-null   float64        \n",
            " 27  number_of_lang         4005 non-null   float64        \n",
            " 28  num_of_topics          4005 non-null   int64          \n",
            " 29  topics_wise_avg_views  4005 non-null   float64        \n",
            " 30  related_views          4005 non-null   float64        \n",
            "dtypes: datetime64[ns](2), float64(8), int64(5), object(15), timedelta64[ns](1)\n",
            "memory usage: 970.1+ KB\n"
          ]
        }
      ]
    },
    {
      "cell_type": "code",
      "metadata": {
        "colab": {
          "base_uri": "https://localhost:8080/",
          "height": 1000
        },
        "id": "4SmhUl-R8qZS",
        "outputId": "ae18f4b1-6775-4456-994a-affa94bfaa91"
      },
      "source": [
        "data.describe(include= 'all').T"
      ],
      "execution_count": null,
      "outputs": [
        {
          "output_type": "execute_result",
          "data": {
            "text/html": [
              "<div>\n",
              "<style scoped>\n",
              "    .dataframe tbody tr th:only-of-type {\n",
              "        vertical-align: middle;\n",
              "    }\n",
              "\n",
              "    .dataframe tbody tr th {\n",
              "        vertical-align: top;\n",
              "    }\n",
              "\n",
              "    .dataframe thead th {\n",
              "        text-align: right;\n",
              "    }\n",
              "</style>\n",
              "<table border=\"1\" class=\"dataframe\">\n",
              "  <thead>\n",
              "    <tr style=\"text-align: right;\">\n",
              "      <th></th>\n",
              "      <th>count</th>\n",
              "      <th>unique</th>\n",
              "      <th>top</th>\n",
              "      <th>freq</th>\n",
              "      <th>first</th>\n",
              "      <th>last</th>\n",
              "      <th>mean</th>\n",
              "      <th>std</th>\n",
              "      <th>min</th>\n",
              "      <th>25%</th>\n",
              "      <th>50%</th>\n",
              "      <th>75%</th>\n",
              "      <th>max</th>\n",
              "    </tr>\n",
              "  </thead>\n",
              "  <tbody>\n",
              "    <tr>\n",
              "      <th>talk_id</th>\n",
              "      <td>4005</td>\n",
              "      <td>NaN</td>\n",
              "      <td>NaN</td>\n",
              "      <td>NaN</td>\n",
              "      <td>NaT</td>\n",
              "      <td>NaT</td>\n",
              "      <td>12432.5</td>\n",
              "      <td>17447.6</td>\n",
              "      <td>1</td>\n",
              "      <td>1252</td>\n",
              "      <td>2333</td>\n",
              "      <td>23777</td>\n",
              "      <td>62794</td>\n",
              "    </tr>\n",
              "    <tr>\n",
              "      <th>title</th>\n",
              "      <td>4005</td>\n",
              "      <td>4005</td>\n",
              "      <td>A musical escape into a world of light and color</td>\n",
              "      <td>1</td>\n",
              "      <td>NaT</td>\n",
              "      <td>NaT</td>\n",
              "      <td>NaN</td>\n",
              "      <td>NaN</td>\n",
              "      <td>NaN</td>\n",
              "      <td>NaN</td>\n",
              "      <td>NaN</td>\n",
              "      <td>NaN</td>\n",
              "      <td>NaN</td>\n",
              "    </tr>\n",
              "    <tr>\n",
              "      <th>speaker_1</th>\n",
              "      <td>4005</td>\n",
              "      <td>3274</td>\n",
              "      <td>Alex Gendler</td>\n",
              "      <td>34</td>\n",
              "      <td>NaT</td>\n",
              "      <td>NaT</td>\n",
              "      <td>NaN</td>\n",
              "      <td>NaN</td>\n",
              "      <td>NaN</td>\n",
              "      <td>NaN</td>\n",
              "      <td>NaN</td>\n",
              "      <td>NaN</td>\n",
              "      <td>NaN</td>\n",
              "    </tr>\n",
              "    <tr>\n",
              "      <th>all_speakers</th>\n",
              "      <td>4001</td>\n",
              "      <td>3306</td>\n",
              "      <td>{0: 'Alex Gendler'}</td>\n",
              "      <td>34</td>\n",
              "      <td>NaT</td>\n",
              "      <td>NaT</td>\n",
              "      <td>NaN</td>\n",
              "      <td>NaN</td>\n",
              "      <td>NaN</td>\n",
              "      <td>NaN</td>\n",
              "      <td>NaN</td>\n",
              "      <td>NaN</td>\n",
              "      <td>NaN</td>\n",
              "    </tr>\n",
              "    <tr>\n",
              "      <th>occupations</th>\n",
              "      <td>3483</td>\n",
              "      <td>2049</td>\n",
              "      <td>{0: ['writer']}</td>\n",
              "      <td>53</td>\n",
              "      <td>NaT</td>\n",
              "      <td>NaT</td>\n",
              "      <td>NaN</td>\n",
              "      <td>NaN</td>\n",
              "      <td>NaN</td>\n",
              "      <td>NaN</td>\n",
              "      <td>NaN</td>\n",
              "      <td>NaN</td>\n",
              "      <td>NaN</td>\n",
              "    </tr>\n",
              "    <tr>\n",
              "      <th>about_speakers</th>\n",
              "      <td>3502</td>\n",
              "      <td>2977</td>\n",
              "      <td>{0: 'Alex Rosenthal takes everyday experiences...</td>\n",
              "      <td>10</td>\n",
              "      <td>NaT</td>\n",
              "      <td>NaT</td>\n",
              "      <td>NaN</td>\n",
              "      <td>NaN</td>\n",
              "      <td>NaN</td>\n",
              "      <td>NaN</td>\n",
              "      <td>NaN</td>\n",
              "      <td>NaN</td>\n",
              "      <td>NaN</td>\n",
              "    </tr>\n",
              "    <tr>\n",
              "      <th>views</th>\n",
              "      <td>4005</td>\n",
              "      <td>NaN</td>\n",
              "      <td>NaN</td>\n",
              "      <td>NaN</td>\n",
              "      <td>NaT</td>\n",
              "      <td>NaT</td>\n",
              "      <td>2.14801e+06</td>\n",
              "      <td>3.45123e+06</td>\n",
              "      <td>0</td>\n",
              "      <td>882069</td>\n",
              "      <td>1.37551e+06</td>\n",
              "      <td>2.13311e+06</td>\n",
              "      <td>6.5052e+07</td>\n",
              "    </tr>\n",
              "    <tr>\n",
              "      <th>recorded_date</th>\n",
              "      <td>4004</td>\n",
              "      <td>1334</td>\n",
              "      <td>2017-04-24 00:00:00</td>\n",
              "      <td>97</td>\n",
              "      <td>1984-02-02</td>\n",
              "      <td>2020-04-30</td>\n",
              "      <td>NaN</td>\n",
              "      <td>NaN</td>\n",
              "      <td>NaN</td>\n",
              "      <td>NaN</td>\n",
              "      <td>NaN</td>\n",
              "      <td>NaN</td>\n",
              "      <td>NaN</td>\n",
              "    </tr>\n",
              "    <tr>\n",
              "      <th>published_date</th>\n",
              "      <td>4005</td>\n",
              "      <td>2962</td>\n",
              "      <td>2017-09-07 00:00:00</td>\n",
              "      <td>27</td>\n",
              "      <td>2006-06-27</td>\n",
              "      <td>2020-04-30</td>\n",
              "      <td>NaN</td>\n",
              "      <td>NaN</td>\n",
              "      <td>NaN</td>\n",
              "      <td>NaN</td>\n",
              "      <td>NaN</td>\n",
              "      <td>NaN</td>\n",
              "      <td>NaN</td>\n",
              "    </tr>\n",
              "    <tr>\n",
              "      <th>event</th>\n",
              "      <td>4005</td>\n",
              "      <td>459</td>\n",
              "      <td>TED-Ed</td>\n",
              "      <td>556</td>\n",
              "      <td>NaT</td>\n",
              "      <td>NaT</td>\n",
              "      <td>NaN</td>\n",
              "      <td>NaN</td>\n",
              "      <td>NaN</td>\n",
              "      <td>NaN</td>\n",
              "      <td>NaN</td>\n",
              "      <td>NaN</td>\n",
              "      <td>NaN</td>\n",
              "    </tr>\n",
              "    <tr>\n",
              "      <th>native_lang</th>\n",
              "      <td>4005</td>\n",
              "      <td>12</td>\n",
              "      <td>en</td>\n",
              "      <td>3957</td>\n",
              "      <td>NaT</td>\n",
              "      <td>NaT</td>\n",
              "      <td>NaN</td>\n",
              "      <td>NaN</td>\n",
              "      <td>NaN</td>\n",
              "      <td>NaN</td>\n",
              "      <td>NaN</td>\n",
              "      <td>NaN</td>\n",
              "      <td>NaN</td>\n",
              "    </tr>\n",
              "    <tr>\n",
              "      <th>available_lang</th>\n",
              "      <td>4005</td>\n",
              "      <td>3902</td>\n",
              "      <td>['en']</td>\n",
              "      <td>24</td>\n",
              "      <td>NaT</td>\n",
              "      <td>NaT</td>\n",
              "      <td>NaN</td>\n",
              "      <td>NaN</td>\n",
              "      <td>NaN</td>\n",
              "      <td>NaN</td>\n",
              "      <td>NaN</td>\n",
              "      <td>NaN</td>\n",
              "      <td>NaN</td>\n",
              "    </tr>\n",
              "    <tr>\n",
              "      <th>comments</th>\n",
              "      <td>3350</td>\n",
              "      <td>NaN</td>\n",
              "      <td>NaN</td>\n",
              "      <td>NaN</td>\n",
              "      <td>NaT</td>\n",
              "      <td>NaT</td>\n",
              "      <td>161.997</td>\n",
              "      <td>268.839</td>\n",
              "      <td>0</td>\n",
              "      <td>38</td>\n",
              "      <td>89</td>\n",
              "      <td>188</td>\n",
              "      <td>6449</td>\n",
              "    </tr>\n",
              "    <tr>\n",
              "      <th>duration</th>\n",
              "      <td>4005</td>\n",
              "      <td>NaN</td>\n",
              "      <td>NaN</td>\n",
              "      <td>NaN</td>\n",
              "      <td>NaT</td>\n",
              "      <td>NaT</td>\n",
              "      <td>713.838</td>\n",
              "      <td>329.259</td>\n",
              "      <td>60</td>\n",
              "      <td>393</td>\n",
              "      <td>732</td>\n",
              "      <td>968</td>\n",
              "      <td>1831</td>\n",
              "    </tr>\n",
              "    <tr>\n",
              "      <th>topics</th>\n",
              "      <td>4005</td>\n",
              "      <td>3977</td>\n",
              "      <td>[TED-Ed, math]</td>\n",
              "      <td>8</td>\n",
              "      <td>NaT</td>\n",
              "      <td>NaT</td>\n",
              "      <td>NaN</td>\n",
              "      <td>NaN</td>\n",
              "      <td>NaN</td>\n",
              "      <td>NaN</td>\n",
              "      <td>NaN</td>\n",
              "      <td>NaN</td>\n",
              "      <td>NaN</td>\n",
              "    </tr>\n",
              "    <tr>\n",
              "      <th>related_talks</th>\n",
              "      <td>4005</td>\n",
              "      <td>4005</td>\n",
              "      <td>{21117: 'Why the \"wrong side of the tracks\" is...</td>\n",
              "      <td>1</td>\n",
              "      <td>NaT</td>\n",
              "      <td>NaT</td>\n",
              "      <td>NaN</td>\n",
              "      <td>NaN</td>\n",
              "      <td>NaN</td>\n",
              "      <td>NaN</td>\n",
              "      <td>NaN</td>\n",
              "      <td>NaN</td>\n",
              "      <td>NaN</td>\n",
              "    </tr>\n",
              "    <tr>\n",
              "      <th>url</th>\n",
              "      <td>4005</td>\n",
              "      <td>4005</td>\n",
              "      <td>https://www.ted.com/talks/alex_wissner_gross_a...</td>\n",
              "      <td>1</td>\n",
              "      <td>NaT</td>\n",
              "      <td>NaT</td>\n",
              "      <td>NaN</td>\n",
              "      <td>NaN</td>\n",
              "      <td>NaN</td>\n",
              "      <td>NaN</td>\n",
              "      <td>NaN</td>\n",
              "      <td>NaN</td>\n",
              "      <td>NaN</td>\n",
              "    </tr>\n",
              "    <tr>\n",
              "      <th>description</th>\n",
              "      <td>4005</td>\n",
              "      <td>4005</td>\n",
              "      <td>Garik Israelian is a spectroscopist, studying ...</td>\n",
              "      <td>1</td>\n",
              "      <td>NaT</td>\n",
              "      <td>NaT</td>\n",
              "      <td>NaN</td>\n",
              "      <td>NaN</td>\n",
              "      <td>NaN</td>\n",
              "      <td>NaN</td>\n",
              "      <td>NaN</td>\n",
              "      <td>NaN</td>\n",
              "      <td>NaN</td>\n",
              "    </tr>\n",
              "    <tr>\n",
              "      <th>transcript</th>\n",
              "      <td>4005</td>\n",
              "      <td>4005</td>\n",
              "      <td>Periods. Blood. Menstruation. Gross. Secret. H...</td>\n",
              "      <td>1</td>\n",
              "      <td>NaT</td>\n",
              "      <td>NaT</td>\n",
              "      <td>NaN</td>\n",
              "      <td>NaN</td>\n",
              "      <td>NaN</td>\n",
              "      <td>NaN</td>\n",
              "      <td>NaN</td>\n",
              "      <td>NaN</td>\n",
              "      <td>NaN</td>\n",
              "    </tr>\n",
              "    <tr>\n",
              "      <th>time_since_published</th>\n",
              "      <td>4005</td>\n",
              "      <td>NaN</td>\n",
              "      <td>NaN</td>\n",
              "      <td>NaN</td>\n",
              "      <td>NaT</td>\n",
              "      <td>NaT</td>\n",
              "      <td>1923 days 16:18:41.797749856</td>\n",
              "      <td>1446 days 09:32:04.389727216</td>\n",
              "      <td>0 days 00:00:00</td>\n",
              "      <td>554 days 00:00:00</td>\n",
              "      <td>1675 days 00:00:00</td>\n",
              "      <td>3104 days 00:00:00</td>\n",
              "      <td>5056 days 00:00:00</td>\n",
              "    </tr>\n",
              "    <tr>\n",
              "      <th>month</th>\n",
              "      <td>4005</td>\n",
              "      <td>12</td>\n",
              "      <td>Apr</td>\n",
              "      <td>423</td>\n",
              "      <td>NaT</td>\n",
              "      <td>NaT</td>\n",
              "      <td>NaN</td>\n",
              "      <td>NaN</td>\n",
              "      <td>NaN</td>\n",
              "      <td>NaN</td>\n",
              "      <td>NaN</td>\n",
              "      <td>NaN</td>\n",
              "      <td>NaN</td>\n",
              "    </tr>\n",
              "    <tr>\n",
              "      <th>year</th>\n",
              "      <td>4005</td>\n",
              "      <td>NaN</td>\n",
              "      <td>NaN</td>\n",
              "      <td>NaN</td>\n",
              "      <td>NaT</td>\n",
              "      <td>NaT</td>\n",
              "      <td>2014.6</td>\n",
              "      <td>3.99193</td>\n",
              "      <td>2006</td>\n",
              "      <td>2011</td>\n",
              "      <td>2015</td>\n",
              "      <td>2018</td>\n",
              "      <td>2020</td>\n",
              "    </tr>\n",
              "    <tr>\n",
              "      <th>day</th>\n",
              "      <td>4005</td>\n",
              "      <td>NaN</td>\n",
              "      <td>NaN</td>\n",
              "      <td>NaN</td>\n",
              "      <td>NaT</td>\n",
              "      <td>NaT</td>\n",
              "      <td>15.213</td>\n",
              "      <td>8.61351</td>\n",
              "      <td>1</td>\n",
              "      <td>8</td>\n",
              "      <td>15</td>\n",
              "      <td>22</td>\n",
              "      <td>31</td>\n",
              "    </tr>\n",
              "    <tr>\n",
              "      <th>week_day</th>\n",
              "      <td>4005</td>\n",
              "      <td>7</td>\n",
              "      <td>Tue</td>\n",
              "      <td>857</td>\n",
              "      <td>NaT</td>\n",
              "      <td>NaT</td>\n",
              "      <td>NaN</td>\n",
              "      <td>NaN</td>\n",
              "      <td>NaN</td>\n",
              "      <td>NaN</td>\n",
              "      <td>NaN</td>\n",
              "      <td>NaN</td>\n",
              "      <td>NaN</td>\n",
              "    </tr>\n",
              "    <tr>\n",
              "      <th>daily_views</th>\n",
              "      <td>4005</td>\n",
              "      <td>NaN</td>\n",
              "      <td>NaN</td>\n",
              "      <td>NaN</td>\n",
              "      <td>NaT</td>\n",
              "      <td>NaT</td>\n",
              "      <td>3103.62</td>\n",
              "      <td>7463.26</td>\n",
              "      <td>0</td>\n",
              "      <td>417.694</td>\n",
              "      <td>1060.18</td>\n",
              "      <td>2798.86</td>\n",
              "      <td>166073</td>\n",
              "    </tr>\n",
              "    <tr>\n",
              "      <th>speaker_1_avg_views</th>\n",
              "      <td>4005</td>\n",
              "      <td>NaN</td>\n",
              "      <td>NaN</td>\n",
              "      <td>NaN</td>\n",
              "      <td>NaT</td>\n",
              "      <td>NaT</td>\n",
              "      <td>3103.62</td>\n",
              "      <td>6284.87</td>\n",
              "      <td>0</td>\n",
              "      <td>480.109</td>\n",
              "      <td>1168.04</td>\n",
              "      <td>3077.08</td>\n",
              "      <td>154805</td>\n",
              "    </tr>\n",
              "    <tr>\n",
              "      <th>event_wise_avg_views</th>\n",
              "      <td>4005</td>\n",
              "      <td>NaN</td>\n",
              "      <td>NaN</td>\n",
              "      <td>NaN</td>\n",
              "      <td>NaT</td>\n",
              "      <td>NaT</td>\n",
              "      <td>3103.62</td>\n",
              "      <td>5149.49</td>\n",
              "      <td>21.2824</td>\n",
              "      <td>704.247</td>\n",
              "      <td>1499.33</td>\n",
              "      <td>3947.9</td>\n",
              "      <td>98747.8</td>\n",
              "    </tr>\n",
              "    <tr>\n",
              "      <th>number_of_lang</th>\n",
              "      <td>4005</td>\n",
              "      <td>NaN</td>\n",
              "      <td>NaN</td>\n",
              "      <td>NaN</td>\n",
              "      <td>NaT</td>\n",
              "      <td>NaT</td>\n",
              "      <td>158.449</td>\n",
              "      <td>51.539</td>\n",
              "      <td>6</td>\n",
              "      <td>129</td>\n",
              "      <td>159</td>\n",
              "      <td>192</td>\n",
              "      <td>294</td>\n",
              "    </tr>\n",
              "    <tr>\n",
              "      <th>num_of_topics</th>\n",
              "      <td>4005</td>\n",
              "      <td>NaN</td>\n",
              "      <td>NaN</td>\n",
              "      <td>NaN</td>\n",
              "      <td>NaT</td>\n",
              "      <td>NaT</td>\n",
              "      <td>7.91511</td>\n",
              "      <td>3.90436</td>\n",
              "      <td>1</td>\n",
              "      <td>5</td>\n",
              "      <td>7</td>\n",
              "      <td>10</td>\n",
              "      <td>33</td>\n",
              "    </tr>\n",
              "    <tr>\n",
              "      <th>topics_wise_avg_views</th>\n",
              "      <td>4005</td>\n",
              "      <td>NaN</td>\n",
              "      <td>NaN</td>\n",
              "      <td>NaN</td>\n",
              "      <td>NaT</td>\n",
              "      <td>NaT</td>\n",
              "      <td>3208.54</td>\n",
              "      <td>1298.93</td>\n",
              "      <td>878</td>\n",
              "      <td>2433</td>\n",
              "      <td>2999</td>\n",
              "      <td>3759</td>\n",
              "      <td>25532</td>\n",
              "    </tr>\n",
              "    <tr>\n",
              "      <th>related_views</th>\n",
              "      <td>4005</td>\n",
              "      <td>NaN</td>\n",
              "      <td>NaN</td>\n",
              "      <td>NaN</td>\n",
              "      <td>NaT</td>\n",
              "      <td>NaT</td>\n",
              "      <td>2888.83</td>\n",
              "      <td>3561.94</td>\n",
              "      <td>0</td>\n",
              "      <td>893</td>\n",
              "      <td>1891</td>\n",
              "      <td>3693</td>\n",
              "      <td>60782</td>\n",
              "    </tr>\n",
              "  </tbody>\n",
              "</table>\n",
              "</div>"
            ],
            "text/plain": [
              "                      count unique  ...                 75%                 max\n",
              "talk_id                4005    NaN  ...               23777               62794\n",
              "title                  4005   4005  ...                 NaN                 NaN\n",
              "speaker_1              4005   3274  ...                 NaN                 NaN\n",
              "all_speakers           4001   3306  ...                 NaN                 NaN\n",
              "occupations            3483   2049  ...                 NaN                 NaN\n",
              "about_speakers         3502   2977  ...                 NaN                 NaN\n",
              "views                  4005    NaN  ...         2.13311e+06          6.5052e+07\n",
              "recorded_date          4004   1334  ...                 NaN                 NaN\n",
              "published_date         4005   2962  ...                 NaN                 NaN\n",
              "event                  4005    459  ...                 NaN                 NaN\n",
              "native_lang            4005     12  ...                 NaN                 NaN\n",
              "available_lang         4005   3902  ...                 NaN                 NaN\n",
              "comments               3350    NaN  ...                 188                6449\n",
              "duration               4005    NaN  ...                 968                1831\n",
              "topics                 4005   3977  ...                 NaN                 NaN\n",
              "related_talks          4005   4005  ...                 NaN                 NaN\n",
              "url                    4005   4005  ...                 NaN                 NaN\n",
              "description            4005   4005  ...                 NaN                 NaN\n",
              "transcript             4005   4005  ...                 NaN                 NaN\n",
              "time_since_published   4005    NaN  ...  3104 days 00:00:00  5056 days 00:00:00\n",
              "month                  4005     12  ...                 NaN                 NaN\n",
              "year                   4005    NaN  ...                2018                2020\n",
              "day                    4005    NaN  ...                  22                  31\n",
              "week_day               4005      7  ...                 NaN                 NaN\n",
              "daily_views            4005    NaN  ...             2798.86              166073\n",
              "speaker_1_avg_views    4005    NaN  ...             3077.08              154805\n",
              "event_wise_avg_views   4005    NaN  ...              3947.9             98747.8\n",
              "number_of_lang         4005    NaN  ...                 192                 294\n",
              "num_of_topics          4005    NaN  ...                  10                  33\n",
              "topics_wise_avg_views  4005    NaN  ...                3759               25532\n",
              "related_views          4005    NaN  ...                3693               60782\n",
              "\n",
              "[31 rows x 13 columns]"
            ]
          },
          "metadata": {},
          "execution_count": 416
        }
      ]
    },
    {
      "cell_type": "code",
      "metadata": {
        "colab": {
          "base_uri": "https://localhost:8080/"
        },
        "id": "fagcCUCc-uUX",
        "outputId": "225dbf3a-7a6c-4683-8d3d-6043a20a56bf"
      },
      "source": [
        "data.columns.values"
      ],
      "execution_count": null,
      "outputs": [
        {
          "output_type": "execute_result",
          "data": {
            "text/plain": [
              "array(['talk_id', 'title', 'speaker_1', 'all_speakers', 'occupations',\n",
              "       'about_speakers', 'views', 'recorded_date', 'published_date',\n",
              "       'event', 'native_lang', 'available_lang', 'comments', 'duration',\n",
              "       'topics', 'related_talks', 'url', 'description', 'transcript',\n",
              "       'time_since_published', 'month', 'year', 'day', 'week_day',\n",
              "       'daily_views', 'speaker_1_avg_views', 'event_wise_avg_views',\n",
              "       'number_of_lang', 'num_of_topics', 'topics_wise_avg_views',\n",
              "       'related_views'], dtype=object)"
            ]
          },
          "metadata": {},
          "execution_count": 417
        }
      ]
    },
    {
      "cell_type": "code",
      "metadata": {
        "colab": {
          "base_uri": "https://localhost:8080/",
          "height": 350
        },
        "id": "5SgXvIBA8m4D",
        "outputId": "711f71e0-a57d-4f2f-c9c4-99afbea52a4a"
      },
      "source": [
        "data.describe()"
      ],
      "execution_count": null,
      "outputs": [
        {
          "output_type": "execute_result",
          "data": {
            "text/html": [
              "<div>\n",
              "<style scoped>\n",
              "    .dataframe tbody tr th:only-of-type {\n",
              "        vertical-align: middle;\n",
              "    }\n",
              "\n",
              "    .dataframe tbody tr th {\n",
              "        vertical-align: top;\n",
              "    }\n",
              "\n",
              "    .dataframe thead th {\n",
              "        text-align: right;\n",
              "    }\n",
              "</style>\n",
              "<table border=\"1\" class=\"dataframe\">\n",
              "  <thead>\n",
              "    <tr style=\"text-align: right;\">\n",
              "      <th></th>\n",
              "      <th>talk_id</th>\n",
              "      <th>views</th>\n",
              "      <th>comments</th>\n",
              "      <th>duration</th>\n",
              "      <th>time_since_published</th>\n",
              "      <th>year</th>\n",
              "      <th>day</th>\n",
              "      <th>daily_views</th>\n",
              "      <th>speaker_1_avg_views</th>\n",
              "      <th>event_wise_avg_views</th>\n",
              "      <th>number_of_lang</th>\n",
              "      <th>num_of_topics</th>\n",
              "      <th>topics_wise_avg_views</th>\n",
              "      <th>related_views</th>\n",
              "    </tr>\n",
              "  </thead>\n",
              "  <tbody>\n",
              "    <tr>\n",
              "      <th>count</th>\n",
              "      <td>4005.000000</td>\n",
              "      <td>4.005000e+03</td>\n",
              "      <td>3350.000000</td>\n",
              "      <td>4005.000000</td>\n",
              "      <td>4005</td>\n",
              "      <td>4005.000000</td>\n",
              "      <td>4005.000000</td>\n",
              "      <td>4005.000000</td>\n",
              "      <td>4005.000000</td>\n",
              "      <td>4005.000000</td>\n",
              "      <td>4005.000000</td>\n",
              "      <td>4005.000000</td>\n",
              "      <td>4005.000000</td>\n",
              "      <td>4005.000000</td>\n",
              "    </tr>\n",
              "    <tr>\n",
              "      <th>mean</th>\n",
              "      <td>12432.538327</td>\n",
              "      <td>2.148006e+06</td>\n",
              "      <td>161.997015</td>\n",
              "      <td>713.837762</td>\n",
              "      <td>1923 days 16:18:41.797749856</td>\n",
              "      <td>2014.596754</td>\n",
              "      <td>15.212984</td>\n",
              "      <td>3103.617844</td>\n",
              "      <td>3103.617844</td>\n",
              "      <td>3103.617844</td>\n",
              "      <td>158.449236</td>\n",
              "      <td>7.915106</td>\n",
              "      <td>3208.539076</td>\n",
              "      <td>2888.834956</td>\n",
              "    </tr>\n",
              "    <tr>\n",
              "      <th>std</th>\n",
              "      <td>17447.576262</td>\n",
              "      <td>3.451226e+06</td>\n",
              "      <td>268.838922</td>\n",
              "      <td>329.259358</td>\n",
              "      <td>1446 days 09:32:04.389727216</td>\n",
              "      <td>3.991930</td>\n",
              "      <td>8.613515</td>\n",
              "      <td>7463.261324</td>\n",
              "      <td>6284.865529</td>\n",
              "      <td>5149.490183</td>\n",
              "      <td>51.538995</td>\n",
              "      <td>3.904362</td>\n",
              "      <td>1298.926245</td>\n",
              "      <td>3561.939651</td>\n",
              "    </tr>\n",
              "    <tr>\n",
              "      <th>min</th>\n",
              "      <td>1.000000</td>\n",
              "      <td>0.000000e+00</td>\n",
              "      <td>0.000000</td>\n",
              "      <td>60.000000</td>\n",
              "      <td>0 days 00:00:00</td>\n",
              "      <td>2006.000000</td>\n",
              "      <td>1.000000</td>\n",
              "      <td>0.000000</td>\n",
              "      <td>0.000000</td>\n",
              "      <td>21.282438</td>\n",
              "      <td>6.000000</td>\n",
              "      <td>1.000000</td>\n",
              "      <td>878.000000</td>\n",
              "      <td>0.000000</td>\n",
              "    </tr>\n",
              "    <tr>\n",
              "      <th>25%</th>\n",
              "      <td>1252.000000</td>\n",
              "      <td>8.820690e+05</td>\n",
              "      <td>38.000000</td>\n",
              "      <td>393.000000</td>\n",
              "      <td>554 days 00:00:00</td>\n",
              "      <td>2011.000000</td>\n",
              "      <td>8.000000</td>\n",
              "      <td>417.693951</td>\n",
              "      <td>480.108540</td>\n",
              "      <td>704.246976</td>\n",
              "      <td>129.000000</td>\n",
              "      <td>5.000000</td>\n",
              "      <td>2433.000000</td>\n",
              "      <td>893.000000</td>\n",
              "    </tr>\n",
              "    <tr>\n",
              "      <th>50%</th>\n",
              "      <td>2333.000000</td>\n",
              "      <td>1.375508e+06</td>\n",
              "      <td>89.000000</td>\n",
              "      <td>732.000000</td>\n",
              "      <td>1675 days 00:00:00</td>\n",
              "      <td>2015.000000</td>\n",
              "      <td>15.000000</td>\n",
              "      <td>1060.176027</td>\n",
              "      <td>1168.038131</td>\n",
              "      <td>1499.333894</td>\n",
              "      <td>159.000000</td>\n",
              "      <td>7.000000</td>\n",
              "      <td>2999.000000</td>\n",
              "      <td>1891.000000</td>\n",
              "    </tr>\n",
              "    <tr>\n",
              "      <th>75%</th>\n",
              "      <td>23777.000000</td>\n",
              "      <td>2.133110e+06</td>\n",
              "      <td>188.000000</td>\n",
              "      <td>968.000000</td>\n",
              "      <td>3104 days 00:00:00</td>\n",
              "      <td>2018.000000</td>\n",
              "      <td>22.000000</td>\n",
              "      <td>2798.856540</td>\n",
              "      <td>3077.077592</td>\n",
              "      <td>3947.896101</td>\n",
              "      <td>192.000000</td>\n",
              "      <td>10.000000</td>\n",
              "      <td>3759.000000</td>\n",
              "      <td>3693.000000</td>\n",
              "    </tr>\n",
              "    <tr>\n",
              "      <th>max</th>\n",
              "      <td>62794.000000</td>\n",
              "      <td>6.505195e+07</td>\n",
              "      <td>6449.000000</td>\n",
              "      <td>1831.000000</td>\n",
              "      <td>5056 days 00:00:00</td>\n",
              "      <td>2020.000000</td>\n",
              "      <td>31.000000</td>\n",
              "      <td>166072.837838</td>\n",
              "      <td>154804.666667</td>\n",
              "      <td>98747.783730</td>\n",
              "      <td>294.000000</td>\n",
              "      <td>33.000000</td>\n",
              "      <td>25532.000000</td>\n",
              "      <td>60782.000000</td>\n",
              "    </tr>\n",
              "  </tbody>\n",
              "</table>\n",
              "</div>"
            ],
            "text/plain": [
              "            talk_id         views  ...  topics_wise_avg_views  related_views\n",
              "count   4005.000000  4.005000e+03  ...            4005.000000    4005.000000\n",
              "mean   12432.538327  2.148006e+06  ...            3208.539076    2888.834956\n",
              "std    17447.576262  3.451226e+06  ...            1298.926245    3561.939651\n",
              "min        1.000000  0.000000e+00  ...             878.000000       0.000000\n",
              "25%     1252.000000  8.820690e+05  ...            2433.000000     893.000000\n",
              "50%     2333.000000  1.375508e+06  ...            2999.000000    1891.000000\n",
              "75%    23777.000000  2.133110e+06  ...            3759.000000    3693.000000\n",
              "max    62794.000000  6.505195e+07  ...           25532.000000   60782.000000\n",
              "\n",
              "[8 rows x 14 columns]"
            ]
          },
          "metadata": {},
          "execution_count": 418
        }
      ]
    },
    {
      "cell_type": "markdown",
      "metadata": {
        "id": "fhMOr71jAWKG"
      },
      "source": [
        "# Cat boost"
      ]
    },
    {
      "cell_type": "code",
      "metadata": {
        "id": "yjOJ4133AYa5"
      },
      "source": [
        "import xgboost as xgb\n",
        "xgb_model= xgb.XGBRegressor(objective=\"reg:squarederror\")"
      ],
      "execution_count": null,
      "outputs": []
    },
    {
      "cell_type": "code",
      "metadata": {
        "colab": {
          "base_uri": "https://localhost:8080/"
        },
        "id": "ccehA4awBc9_",
        "outputId": "f977c4c5-cb71-4c9d-9215-e57b1ed0a1a3"
      },
      "source": [
        "data.columns"
      ],
      "execution_count": null,
      "outputs": [
        {
          "output_type": "execute_result",
          "data": {
            "text/plain": [
              "Index(['talk_id', 'title', 'speaker_1', 'all_speakers', 'occupations',\n",
              "       'about_speakers', 'views', 'recorded_date', 'published_date', 'event',\n",
              "       'native_lang', 'available_lang', 'comments', 'duration', 'topics',\n",
              "       'related_talks', 'url', 'description', 'transcript',\n",
              "       'time_since_published', 'month', 'year', 'day', 'week_day',\n",
              "       'daily_views', 'speaker_1_avg_views', 'event_wise_avg_views',\n",
              "       'number_of_lang', 'num_of_topics', 'topics_wise_avg_views',\n",
              "       'related_views'],\n",
              "      dtype='object')"
            ]
          },
          "metadata": {},
          "execution_count": 471
        }
      ]
    },
    {
      "cell_type": "code",
      "metadata": {
        "id": "-KpU9HGvBaq9"
      },
      "source": [
        "X= data[['duration',\n",
        "       'speaker_1_avg_views', 'event_wise_avg_views',\n",
        "       'number_of_lang', 'num_of_topics', 'topics_wise_avg_views', 'year', 'day']]"
      ],
      "execution_count": null,
      "outputs": []
    },
    {
      "cell_type": "code",
      "metadata": {
        "id": "WhPvwxavCC-J"
      },
      "source": [
        "from sklearn.preprocessing import StandardScaler\n",
        "Scaler= StandardScaler()"
      ],
      "execution_count": null,
      "outputs": []
    },
    {
      "cell_type": "code",
      "metadata": {
        "id": "QyYGaBTvAmdU"
      },
      "source": [
        "X= Scaler.fit_transform(X)\n",
        "y= Scaler.fit_transform(data['daily_views'].values.reshape(-1,1))"
      ],
      "execution_count": null,
      "outputs": []
    },
    {
      "cell_type": "code",
      "metadata": {
        "colab": {
          "base_uri": "https://localhost:8080/"
        },
        "id": "Aocspha2CWe3",
        "outputId": "0da55987-9ea4-462c-e204-ecdff0b7052e"
      },
      "source": [
        "X.shape"
      ],
      "execution_count": null,
      "outputs": [
        {
          "output_type": "execute_result",
          "data": {
            "text/plain": [
              "(4005, 8)"
            ]
          },
          "metadata": {},
          "execution_count": 521
        }
      ]
    },
    {
      "cell_type": "code",
      "metadata": {
        "colab": {
          "base_uri": "https://localhost:8080/"
        },
        "id": "E9kEM3NFCZ56",
        "outputId": "62916b84-d918-4cfe-bbac-847ac6cb0665"
      },
      "source": [
        "y.shape"
      ],
      "execution_count": null,
      "outputs": [
        {
          "output_type": "execute_result",
          "data": {
            "text/plain": [
              "(4005, 1)"
            ]
          },
          "metadata": {},
          "execution_count": 522
        }
      ]
    },
    {
      "cell_type": "code",
      "metadata": {
        "id": "2KgQPjyJBBJ5"
      },
      "source": [
        "X_train, X_test, y_train, y_test= train_test_split(X, y,  test_size= 0.20, random_state= 5)"
      ],
      "execution_count": null,
      "outputs": []
    },
    {
      "cell_type": "code",
      "metadata": {
        "colab": {
          "base_uri": "https://localhost:8080/"
        },
        "id": "0fY1IImBBEf7",
        "outputId": "2fcc054d-fc69-4019-9a8c-f668174e0ccf"
      },
      "source": [
        "xgb_model.fit(X_train, y_train)"
      ],
      "execution_count": null,
      "outputs": [
        {
          "output_type": "stream",
          "name": "stdout",
          "text": [
            "[15:57:41] WARNING: /workspace/src/objective/regression_obj.cu:152: reg:linear is now deprecated in favor of reg:squarederror.\n"
          ]
        },
        {
          "output_type": "execute_result",
          "data": {
            "text/plain": [
              "XGBRegressor(base_score=0.5, booster='gbtree', colsample_bylevel=1,\n",
              "             colsample_bynode=1, colsample_bytree=1, gamma=0,\n",
              "             importance_type='gain', learning_rate=0.1, max_delta_step=0,\n",
              "             max_depth=3, min_child_weight=1, missing=None, n_estimators=100,\n",
              "             n_jobs=1, nthread=None, objective='reg:linear', random_state=0,\n",
              "             reg_alpha=0, reg_lambda=1, scale_pos_weight=1, seed=None,\n",
              "             silent=None, subsample=1, verbosity=1)"
            ]
          },
          "metadata": {},
          "execution_count": 524
        }
      ]
    },
    {
      "cell_type": "code",
      "metadata": {
        "colab": {
          "base_uri": "https://localhost:8080/"
        },
        "id": "g4UhyjpkBLhM",
        "outputId": "96e38b6f-fbcb-462c-e49b-be3c79e55078"
      },
      "source": [
        "xgb_r2_train=xgb_model.score(X_train, y_train)\n",
        "xgb_r2_train"
      ],
      "execution_count": null,
      "outputs": [
        {
          "output_type": "execute_result",
          "data": {
            "text/plain": [
              "0.9491477883863317"
            ]
          },
          "metadata": {},
          "execution_count": 525
        }
      ]
    },
    {
      "cell_type": "code",
      "metadata": {
        "colab": {
          "base_uri": "https://localhost:8080/"
        },
        "id": "Oyi8aupLCstq",
        "outputId": "d39a582b-f7d8-4a7d-b0d9-1458705470bd"
      },
      "source": [
        "xgb_r2_test= xgb_model.score(X_test, y_test)\n",
        "xgb_r2_test"
      ],
      "execution_count": null,
      "outputs": [
        {
          "output_type": "execute_result",
          "data": {
            "text/plain": [
              "0.8120309810306731"
            ]
          },
          "metadata": {},
          "execution_count": 526
        }
      ]
    },
    {
      "cell_type": "code",
      "metadata": {
        "id": "30TM5QyFiPJ5"
      },
      "source": [
        "xgb_y_train_pred= xgb_model.predict(X_train)\n",
        "xgb_y_test_pred= xgb_model.predict(X_test)"
      ],
      "execution_count": null,
      "outputs": []
    },
    {
      "cell_type": "code",
      "metadata": {
        "id": "up0CBOR9g2sP"
      },
      "source": [
        "from sklearn.metrics import mean_absolute_error\n",
        "from sklearn.metrics import mean_squared_error"
      ],
      "execution_count": null,
      "outputs": []
    },
    {
      "cell_type": "code",
      "metadata": {
        "colab": {
          "base_uri": "https://localhost:8080/"
        },
        "id": "HKr3ojA4iN4F",
        "outputId": "f7872143-d38e-45f5-bd3b-eac6e9a95fd8"
      },
      "source": [
        "mean_absolute_error(y_train,xgb_y_train_pred)"
      ],
      "execution_count": null,
      "outputs": [
        {
          "output_type": "execute_result",
          "data": {
            "text/plain": [
              "0.08549261935512241"
            ]
          },
          "metadata": {},
          "execution_count": 529
        }
      ]
    },
    {
      "cell_type": "code",
      "metadata": {
        "colab": {
          "base_uri": "https://localhost:8080/"
        },
        "id": "gkNeeBAqi8vp",
        "outputId": "8eb09bbf-8ab6-4388-c0bc-2ee1b14d8898"
      },
      "source": [
        "mean_absolute_error(y_test, xgb_y_test_pred)"
      ],
      "execution_count": null,
      "outputs": [
        {
          "output_type": "execute_result",
          "data": {
            "text/plain": [
              "0.11588391495715948"
            ]
          },
          "metadata": {},
          "execution_count": 530
        }
      ]
    },
    {
      "cell_type": "code",
      "metadata": {
        "id": "MyhrSLo2mPjl"
      },
      "source": [
        "import math"
      ],
      "execution_count": null,
      "outputs": []
    },
    {
      "cell_type": "code",
      "metadata": {
        "colab": {
          "base_uri": "https://localhost:8080/"
        },
        "id": "wgSxfrQ2g2JL",
        "outputId": "e3c6345a-b7d0-483d-f249-043c72fe9972"
      },
      "source": [
        "xgb_rmse_train = math.sqrt(mean_squared_error(y_train,xgb_y_train_pred))\n",
        "xgb_rmse_train"
      ],
      "execution_count": null,
      "outputs": [
        {
          "output_type": "execute_result",
          "data": {
            "text/plain": [
              "0.23200480607579269"
            ]
          },
          "metadata": {},
          "execution_count": 532
        }
      ]
    },
    {
      "cell_type": "code",
      "metadata": {
        "colab": {
          "base_uri": "https://localhost:8080/"
        },
        "id": "K0Yg6JzYg1kz",
        "outputId": "f6c5b3c7-1a63-4649-91bc-5e78c5fa7470"
      },
      "source": [
        "xgb_rmse_test = math.sqrt(mean_squared_error(y_test,xgb_y_test_pred))\n",
        "xgb_rmse_test"
      ],
      "execution_count": null,
      "outputs": [
        {
          "output_type": "execute_result",
          "data": {
            "text/plain": [
              "0.37916236829200006"
            ]
          },
          "metadata": {},
          "execution_count": 533
        }
      ]
    },
    {
      "cell_type": "code",
      "metadata": {
        "id": "wImJxg1llBKY"
      },
      "source": [
        ""
      ],
      "execution_count": null,
      "outputs": []
    },
    {
      "cell_type": "code",
      "metadata": {
        "colab": {
          "base_uri": "https://localhost:8080/",
          "height": 488
        },
        "id": "DhlLyKeajzpb",
        "outputId": "66213ea2-02bd-4fd8-ed9e-f1d788d684a2"
      },
      "source": [
        "# model = joblib.load(\"your_saved.model\")\n",
        "xgb_model.get_booster().feature_names = ['duration', 'speaker_1_avg_views', 'event_wise_avg_views','number_of_lang', 'num_of_topics', 'topics_wise_avg_views']\n",
        "xgb.plot_importance(xgb_model.get_booster())"
      ],
      "execution_count": null,
      "outputs": [
        {
          "output_type": "execute_result",
          "data": {
            "text/plain": [
              "<matplotlib.axes._subplots.AxesSubplot at 0x7f1b0a602290>"
            ]
          },
          "metadata": {},
          "execution_count": 534
        },
        {
          "output_type": "display_data",
          "data": {
            "image/png": "[encoded data removed]",
            "text/plain": [
              "<Figure size 1008x504 with 1 Axes>"
            ]
          },
          "metadata": {
            "needs_background": "light"
          }
        }
      ]
    },
    {
      "cell_type": "code",
      "metadata": {
        "colab": {
          "base_uri": "https://localhost:8080/",
          "height": 506
        },
        "id": "VUnsul1arv-J",
        "outputId": "f1970c6e-2aa4-4459-de33-031715f76840"
      },
      "source": [
        "from xgboost import plot_importance\n",
        "plt.rcParams[\"figure.figsize\"] = (14,7)\n",
        "plt.figure(figsize= (10,4))\n",
        "plot_importance(xgb_model, importance_type = 'gain', grid= False)"
      ],
      "execution_count": null,
      "outputs": [
        {
          "output_type": "execute_result",
          "data": {
            "text/plain": [
              "<matplotlib.axes._subplots.AxesSubplot at 0x7f1b0a60a150>"
            ]
          },
          "metadata": {},
          "execution_count": 535
        },
        {
          "output_type": "display_data",
          "data": {
            "text/plain": [
              "<Figure size 720x288 with 0 Axes>"
            ]
          },
          "metadata": {}
        },
        {
          "output_type": "display_data",
          "data": {
            "image/png": "[encoded data removed]",
            "text/plain": [
              "<Figure size 1008x504 with 1 Axes>"
            ]
          },
          "metadata": {
            "needs_background": "light"
          }
        }
      ]
    },
    {
      "cell_type": "markdown",
      "metadata": {
        "id": "y4dk2P9aC8uQ"
      },
      "source": [
        "# Catboost"
      ]
    },
    {
      "cell_type": "code",
      "metadata": {
        "colab": {
          "base_uri": "https://localhost:8080/"
        },
        "id": "-oCkXp6gC_SW",
        "outputId": "e830ea73-0c88-4adb-ddbe-6e943fe3a5bd"
      },
      "source": [
        "!pip install catboost"
      ],
      "execution_count": null,
      "outputs": [
        {
          "output_type": "stream",
          "name": "stdout",
          "text": [
            "Requirement already satisfied: catboost in /usr/local/lib/python3.7/dist-packages (0.26.1)\n",
            "Requirement already satisfied: matplotlib in /usr/local/lib/python3.7/dist-packages (from catboost) (3.2.2)\n",
            "Requirement already satisfied: graphviz in /usr/local/lib/python3.7/dist-packages (from catboost) (0.10.1)\n",
            "Requirement already satisfied: pandas>=0.24.0 in /usr/local/lib/python3.7/dist-packages (from catboost) (1.1.5)\n",
            "Requirement already satisfied: numpy>=1.16.0 in /usr/local/lib/python3.7/dist-packages (from catboost) (1.19.5)\n",
            "Requirement already satisfied: six in /usr/local/lib/python3.7/dist-packages (from catboost) (1.15.0)\n",
            "Requirement already satisfied: scipy in /usr/local/lib/python3.7/dist-packages (from catboost) (1.4.1)\n",
            "Requirement already satisfied: plotly in /usr/local/lib/python3.7/dist-packages (from catboost) (4.4.1)\n",
            "Requirement already satisfied: python-dateutil>=2.7.3 in /usr/local/lib/python3.7/dist-packages (from pandas>=0.24.0->catboost) (2.8.2)\n",
            "Requirement already satisfied: pytz>=2017.2 in /usr/local/lib/python3.7/dist-packages (from pandas>=0.24.0->catboost) (2018.9)\n",
            "Requirement already satisfied: cycler>=0.10 in /usr/local/lib/python3.7/dist-packages (from matplotlib->catboost) (0.10.0)\n",
            "Requirement already satisfied: pyparsing!=2.0.4,!=2.1.2,!=2.1.6,>=2.0.1 in /usr/local/lib/python3.7/dist-packages (from matplotlib->catboost) (2.4.7)\n",
            "Requirement already satisfied: kiwisolver>=1.0.1 in /usr/local/lib/python3.7/dist-packages (from matplotlib->catboost) (1.3.1)\n",
            "Requirement already satisfied: retrying>=1.3.3 in /usr/local/lib/python3.7/dist-packages (from plotly->catboost) (1.3.3)\n"
          ]
        }
      ]
    },
    {
      "cell_type": "code",
      "metadata": {
        "id": "tiHdrEBwDQsp"
      },
      "source": [
        "from catboost import CatBoostRegressor"
      ],
      "execution_count": null,
      "outputs": []
    },
    {
      "cell_type": "code",
      "metadata": {
        "colab": {
          "base_uri": "https://localhost:8080/"
        },
        "id": "0nSUiotQDVLl",
        "outputId": "d69ce457-b91b-41fa-e56c-8fd8cc975637"
      },
      "source": [
        "model = CatBoostRegressor(iterations=50,\n",
        "                          learning_rate=0.6,\n",
        "                          depth=10)\n",
        "model.fit(X_train, y_train)"
      ],
      "execution_count": null,
      "outputs": [
        {
          "output_type": "stream",
          "name": "stdout",
          "text": [
            "0:\tlearn: 0.7326534\ttotal: 16.7ms\tremaining: 818ms\n",
            "1:\tlearn: 0.5455637\ttotal: 31.5ms\tremaining: 757ms\n",
            "2:\tlearn: 0.4545648\ttotal: 45.6ms\tremaining: 715ms\n",
            "3:\tlearn: 0.3936618\ttotal: 59.8ms\tremaining: 688ms\n",
            "4:\tlearn: 0.3572513\ttotal: 73.7ms\tremaining: 664ms\n",
            "5:\tlearn: 0.3353780\ttotal: 87.8ms\tremaining: 644ms\n",
            "6:\tlearn: 0.3171917\ttotal: 102ms\tremaining: 628ms\n",
            "7:\tlearn: 0.2807313\ttotal: 116ms\tremaining: 611ms\n",
            "8:\tlearn: 0.2646069\ttotal: 130ms\tremaining: 593ms\n",
            "9:\tlearn: 0.2506043\ttotal: 144ms\tremaining: 576ms\n",
            "10:\tlearn: 0.2416100\ttotal: 159ms\tremaining: 563ms\n",
            "11:\tlearn: 0.2332904\ttotal: 173ms\tremaining: 548ms\n",
            "12:\tlearn: 0.2228199\ttotal: 189ms\tremaining: 537ms\n",
            "13:\tlearn: 0.2114558\ttotal: 203ms\tremaining: 522ms\n",
            "14:\tlearn: 0.2014849\ttotal: 220ms\tremaining: 512ms\n",
            "15:\tlearn: 0.1851814\ttotal: 233ms\tremaining: 496ms\n",
            "16:\tlearn: 0.1847796\ttotal: 235ms\tremaining: 456ms\n",
            "17:\tlearn: 0.1788435\ttotal: 249ms\tremaining: 442ms\n",
            "18:\tlearn: 0.1671459\ttotal: 263ms\tremaining: 428ms\n",
            "19:\tlearn: 0.1633319\ttotal: 276ms\tremaining: 414ms\n",
            "20:\tlearn: 0.1527347\ttotal: 290ms\tremaining: 401ms\n",
            "21:\tlearn: 0.1489699\ttotal: 304ms\tremaining: 387ms\n",
            "22:\tlearn: 0.1410901\ttotal: 318ms\tremaining: 373ms\n",
            "23:\tlearn: 0.1347450\ttotal: 332ms\tremaining: 360ms\n",
            "24:\tlearn: 0.1308097\ttotal: 346ms\tremaining: 346ms\n",
            "25:\tlearn: 0.1247015\ttotal: 361ms\tremaining: 333ms\n",
            "26:\tlearn: 0.1225879\ttotal: 375ms\tremaining: 319ms\n",
            "27:\tlearn: 0.1197211\ttotal: 389ms\tremaining: 306ms\n",
            "28:\tlearn: 0.1147549\ttotal: 403ms\tremaining: 292ms\n",
            "29:\tlearn: 0.1103409\ttotal: 421ms\tremaining: 280ms\n",
            "30:\tlearn: 0.1076403\ttotal: 435ms\tremaining: 267ms\n",
            "31:\tlearn: 0.1013517\ttotal: 459ms\tremaining: 258ms\n",
            "32:\tlearn: 0.1000390\ttotal: 479ms\tremaining: 247ms\n",
            "33:\tlearn: 0.0956541\ttotal: 508ms\tremaining: 239ms\n",
            "34:\tlearn: 0.0933638\ttotal: 522ms\tremaining: 224ms\n",
            "35:\tlearn: 0.0904384\ttotal: 538ms\tremaining: 209ms\n",
            "36:\tlearn: 0.0876637\ttotal: 552ms\tremaining: 194ms\n",
            "37:\tlearn: 0.0844684\ttotal: 567ms\tremaining: 179ms\n",
            "38:\tlearn: 0.0818682\ttotal: 581ms\tremaining: 164ms\n",
            "39:\tlearn: 0.0804369\ttotal: 595ms\tremaining: 149ms\n",
            "40:\tlearn: 0.0780052\ttotal: 617ms\tremaining: 135ms\n",
            "41:\tlearn: 0.0754282\ttotal: 636ms\tremaining: 121ms\n",
            "42:\tlearn: 0.0728218\ttotal: 650ms\tremaining: 106ms\n",
            "43:\tlearn: 0.0704819\ttotal: 664ms\tremaining: 90.6ms\n",
            "44:\tlearn: 0.0684463\ttotal: 678ms\tremaining: 75.3ms\n",
            "45:\tlearn: 0.0665811\ttotal: 692ms\tremaining: 60.2ms\n",
            "46:\tlearn: 0.0652034\ttotal: 706ms\tremaining: 45ms\n",
            "47:\tlearn: 0.0632553\ttotal: 720ms\tremaining: 30ms\n",
            "48:\tlearn: 0.0614909\ttotal: 734ms\tremaining: 15ms\n",
            "49:\tlearn: 0.0601944\ttotal: 748ms\tremaining: 0us\n"
          ]
        },
        {
          "output_type": "execute_result",
          "data": {
            "text/plain": [
              "<catboost.core.CatBoostRegressor at 0x7f1b0a628750>"
            ]
          },
          "metadata": {},
          "execution_count": 538
        }
      ]
    },
    {
      "cell_type": "code",
      "metadata": {
        "id": "slOmGfRgjq9t"
      },
      "source": [
        "cat_y_train_pred= model.predict(X_train)\n",
        "cat_y_test_pred= model.predict(X_test)"
      ],
      "execution_count": null,
      "outputs": []
    },
    {
      "cell_type": "code",
      "metadata": {
        "colab": {
          "base_uri": "https://localhost:8080/"
        },
        "id": "AKaqdWgokziv",
        "outputId": "0acda4d9-61f1-485f-e29b-564d6b7e899f"
      },
      "source": [
        "cat_boost_r2_test = r2_score(y_test,cat_y_test_pred)\n",
        "cat_boost_r2_test"
      ],
      "execution_count": null,
      "outputs": [
        {
          "output_type": "execute_result",
          "data": {
            "text/plain": [
              "0.8189140248690157"
            ]
          },
          "metadata": {},
          "execution_count": 540
        }
      ]
    },
    {
      "cell_type": "code",
      "metadata": {
        "colab": {
          "base_uri": "https://localhost:8080/"
        },
        "id": "swx4ceUGk5wo",
        "outputId": "658523d2-f35b-4373-a1fd-bccdfb5ec906"
      },
      "source": [
        "cat_boost_r2_train=r2_score(y_train, cat_y_train_pred)\n",
        "cat_boost_r2_train"
      ],
      "execution_count": null,
      "outputs": [
        {
          "output_type": "execute_result",
          "data": {
            "text/plain": [
              "0.9965768354591866"
            ]
          },
          "metadata": {},
          "execution_count": 541
        }
      ]
    },
    {
      "cell_type": "code",
      "metadata": {
        "colab": {
          "base_uri": "https://localhost:8080/"
        },
        "id": "hVxGz2VAjuay",
        "outputId": "172d3d68-452f-480a-fa61-1ff588d583eb"
      },
      "source": [
        "mean_absolute_error(y_train,cat_y_train_pred)"
      ],
      "execution_count": null,
      "outputs": [
        {
          "output_type": "execute_result",
          "data": {
            "text/plain": [
              "0.039386241533520015"
            ]
          },
          "metadata": {},
          "execution_count": 542
        }
      ]
    },
    {
      "cell_type": "code",
      "metadata": {
        "colab": {
          "base_uri": "https://localhost:8080/"
        },
        "id": "FdZwKKLaj0Id",
        "outputId": "32a8a781-e9ef-4bd2-ed40-e601a1db3959"
      },
      "source": [
        "mean_absolute_error(y_test, cat_y_test_pred)"
      ],
      "execution_count": null,
      "outputs": [
        {
          "output_type": "execute_result",
          "data": {
            "text/plain": [
              "0.13374354988423143"
            ]
          },
          "metadata": {},
          "execution_count": 543
        }
      ]
    },
    {
      "cell_type": "code",
      "metadata": {
        "colab": {
          "base_uri": "https://localhost:8080/"
        },
        "id": "_EVEEVoKj5Q7",
        "outputId": "d445e94b-334b-4e30-a35e-d2ef237df246"
      },
      "source": [
        "cat_rmse_train = math.sqrt(mean_squared_error(y_train,cat_y_train_pred))\n",
        "cat_rmse_train"
      ],
      "execution_count": null,
      "outputs": [
        {
          "output_type": "execute_result",
          "data": {
            "text/plain": [
              "0.06019438008348462"
            ]
          },
          "metadata": {},
          "execution_count": 544
        }
      ]
    },
    {
      "cell_type": "code",
      "metadata": {
        "colab": {
          "base_uri": "https://localhost:8080/"
        },
        "id": "X3iNhouOj96N",
        "outputId": "8ee99f5b-4c2e-4ef8-c6d8-70344f634494"
      },
      "source": [
        "cat_rmse_test = math.sqrt(mean_squared_error(y_test,cat_y_test_pred))\n",
        "cat_rmse_test"
      ],
      "execution_count": null,
      "outputs": [
        {
          "output_type": "execute_result",
          "data": {
            "text/plain": [
              "0.37215554814784363"
            ]
          },
          "metadata": {},
          "execution_count": 545
        }
      ]
    },
    {
      "cell_type": "markdown",
      "metadata": {
        "id": "JoceZ_0SEbAg"
      },
      "source": [
        "# Continue:"
      ]
    },
    {
      "cell_type": "markdown",
      "metadata": {
        "id": "oQM83v64r402"
      },
      "source": [
        "**Plotting the correlation matrix.**"
      ]
    },
    {
      "cell_type": "code",
      "metadata": {
        "id": "vxUM9utEuu2Q"
      },
      "source": [
        "X=pd.DataFrame(X)"
      ],
      "execution_count": null,
      "outputs": []
    },
    {
      "cell_type": "code",
      "metadata": {
        "colab": {
          "base_uri": "https://localhost:8080/",
          "height": 168
        },
        "id": "4d4OcxB5npua",
        "outputId": "a2f8b2d1-cd2b-41f9-8ae6-bb28e2ca5f45"
      },
      "source": [
        "X.columns=['duration', 'speaker_1_avg_views', 'event_wise_avg_views','number_of_lang', 'num_of_topics', 'topics_wise_avg_views']"
      ],
      "execution_count": null,
      "outputs": [
        {
          "output_type": "error",
          "ename": "AttributeError",
          "evalue": "ignored",
          "traceback": [
            "\u001b[0;31m---------------------------------------------------------------------------\u001b[0m",
            "\u001b[0;31mAttributeError\u001b[0m                            Traceback (most recent call last)",
            "\u001b[0;32m<ipython-input-546-496960913f9b>\u001b[0m in \u001b[0;36m<module>\u001b[0;34m()\u001b[0m\n\u001b[0;32m----> 1\u001b[0;31m \u001b[0mX\u001b[0m\u001b[0;34m.\u001b[0m\u001b[0mcolumns\u001b[0m\u001b[0;34m=\u001b[0m\u001b[0;34m[\u001b[0m\u001b[0;34m'duration'\u001b[0m\u001b[0;34m,\u001b[0m \u001b[0;34m'speaker_1_avg_views'\u001b[0m\u001b[0;34m,\u001b[0m \u001b[0;34m'event_wise_avg_views'\u001b[0m\u001b[0;34m,\u001b[0m\u001b[0;34m'number_of_lang'\u001b[0m\u001b[0;34m,\u001b[0m \u001b[0;34m'num_of_topics'\u001b[0m\u001b[0;34m,\u001b[0m \u001b[0;34m'topics_wise_avg_views'\u001b[0m\u001b[0;34m]\u001b[0m\u001b[0;34m\u001b[0m\u001b[0;34m\u001b[0m\u001b[0m\n\u001b[0m",
            "\u001b[0;31mAttributeError\u001b[0m: 'numpy.ndarray' object has no attribute 'columns'"
          ]
        }
      ]
    },
    {
      "cell_type": "code",
      "metadata": {
        "id": "KXEdlQVaQg07"
      },
      "source": [
        "# Lets look at the correlation matrix now.\n",
        "fig = plt.figure(figsize=(16,8))\n",
        "ax = fig.add_subplot(111)\n",
        "sns.heatmap(X.corr(),annot=True, cmap='Spectral_r')"
      ],
      "execution_count": null,
      "outputs": []
    },
    {
      "cell_type": "markdown",
      "metadata": {
        "id": "jFmIDhkX4Cd4"
      },
      "source": [
        "###**Applying train test split**"
      ]
    },
    {
      "cell_type": "code",
      "metadata": {
        "id": "e4sbVDs1aLDZ"
      },
      "source": [
        "X_train, X_test, y_train, y_test = train_test_split(X, y, test_size=0.3, random_state=42)"
      ],
      "execution_count": null,
      "outputs": []
    },
    {
      "cell_type": "markdown",
      "metadata": {
        "id": "fJkzULj1s4c6"
      },
      "source": [
        "**Let's try to build a baseline model and we can improve from there.**"
      ]
    },
    {
      "cell_type": "markdown",
      "metadata": {
        "id": "8hltzTk64_qF"
      },
      "source": [
        "#**7. Fitting the regression models and HyperParameter Tuning**\n"
      ]
    },
    {
      "cell_type": "markdown",
      "metadata": {
        "id": "YSrBPROh3w27"
      },
      "source": [
        "##**7.1 Let's apply linear regression model.**"
      ]
    },
    {
      "cell_type": "code",
      "metadata": {
        "id": "cUbivNxHaBGb"
      },
      "source": [
        "#fitting the model\n",
        "from sklearn.linear_model import LinearRegression\n",
        "reg = LinearRegression().fit(X_train, y_train)"
      ],
      "execution_count": null,
      "outputs": []
    },
    {
      "cell_type": "code",
      "metadata": {
        "id": "CLaZ0dEIaA6a"
      },
      "source": [
        "#predicting the values for train and test set\n",
        "y_pred = reg.predict(X_train)\n",
        "y_test_pred = reg.predict(X_test)\n",
        "\n",
        "MSE  = mean_squared_error(y_test, y_test_pred)\n",
        "print(\"MSE on test is\" , MSE)\n",
        "\n",
        "RMSE = np.sqrt(MSE)\n",
        "print(\"RMSE on test is\" ,RMSE)\n",
        "\n",
        "y_pred = reg.predict(X_train)\n",
        "y_test_pred = reg.predict(X_test)\n",
        "print('Training MAE: {:0.2f}'.format(mean_absolute_error(y_train, y_pred)))\n",
        "print('Test MAE: {:0.2f}'.format(mean_absolute_error(y_test, y_test_pred)))"
      ],
      "execution_count": null,
      "outputs": []
    },
    {
      "cell_type": "markdown",
      "metadata": {
        "id": "XPEjIvNc-d8x"
      },
      "source": [
        "* **Despite of the fact that our features are not following linear assumption which we have checked earlier, this model is giving a satisfactory score.**"
      ]
    },
    {
      "cell_type": "markdown",
      "metadata": {
        "id": "TsLIwKVWsxzr"
      },
      "source": [
        "##**7.2 Random Forest Regressor**"
      ]
    },
    {
      "cell_type": "code",
      "metadata": {
        "id": "ujsoZBW1kIYM"
      },
      "source": [
        "#applying RandomForestRegressor on default parameters\n",
        "rf = RandomForestRegressor(criterion='mae')\n",
        "rf.fit(X_train, y_train)\n",
        "y_pred = rf.predict(X_train)\n",
        "y_test_pred = rf.predict(X_test)\n",
        "print('Training MAE: {:0.2f}'.format(metrics.mean_absolute_error(y_train, y_pred)))\n",
        "print('Test MAE: {:0.2f}'.format(metrics.mean_absolute_error(y_test, y_test_pred)))\n",
        "print('Target mean: {:0.2f}'.format(y.mean()))\n",
        "print('Target std: {:0.2f}'.format(y.std()))"
      ],
      "execution_count": null,
      "outputs": []
    },
    {
      "cell_type": "markdown",
      "metadata": {
        "id": "LVGE-FIYt18d"
      },
      "source": [
        "* **It's not a good score but we can improve by doing some feature selection and by hyperparameter tuning.**"
      ]
    },
    {
      "cell_type": "markdown",
      "metadata": {
        "id": "mR1GwdeKlFDb"
      },
      "source": [
        "**Defining Parameter Dict for Hyperparameter Tuning**"
      ]
    },
    {
      "cell_type": "code",
      "metadata": {
        "id": "sXk4c-TJZewy"
      },
      "source": [
        "#Random Forest Regressor param_dict\n",
        "n_estimators = [30,50,80,100,120,150]\n",
        "max_depth = [4,6,8,10,12]\n",
        "min_samples_split = [50,80,100,150,200]\n",
        "min_samples_leaf = [10,30,40,50,60,80]\n",
        "# HYperparameter Dict\n",
        "param_dict = {'n_estimators' : n_estimators,\n",
        "              'max_depth' : max_depth,\n",
        "              'min_samples_split' : min_samples_split,\n",
        "              'min_samples_leaf' : min_samples_leaf}"
      ],
      "execution_count": null,
      "outputs": []
    },
    {
      "cell_type": "markdown",
      "metadata": {
        "id": "wkZxRtl64MH-"
      },
      "source": [
        "**1. Hyperparameter Tuning using Randomized Search CV**"
      ]
    },
    {
      "cell_type": "code",
      "metadata": {
        "id": "3LXTdm6tZ0Rq",
        "colab": {
          "base_uri": "https://localhost:8080/"
        },
        "outputId": "4f7286bf-df6e-478b-9e57-8f2407fe18dd"
      },
      "source": [
        "# Create an instance of the random forest regressor\n",
        "rf_model = RandomForestRegressor(criterion='mae')\n",
        "\n",
        "#RandomSearch\n",
        "rf_random = RandomizedSearchCV(rf_model,param_dict,verbose=0,cv=5)\n",
        "rf_random.fit(X_train,y_train)"
      ],
      "execution_count": null,
      "outputs": [
        {
          "output_type": "execute_result",
          "data": {
            "text/plain": [
              "RandomizedSearchCV(cv=5, error_score=nan,\n",
              "                   estimator=RandomForestRegressor(bootstrap=True,\n",
              "                                                   ccp_alpha=0.0,\n",
              "                                                   criterion='mae',\n",
              "                                                   max_depth=None,\n",
              "                                                   max_features='auto',\n",
              "                                                   max_leaf_nodes=None,\n",
              "                                                   max_samples=None,\n",
              "                                                   min_impurity_decrease=0.0,\n",
              "                                                   min_impurity_split=None,\n",
              "                                                   min_samples_leaf=1,\n",
              "                                                   min_samples_split=2,\n",
              "                                                   min_weight_fraction_leaf=0.0,\n",
              "                                                   n_estimators=100,\n",
              "                                                   n_jobs=None, oob_score=False,\n",
              "                                                   random_state=None, verbose=0,\n",
              "                                                   warm_start=False),\n",
              "                   iid='deprecated', n_iter=10, n_jobs=None,\n",
              "                   param_distributions={'max_depth': [4, 6, 8],\n",
              "                                        'min_samples_leaf': [40, 50],\n",
              "                                        'min_samples_split': [50, 100, 150],\n",
              "                                        'n_estimators': [50, 80, 100]},\n",
              "                   pre_dispatch='2*n_jobs', random_state=None, refit=True,\n",
              "                   return_train_score=False, scoring=None, verbose=0)"
            ]
          },
          "metadata": {},
          "execution_count": 547
        }
      ]
    },
    {
      "cell_type": "code",
      "metadata": {
        "id": "Ec1z76aIZ5Ya"
      },
      "source": [
        "#finding the optimal model w.r.t. best_estimator_\n",
        "rf_optimal_model = rf_random.best_estimator_"
      ],
      "execution_count": null,
      "outputs": []
    },
    {
      "cell_type": "code",
      "metadata": {
        "id": "cv1hX23IbWck",
        "colab": {
          "base_uri": "https://localhost:8080/"
        },
        "outputId": "7653d4ca-35da-4670-e680-365ed699323d"
      },
      "source": [
        "rf_optimal_model"
      ],
      "execution_count": null,
      "outputs": [
        {
          "output_type": "execute_result",
          "data": {
            "text/plain": [
              "RandomForestRegressor(bootstrap=True, ccp_alpha=0.0, criterion='mae',\n",
              "                      max_depth=6, max_features='auto', max_leaf_nodes=None,\n",
              "                      max_samples=None, min_impurity_decrease=0.0,\n",
              "                      min_impurity_split=None, min_samples_leaf=40,\n",
              "                      min_samples_split=50, min_weight_fraction_leaf=0.0,\n",
              "                      n_estimators=50, n_jobs=None, oob_score=False,\n",
              "                      random_state=None, verbose=0, warm_start=False)"
            ]
          },
          "metadata": {},
          "execution_count": 549
        }
      ]
    },
    {
      "cell_type": "code",
      "metadata": {
        "id": "kD-XKFipZ95D",
        "colab": {
          "base_uri": "https://localhost:8080/"
        },
        "outputId": "d7430948-851d-4377-f747-2f4b51861435"
      },
      "source": [
        "#calculating the MAE on train and test set\n",
        "y_pred = rf_optimal_model.predict(X_train)\n",
        "y_test_pred = rf_optimal_model.predict(X_test)\n",
        "print('Training MAE: {:0.2f}'.format(metrics.mean_absolute_error(y_train, y_pred)))\n",
        "print('Test MAE: {:0.2f}'.format(metrics.mean_absolute_error(y_test, y_test_pred)))"
      ],
      "execution_count": null,
      "outputs": [
        {
          "output_type": "stream",
          "name": "stdout",
          "text": [
            "Training MAE: 0.13\n",
            "Test MAE: 0.12\n"
          ]
        }
      ]
    },
    {
      "cell_type": "code",
      "metadata": {
        "id": "1kyq1Z2oanY2",
        "colab": {
          "base_uri": "https://localhost:8080/"
        },
        "outputId": "419f2f71-fc10-454c-a409-47be3b82de0a"
      },
      "source": [
        "# make predictions for test data\n",
        "y_hat = rf_optimal_model.predict(X_test)\n",
        "print(f'r_sqr value for train: {rf_optimal_model.score(X_train, y_train)}')\n",
        "r_squared= r2_score(y_test,y_hat)\n",
        "#Calculate Adjusted R-sqaured\n",
        "adjusted_r_squared = 1 - (1-r_squared)*(len(y)-1)/(len(y)-X.shape[1]-1)\n",
        "print(f'For test set the R_Squared for RFforest is {r_squared} and adjusted R_Squared is {adjusted_r_squared}')"
      ],
      "execution_count": null,
      "outputs": [
        {
          "output_type": "stream",
          "name": "stdout",
          "text": [
            "r_sqr value for train: 0.5026389648341149\n",
            "For test set the R_Squared for RFforest is 0.6844469535667226 and adjusted R_Squared is 0.6838152157360253\n"
          ]
        }
      ]
    },
    {
      "cell_type": "markdown",
      "metadata": {
        "id": "zahRt2VE7BW_"
      },
      "source": [
        "###**Let's plot all the scores of rf_optimal_model together.**"
      ]
    },
    {
      "cell_type": "code",
      "metadata": {
        "colab": {
          "base_uri": "https://localhost:8080/",
          "height": 80
        },
        "id": "78l3y9fF7B7J",
        "outputId": "6438b6fb-f3db-4741-f48a-ca55becb16e2"
      },
      "source": [
        "#Defining the model\n",
        "model =[\n",
        "        ['RandomForest ',RandomForestRegressor(criterion='mae',max_depth=6,min_samples_leaf=30,min_samples_split=80,n_estimators=150,random_state=42)]\n",
        "      ]\n",
        "#Let's run the the model and store the results in a dataframe\n",
        "model_data = []\n",
        "for name,curr_model in model :\n",
        "    curr_model_data = {}\n",
        "    curr_model.random_state = 42\n",
        "    curr_model_data[\"Model_Name\"] = name\n",
        "    curr_model.fit(X_train,y_train)\n",
        "    curr_model_data[\"MAE_train\"] =metrics.mean_absolute_error(y_train, curr_model.predict(X_train))\n",
        "    curr_model_data[\"MAE_test\"] =metrics.mean_absolute_error(y_test, curr_model.predict(X_test))\n",
        "    curr_model_data[\"R2_Score_train\"] = r2_score(y_train,curr_model.predict(X_train))\n",
        "    curr_model_data[\"R2_Score_test\"] = r2_score(y_test,curr_model.predict(X_test))\n",
        "    curr_model_data[\"RMSE_Score_train\"] = np.sqrt(mean_squared_error(y_train,curr_model.predict(X_train)))\n",
        "    curr_model_data[\"RMSE_Score_test\"] = np.sqrt(mean_squared_error(y_test,curr_model.predict(X_test)))\n",
        "    model_data.append(curr_model_data)\n",
        "\n",
        "results_df_rf = pd.DataFrame(model_data)\n",
        "\n",
        "#printing the results_df_rf\n",
        "results_df_rf"
      ],
      "execution_count": null,
      "outputs": [
        {
          "output_type": "execute_result",
          "data": {
            "text/html": [
              "<div>\n",
              "<style scoped>\n",
              "    .dataframe tbody tr th:only-of-type {\n",
              "        vertical-align: middle;\n",
              "    }\n",
              "\n",
              "    .dataframe tbody tr th {\n",
              "        vertical-align: top;\n",
              "    }\n",
              "\n",
              "    .dataframe thead th {\n",
              "        text-align: right;\n",
              "    }\n",
              "</style>\n",
              "<table border=\"1\" class=\"dataframe\">\n",
              "  <thead>\n",
              "    <tr style=\"text-align: right;\">\n",
              "      <th></th>\n",
              "      <th>Model_Name</th>\n",
              "      <th>MAE_train</th>\n",
              "      <th>MAE_test</th>\n",
              "      <th>R2_Score_train</th>\n",
              "      <th>R2_Score_test</th>\n",
              "      <th>RMSE_Score_train</th>\n",
              "      <th>RMSE_Score_test</th>\n",
              "    </tr>\n",
              "  </thead>\n",
              "  <tbody>\n",
              "    <tr>\n",
              "      <th>0</th>\n",
              "      <td>RandomForest</td>\n",
              "      <td>0.127342</td>\n",
              "      <td>0.115492</td>\n",
              "      <td>0.522206</td>\n",
              "      <td>0.698153</td>\n",
              "      <td>0.711152</td>\n",
              "      <td>0.480481</td>\n",
              "    </tr>\n",
              "  </tbody>\n",
              "</table>\n",
              "</div>"
            ],
            "text/plain": [
              "      Model_Name  MAE_train  ...  RMSE_Score_train  RMSE_Score_test\n",
              "0  RandomForest    0.127342  ...          0.711152         0.480481\n",
              "\n",
              "[1 rows x 7 columns]"
            ]
          },
          "metadata": {},
          "execution_count": 552
        }
      ]
    },
    {
      "cell_type": "markdown",
      "metadata": {
        "id": "NdxeG7CstNld"
      },
      "source": [
        "###**Let's plot the feature importance score w.r.t. RF model**"
      ]
    },
    {
      "cell_type": "code",
      "metadata": {
        "id": "r5NC0F9Ikkh1",
        "colab": {
          "base_uri": "https://localhost:8080/",
          "height": 239
        },
        "outputId": "00e2681c-b910-454c-b809-5d9e46d90ade"
      },
      "source": [
        "importances = pd.DataFrame({'Features': X.columns, \n",
        "                                'Importances': rf_optimal_model.feature_importances_})\n",
        "    \n",
        "importances.sort_values(by=['Importances'], axis='index', ascending=False, inplace=True)\n",
        "fig = plt.figure(figsize=(14, 4))\n",
        "sns.barplot(x='Features', y='Importances', data=importances)\n",
        "plt.xticks(rotation='vertical')\n",
        "plt.title('Feature importance score w.r.t. RFRegressor model')\n",
        "plt.show()"
      ],
      "execution_count": null,
      "outputs": [
        {
          "output_type": "error",
          "ename": "AttributeError",
          "evalue": "ignored",
          "traceback": [
            "\u001b[0;31m---------------------------------------------------------------------------\u001b[0m",
            "\u001b[0;31mAttributeError\u001b[0m                            Traceback (most recent call last)",
            "\u001b[0;32m<ipython-input-553-ce8d65b978a9>\u001b[0m in \u001b[0;36m<module>\u001b[0;34m()\u001b[0m\n\u001b[0;32m----> 1\u001b[0;31m importances = pd.DataFrame({'Features': X.columns, \n\u001b[0m\u001b[1;32m      2\u001b[0m                                 'Importances': rf_optimal_model.feature_importances_})\n\u001b[1;32m      3\u001b[0m \u001b[0;34m\u001b[0m\u001b[0m\n\u001b[1;32m      4\u001b[0m \u001b[0mimportances\u001b[0m\u001b[0;34m.\u001b[0m\u001b[0msort_values\u001b[0m\u001b[0;34m(\u001b[0m\u001b[0mby\u001b[0m\u001b[0;34m=\u001b[0m\u001b[0;34m[\u001b[0m\u001b[0;34m'Importances'\u001b[0m\u001b[0;34m]\u001b[0m\u001b[0;34m,\u001b[0m \u001b[0maxis\u001b[0m\u001b[0;34m=\u001b[0m\u001b[0;34m'index'\u001b[0m\u001b[0;34m,\u001b[0m \u001b[0mascending\u001b[0m\u001b[0;34m=\u001b[0m\u001b[0;32mFalse\u001b[0m\u001b[0;34m,\u001b[0m \u001b[0minplace\u001b[0m\u001b[0;34m=\u001b[0m\u001b[0;32mTrue\u001b[0m\u001b[0;34m)\u001b[0m\u001b[0;34m\u001b[0m\u001b[0;34m\u001b[0m\u001b[0m\n\u001b[1;32m      5\u001b[0m \u001b[0mfig\u001b[0m \u001b[0;34m=\u001b[0m \u001b[0mplt\u001b[0m\u001b[0;34m.\u001b[0m\u001b[0mfigure\u001b[0m\u001b[0;34m(\u001b[0m\u001b[0mfigsize\u001b[0m\u001b[0;34m=\u001b[0m\u001b[0;34m(\u001b[0m\u001b[0;36m14\u001b[0m\u001b[0;34m,\u001b[0m \u001b[0;36m4\u001b[0m\u001b[0;34m)\u001b[0m\u001b[0;34m)\u001b[0m\u001b[0;34m\u001b[0m\u001b[0;34m\u001b[0m\u001b[0m\n",
            "\u001b[0;31mAttributeError\u001b[0m: 'numpy.ndarray' object has no attribute 'columns'"
          ]
        }
      ]
    },
    {
      "cell_type": "markdown",
      "metadata": {
        "id": "346O4YZOt98T"
      },
      "source": [
        "* **speaker_avg_views is the most important feature in RandomForestregressor followed by event_wise_avg_views.**"
      ]
    },
    {
      "cell_type": "markdown",
      "metadata": {
        "id": "mQx8zvtN4f8Y"
      },
      "source": [
        "##**7.3 Applying XGboost regressor model**"
      ]
    },
    {
      "cell_type": "code",
      "metadata": {
        "id": "PitZyId06o-m"
      },
      "source": [
        "#XGBoost Regressor\n",
        "# Number of trees\n",
        "n_estimators = [50,80,100]\n",
        "# Maximum depth of trees\n",
        "max_depth = [4,6,8]\n",
        "# Minimum number of samples required to split a node\n",
        "min_samples_split = [50,100,150]\n",
        "# Minimum number of samples required at each leaf node\n",
        "min_samples_leaf = [40,50]\n",
        "# HYperparameter Dict\n",
        "param_dict = {'n_estimators' : n_estimators,\n",
        "              'max_depth' : max_depth,\n",
        "              'min_samples_split' : min_samples_split,\n",
        "              'min_samples_leaf' : min_samples_leaf}"
      ],
      "execution_count": null,
      "outputs": []
    },
    {
      "cell_type": "code",
      "metadata": {
        "id": "sDsYRRZF68CO"
      },
      "source": [
        "from xgboost import XGBRegressor\n",
        "# Create an instance of the XGBoost\n",
        "xgb_model = XGBRegressor(learning_rate=0.1)\n",
        "#RandomSearch\n",
        "xgb_random = RandomizedSearchCV(xgb_model,param_dict,verbose=2,cv=5)\n",
        "xgb_random.fit(X_train,y_train)"
      ],
      "execution_count": null,
      "outputs": []
    },
    {
      "cell_type": "code",
      "metadata": {
        "id": "C6GYjuqv8VXH"
      },
      "source": [
        "#finding xgb_optimal_model\n",
        "xgb_optimal_model = xgb_random.best_estimator_"
      ],
      "execution_count": null,
      "outputs": []
    },
    {
      "cell_type": "code",
      "metadata": {
        "id": "LRtq1GlvM20i"
      },
      "source": [
        "xgb_optimal_model"
      ],
      "execution_count": null,
      "outputs": []
    },
    {
      "cell_type": "code",
      "metadata": {
        "id": "e-HWXP-n7tpZ"
      },
      "source": [
        "# make predictions for test data\n",
        "y_hat = xgb_optimal_model.predict(X_test)\n",
        "print(f'r_sqr value for train: {xgb_optimal_model.score(X_train, y_train)}')\n",
        "r_squared= r2_score(y_test,y_hat)\n",
        "#Calculate Adjusted R-sqaured\n",
        "adjusted_r_squared = 1 - (1-r_squared)*(len(y)-1)/(len(y)-X.shape[1]-1)\n",
        "print(f'For test set the R_Squared for XGBoost is {r_squared} and adjusted R_Squared is {adjusted_r_squared}')"
      ],
      "execution_count": null,
      "outputs": []
    },
    {
      "cell_type": "code",
      "metadata": {
        "id": "qsDWB5fG8fbT"
      },
      "source": [
        "y_pred = xgb_optimal_model.predict(X_train)\n",
        "y_test_pred = xgb_optimal_model.predict(X_test)\n",
        "print('Training MAE: {:0.2f}'.format(metrics.mean_absolute_error(y_train, y_pred)))\n",
        "print('Test MAE: {:0.2f}'.format(metrics.mean_absolute_error(y_test, y_test_pred)))"
      ],
      "execution_count": null,
      "outputs": []
    },
    {
      "cell_type": "markdown",
      "metadata": {
        "id": "THJl700h6mYG"
      },
      "source": [
        "###**Let's plot all the scores of xgb_optimal_model together.**"
      ]
    },
    {
      "cell_type": "code",
      "metadata": {
        "id": "_E4peKCP6p7a"
      },
      "source": [
        "#Defining the model\n",
        "model = [\n",
        "           ['XGBRegressor: ', xgb.XGBRegressor(base_score=0.5, booster='gbtree',colsample_bytree=1, gamma=0,importance_type='gain', learning_rate=0.1,max_depth=4, min_samples_leaf=40,\n",
        "             min_samples_split=150, n_estimators=80)]         \n",
        "         ]\n",
        "#Let's run the the model\n",
        "model_data = []\n",
        "for name,curr_model in model :\n",
        "    curr_model_data = {}\n",
        "    curr_model.random_state = 42\n",
        "    curr_model_data[\"Model_Name\"] = name\n",
        "    curr_model.fit(X_train,y_train)\n",
        "    curr_model_data[\"MAE_train\"] =metrics.mean_absolute_error(y_train, curr_model.predict(X_train))\n",
        "    curr_model_data[\"MAE_test\"] =metrics.mean_absolute_error(y_test, curr_model.predict(X_test))\n",
        "    curr_model_data[\"R2_Score_train\"] = r2_score(y_train,curr_model.predict(X_train))\n",
        "    curr_model_data[\"R2_Score_test\"] = r2_score(y_test,curr_model.predict(X_test))\n",
        "    curr_model_data[\"RMSE_Score_train\"] = np.sqrt(mean_squared_error(y_train,curr_model.predict(X_train)))\n",
        "    curr_model_data[\"RMSE_Score_test\"] = np.sqrt(mean_squared_error(y_test,curr_model.predict(X_test)))\n",
        "    model_data.append(curr_model_data)\n",
        "\n",
        "results_df_xgb = pd.DataFrame(model_data)\n",
        "#printing the results_df_xgb\n",
        "results_df_xgb"
      ],
      "execution_count": null,
      "outputs": []
    },
    {
      "cell_type": "markdown",
      "metadata": {
        "id": "su4D2u9l8K_x"
      },
      "source": [
        "###**Let's plot the feature importance score w.r.t. XGBregressor model**"
      ]
    },
    {
      "cell_type": "code",
      "metadata": {
        "id": "EiUC3FrB7_Mb"
      },
      "source": [
        "importances = pd.DataFrame({'Features': X.columns, \n",
        "                                'Importances': xgb_optimal_model.feature_importances_})\n",
        "    \n",
        "importances.sort_values(by=['Importances'], axis='index', ascending=False, inplace=True)\n",
        "fig = plt.figure(figsize=(14, 4))\n",
        "sns.barplot(x='Features', y='Importances', data=importances)\n",
        "plt.xticks(rotation='vertical')\n",
        "plt.title('Feature importance score w.r.t. XGBregressor model')\n",
        "plt.show()"
      ],
      "execution_count": null,
      "outputs": []
    },
    {
      "cell_type": "markdown",
      "metadata": {
        "id": "3x4RBgTgvXTJ"
      },
      "source": [
        "* **speaker1_avg_views is the most important feature in XGBregressor model followed by event_wise_avg_views.**"
      ]
    },
    {
      "cell_type": "markdown",
      "metadata": {
        "id": "ogBqRaXoBzoV"
      },
      "source": [
        "sdaf"
      ]
    },
    {
      "cell_type": "markdown",
      "metadata": {
        "id": "VOOCfaqXuLhF"
      },
      "source": [
        "##**7.4 Let's try ExtraTreesRegressor.**"
      ]
    },
    {
      "cell_type": "code",
      "metadata": {
        "id": "fBCwXlSilhk8"
      },
      "source": [
        "et = ExtraTreesRegressor(criterion='mae', max_depth=30, n_estimators=200, min_samples_leaf=2, min_samples_split=6)\n",
        "et.fit(X_train, y_train)\n",
        "y_pred = et.predict(X_train)\n",
        "y_test_pred = et.predict(X_test)\n",
        "print('Training MAE: {:0.2f}'.format(metrics.mean_absolute_error(y_train, y_pred)))\n",
        "print('Test MAE: {:0.2f}'.format(metrics.mean_absolute_error(y_test, y_test_pred)))"
      ],
      "execution_count": null,
      "outputs": []
    },
    {
      "cell_type": "markdown",
      "metadata": {
        "id": "8LFV3VupmFN6"
      },
      "source": [
        "**Hyperparameter Tuning using Randomized Search CV**"
      ]
    },
    {
      "cell_type": "code",
      "metadata": {
        "id": "g2bf9GsO8pLU"
      },
      "source": [
        "#Extra Trees Regressor paramdict\n",
        "# Number of trees\n",
        "n_estimators = [50,80,100]\n",
        "# Maximum depth of trees\n",
        "max_depth = [4,6,8]\n",
        "# Minimum number of samples required to split a node\n",
        "min_samples_split = [50,100,150]\n",
        "# Minimum number of samples required at each leaf node\n",
        "min_samples_leaf = [40,50]\n",
        "# HYperparameter Dict\n",
        "param_dict = {'n_estimators' : n_estimators,\n",
        "              'max_depth' : max_depth,\n",
        "              'min_samples_split' : min_samples_split,\n",
        "              'min_samples_leaf' : min_samples_leaf}"
      ],
      "execution_count": null,
      "outputs": []
    },
    {
      "cell_type": "code",
      "metadata": {
        "id": "aNSNynhP9OcD"
      },
      "source": [
        "# Create an instance of the Extratrees regressor\n",
        "et_model = ExtraTreesRegressor(criterion='mae')\n",
        "\n",
        "#RandomSearch\n",
        "et_random = RandomizedSearchCV(et_model,param_dict,verbose=2,cv=5)\n",
        "et_random.fit(X_train,y_train)"
      ],
      "execution_count": null,
      "outputs": []
    },
    {
      "cell_type": "code",
      "metadata": {
        "id": "x_bP-qIx9OML"
      },
      "source": [
        "et_optimal_model = et_random.best_estimator_"
      ],
      "execution_count": null,
      "outputs": []
    },
    {
      "cell_type": "code",
      "metadata": {
        "id": "hKwm1Cso9Th4"
      },
      "source": [
        "y_pred = et_optimal_model.predict(X_train)\n",
        "y_test_pred = et_optimal_model.predict(X_test)\n",
        "print('Training MAE: {:0.2f}'.format(metrics.mean_absolute_error(y_train, y_pred)))\n",
        "print('Test MAE: {:0.2f}'.format(metrics.mean_absolute_error(y_test, y_test_pred)))"
      ],
      "execution_count": null,
      "outputs": []
    },
    {
      "cell_type": "code",
      "metadata": {
        "id": "B3rldm2M9TfY"
      },
      "source": [
        "# make predictions for test data\n",
        "y_hat = et_optimal_model.predict(X_test)\n",
        "print(f'r_sqr value for train: {et_optimal_model.score(X_train, y_train)}')\n",
        "r_squared= r2_score(y_test,y_hat)\n",
        "#Calculate Adjusted R-sqaured\n",
        "adjusted_r_squared = 1 - (1-r_squared)*(len(y)-1)/(len(y)-X.shape[1]-1)\n",
        "print(f'For test the R_Squared for ExtraTreesRegressor is {r_squared} and adjusted R_Squared is {adjusted_r_squared}')"
      ],
      "execution_count": null,
      "outputs": []
    },
    {
      "cell_type": "markdown",
      "metadata": {
        "id": "iOTwKuyl6G5b"
      },
      "source": [
        "###**Let's plot all the scores of et_optimal_model together.**"
      ]
    },
    {
      "cell_type": "code",
      "metadata": {
        "id": "RdgM9QGp1FF3"
      },
      "source": [
        "#Defining the model\n",
        "model = [\n",
        "           ['ExtraTreeRegressor :',ExtraTreesRegressor(criterion='mae',max_depth=6, min_samples_leaf=40,min_samples_split=100, n_estimators=50)],\n",
        "         ]\n",
        "#Let's run the the model\n",
        "model_data = []\n",
        "for name,curr_model in model :\n",
        "    curr_model_data = {}\n",
        "    curr_model.random_state = 42\n",
        "    curr_model_data[\"Model_Name\"] = name\n",
        "    curr_model.fit(X_train,y_train)\n",
        "    curr_model_data[\"MAE_train\"] =metrics.mean_absolute_error(y_train, curr_model.predict(X_train))\n",
        "    curr_model_data[\"MAE_test\"] =metrics.mean_absolute_error(y_test, curr_model.predict(X_test))\n",
        "    curr_model_data[\"R2_Score_train\"] = r2_score(y_train,curr_model.predict(X_train))\n",
        "    curr_model_data[\"R2_Score_test\"] = r2_score(y_test,curr_model.predict(X_test))\n",
        "    curr_model_data[\"RMSE_Score_train\"] = np.sqrt(mean_squared_error(y_train,curr_model.predict(X_train)))\n",
        "    curr_model_data[\"RMSE_Score_test\"] = np.sqrt(mean_squared_error(y_test,curr_model.predict(X_test)))\n",
        "    model_data.append(curr_model_data)\n",
        "\n",
        "results_df_et = pd.DataFrame(model_data)\n",
        "#printing the results_df_et\n",
        "results_df_et"
      ],
      "execution_count": null,
      "outputs": []
    },
    {
      "cell_type": "markdown",
      "metadata": {
        "id": "MRvK1kfy8Rew"
      },
      "source": [
        "**Let's plot the feature importance score w.r.t. ExtraTreesRegressor model**"
      ]
    },
    {
      "cell_type": "code",
      "metadata": {
        "id": "iFswhE_C8Ssx"
      },
      "source": [
        "importances = pd.DataFrame({'Features': X.columns, \n",
        "                                'Importances': et.feature_importances_})\n",
        "    \n",
        "importances.sort_values(by=['Importances'], axis='index', ascending=False, inplace=True)\n",
        "fig = plt.figure(figsize=(14, 4))\n",
        "sns.barplot(x='Features', y='Importances', data=importances)\n",
        "plt.xticks(rotation='vertical')\n",
        "plt.title('Feature importance score w.r.t. ExtraTreesRegressor model')\n",
        "plt.show()"
      ],
      "execution_count": null,
      "outputs": []
    },
    {
      "cell_type": "markdown",
      "metadata": {
        "id": "LG2m96w9vlI8"
      },
      "source": [
        "* **speaker1_avg_views is the most important feature in RandomForestregressor followed by comments.**"
      ]
    },
    {
      "cell_type": "markdown",
      "metadata": {
        "id": "i94G-Y9wAsK6"
      },
      "source": [
        "* **In all the models speaker_1_avg_views is impacting the much.**"
      ]
    },
    {
      "cell_type": "markdown",
      "metadata": {
        "id": "9cEIJAa85bXy"
      },
      "source": [
        "#**8. Comparison of different regressor Models**"
      ]
    },
    {
      "cell_type": "markdown",
      "metadata": {
        "id": "Pn3laqmdXxAA"
      },
      "source": [
        "##**The ML regressor models that we have used are :**\n",
        "\n",
        "* Lasso Regressor\n",
        "* Ridge Regressor\n",
        "* KNearestNeighbors Regressor\n",
        "* Random Forest Regressor\n",
        "* Extra Tree Regressor\n",
        "* Gradient Boosting Regressor\n",
        "* XGB Regressor"
      ]
    },
    {
      "cell_type": "markdown",
      "metadata": {
        "id": "O-LUDFLU5Y1j"
      },
      "source": [
        "\n",
        "\n",
        "\n",
        "\n",
        "\n",
        "\n",
        "* **Let's try all these models together and store the scores in a new dataframe.**"
      ]
    },
    {
      "cell_type": "code",
      "metadata": {
        "id": "HKsWQiuJX_Ug"
      },
      "source": [
        "#Defining all these models\n",
        "models = [\n",
        "           ['Lasso: ', Lasso()],\n",
        "           ['Ridge: ', Ridge()],\n",
        "           ['KNeighborsRegressor: ',  neighbors.KNeighborsRegressor()],\n",
        "           ['RandomForest ',RandomForestRegressor(criterion='mae',max_depth=6,min_samples_leaf=30,min_samples_split=80,n_estimators=150,random_state=42)],\n",
        "           ['ExtraTreeRegressor :',ExtraTreesRegressor(criterion='mae',max_depth=6, min_samples_leaf=40,min_samples_split=100, n_estimators=50)],\n",
        "           ['GradientBoostingRegressor: ', GradientBoostingRegressor()] ,\n",
        "           ['XGBRegressor: ', xgb.XGBRegressor(base_score=0.5, booster='gbtree',colsample_bytree=1, gamma=0,importance_type='gain', learning_rate=0.1,max_depth=4, min_samples_leaf=40,\n",
        "             min_samples_split=150, n_estimators=80)]          \n",
        "        ]"
      ],
      "execution_count": null,
      "outputs": []
    },
    {
      "cell_type": "code",
      "metadata": {
        "id": "jqPox6-lX_O_",
        "colab": {
          "base_uri": "https://localhost:8080/"
        },
        "outputId": "3fcef7b1-f1d9-4b37-b024-c1b57fb498f0"
      },
      "source": [
        "#Let's run all the models and store the scores\n",
        "model_data = []\n",
        "for name,curr_model in models :\n",
        "    curr_model_data = {}\n",
        "    curr_model.random_state = 78\n",
        "    curr_model_data[\"Name\"] = name\n",
        "    curr_model.fit(X_train,y_train)\n",
        "    curr_model_data[\"MAE_train\"] =metrics.mean_absolute_error(y_train, curr_model.predict(X_train))\n",
        "    curr_model_data[\"MAE_test\"] =metrics.mean_absolute_error(y_test, curr_model.predict(X_test))\n",
        "    curr_model_data[\"R2_Score_train\"] = r2_score(y_train,curr_model.predict(X_train))\n",
        "    curr_model_data[\"R2_Score_test\"] = r2_score(y_test,curr_model.predict(X_test))\n",
        "    curr_model_data[\"RMSE_Score_train\"] = np.sqrt(mean_squared_error(y_train,curr_model.predict(X_train)))\n",
        "    curr_model_data[\"RMSE_Score_test\"] = np.sqrt(mean_squared_error(y_test,curr_model.predict(X_test)))\n",
        "    model_data.append(curr_model_data)"
      ],
      "execution_count": null,
      "outputs": [
        {
          "output_type": "stream",
          "text": [
            "[14:33:01] WARNING: /workspace/src/objective/regression_obj.cu:152: reg:linear is now deprecated in favor of reg:squarederror.\n"
          ],
          "name": "stdout"
        }
      ]
    },
    {
      "cell_type": "code",
      "metadata": {
        "id": "IXp1XiY0X_Mx",
        "colab": {
          "base_uri": "https://localhost:8080/",
          "height": 266
        },
        "outputId": "361273d9-e740-4d24-c105-16ab136c8984"
      },
      "source": [
        "#printing the results dataframe\n",
        "results_df = pd.DataFrame(model_data)\n",
        "results_df"
      ],
      "execution_count": null,
      "outputs": [
        {
          "output_type": "execute_result",
          "data": {
            "text/html": [
              "<div>\n",
              "<style scoped>\n",
              "    .dataframe tbody tr th:only-of-type {\n",
              "        vertical-align: middle;\n",
              "    }\n",
              "\n",
              "    .dataframe tbody tr th {\n",
              "        vertical-align: top;\n",
              "    }\n",
              "\n",
              "    .dataframe thead th {\n",
              "        text-align: right;\n",
              "    }\n",
              "</style>\n",
              "<table border=\"1\" class=\"dataframe\">\n",
              "  <thead>\n",
              "    <tr style=\"text-align: right;\">\n",
              "      <th></th>\n",
              "      <th>Name</th>\n",
              "      <th>MAE_train</th>\n",
              "      <th>MAE_test</th>\n",
              "      <th>R2_Score_train</th>\n",
              "      <th>R2_Score_test</th>\n",
              "      <th>RMSE_Score_train</th>\n",
              "      <th>RMSE_Score_test</th>\n",
              "    </tr>\n",
              "  </thead>\n",
              "  <tbody>\n",
              "    <tr>\n",
              "      <th>0</th>\n",
              "      <td>Lasso:</td>\n",
              "      <td>271274.111668</td>\n",
              "      <td>264440.174911</td>\n",
              "      <td>0.815987</td>\n",
              "      <td>0.818812</td>\n",
              "      <td>472949.076161</td>\n",
              "      <td>469188.059992</td>\n",
              "    </tr>\n",
              "    <tr>\n",
              "      <th>1</th>\n",
              "      <td>Ridge:</td>\n",
              "      <td>271268.806893</td>\n",
              "      <td>264431.235192</td>\n",
              "      <td>0.815987</td>\n",
              "      <td>0.818815</td>\n",
              "      <td>472949.080194</td>\n",
              "      <td>469185.219289</td>\n",
              "    </tr>\n",
              "    <tr>\n",
              "      <th>2</th>\n",
              "      <td>KNeighborsRegressor:</td>\n",
              "      <td>231054.636746</td>\n",
              "      <td>281932.195424</td>\n",
              "      <td>0.856594</td>\n",
              "      <td>0.783506</td>\n",
              "      <td>417516.848940</td>\n",
              "      <td>512868.181145</td>\n",
              "    </tr>\n",
              "    <tr>\n",
              "      <th>3</th>\n",
              "      <td>RandomForest</td>\n",
              "      <td>186583.315347</td>\n",
              "      <td>191844.536467</td>\n",
              "      <td>0.806193</td>\n",
              "      <td>0.803246</td>\n",
              "      <td>485371.330401</td>\n",
              "      <td>488927.132141</td>\n",
              "    </tr>\n",
              "    <tr>\n",
              "      <th>4</th>\n",
              "      <td>ExtraTreeRegressor :</td>\n",
              "      <td>207304.048833</td>\n",
              "      <td>204793.751052</td>\n",
              "      <td>0.796536</td>\n",
              "      <td>0.806390</td>\n",
              "      <td>497317.341381</td>\n",
              "      <td>485005.015211</td>\n",
              "    </tr>\n",
              "    <tr>\n",
              "      <th>5</th>\n",
              "      <td>GradientBoostingRegressor:</td>\n",
              "      <td>185605.875057</td>\n",
              "      <td>229700.882687</td>\n",
              "      <td>0.898735</td>\n",
              "      <td>0.833019</td>\n",
              "      <td>350848.278702</td>\n",
              "      <td>450418.365989</td>\n",
              "    </tr>\n",
              "    <tr>\n",
              "      <th>6</th>\n",
              "      <td>XGBRegressor:</td>\n",
              "      <td>164091.332037</td>\n",
              "      <td>226944.860549</td>\n",
              "      <td>0.918158</td>\n",
              "      <td>0.830151</td>\n",
              "      <td>315411.385197</td>\n",
              "      <td>454270.753145</td>\n",
              "    </tr>\n",
              "  </tbody>\n",
              "</table>\n",
              "</div>"
            ],
            "text/plain": [
              "                          Name  ...  RMSE_Score_test\n",
              "0                      Lasso:   ...    469188.059992\n",
              "1                      Ridge:   ...    469185.219289\n",
              "2        KNeighborsRegressor:   ...    512868.181145\n",
              "3                RandomForest   ...    488927.132141\n",
              "4         ExtraTreeRegressor :  ...    485005.015211\n",
              "5  GradientBoostingRegressor:   ...    450418.365989\n",
              "6               XGBRegressor:   ...    454270.753145\n",
              "\n",
              "[7 rows x 7 columns]"
            ]
          },
          "metadata": {
            "tags": []
          },
          "execution_count": 398
        }
      ]
    },
    {
      "cell_type": "markdown",
      "metadata": {
        "id": "7lX1_lOa5lGn"
      },
      "source": [
        "#**9. Final selection of the model**"
      ]
    },
    {
      "cell_type": "markdown",
      "metadata": {
        "id": "yT_ZjA3b5p4l"
      },
      "source": [
        "**We choose MAE and not RMSE as the deciding factor of our model selection  because of the following reasons:**\n",
        "\n",
        "* **RMSE is heavily influenced by outliers as in the higher the values get the more the RMSE increases.**\n",
        "* **MAE doesn’t increase with outliers. MAE is linear and RMSE is quadratically increasing.**\n",
        "\n",
        "* **The best performing regressor model for this dataset is Random Forest Regressor on the basis of MAE.**"
      ]
    },
    {
      "cell_type": "code",
      "metadata": {
        "colab": {
          "base_uri": "https://localhost:8080/",
          "height": 80
        },
        "id": "uDP9BFsCgktY",
        "outputId": "2954585c-f61d-4407-de08-e490ebdc2bd6"
      },
      "source": [
        "#let's print the scores of Random Forest Regressor model \n",
        "results_df_rf"
      ],
      "execution_count": null,
      "outputs": [
        {
          "output_type": "execute_result",
          "data": {
            "text/html": [
              "<div>\n",
              "<style scoped>\n",
              "    .dataframe tbody tr th:only-of-type {\n",
              "        vertical-align: middle;\n",
              "    }\n",
              "\n",
              "    .dataframe tbody tr th {\n",
              "        vertical-align: top;\n",
              "    }\n",
              "\n",
              "    .dataframe thead th {\n",
              "        text-align: right;\n",
              "    }\n",
              "</style>\n",
              "<table border=\"1\" class=\"dataframe\">\n",
              "  <thead>\n",
              "    <tr style=\"text-align: right;\">\n",
              "      <th></th>\n",
              "      <th>Model_Name</th>\n",
              "      <th>MAE_train</th>\n",
              "      <th>MAE_test</th>\n",
              "      <th>R2_Score_train</th>\n",
              "      <th>R2_Score_test</th>\n",
              "      <th>RMSE_Score_train</th>\n",
              "      <th>RMSE_Score_test</th>\n",
              "    </tr>\n",
              "  </thead>\n",
              "  <tbody>\n",
              "    <tr>\n",
              "      <th>0</th>\n",
              "      <td>RandomForest</td>\n",
              "      <td>186861.805466</td>\n",
              "      <td>192467.510883</td>\n",
              "      <td>0.806411</td>\n",
              "      <td>0.802745</td>\n",
              "      <td>485098.804013</td>\n",
              "      <td>489550.09742</td>\n",
              "    </tr>\n",
              "  </tbody>\n",
              "</table>\n",
              "</div>"
            ],
            "text/plain": [
              "      Model_Name      MAE_train  ...  RMSE_Score_train  RMSE_Score_test\n",
              "0  RandomForest   186861.805466  ...     485098.804013     489550.09742\n",
              "\n",
              "[1 rows x 7 columns]"
            ]
          },
          "metadata": {
            "tags": []
          },
          "execution_count": 399
        }
      ]
    },
    {
      "cell_type": "code",
      "metadata": {
        "colab": {
          "base_uri": "https://localhost:8080/"
        },
        "id": "oULUsswigx4F",
        "outputId": "019e288a-421f-4e95-de90-7e7c5fcf53ae"
      },
      "source": [
        "print(f'Mean value of our target variable is {y.mean()}')"
      ],
      "execution_count": null,
      "outputs": [
        {
          "output_type": "stream",
          "text": [
            "Mean value of our target variable is 1661354.1194756555\n"
          ],
          "name": "stdout"
        }
      ]
    },
    {
      "cell_type": "markdown",
      "metadata": {
        "id": "3OrkI9lThi9t"
      },
      "source": [
        "* **For Random Forest Regressor model, MAE is around 12 % of target variable mean.**"
      ]
    },
    {
      "cell_type": "markdown",
      "metadata": {
        "id": "jmCOQQVS6Vi9"
      },
      "source": [
        "#**10. Conclusion**\n",
        "###That's it! We reached the end of our exercise.\n",
        "###Started with loading the data so far we have done EDA ,feature engineering , data cleaning, target encoding and one hot encoding of categorical columns, feature selection and then model building.\n",
        "\n",
        "###So far we have modelled on \n",
        "* **Lasso Regressor**\n",
        "* **Ridge Regressor**\n",
        "* **KNearestNeighbors Regressor**\n",
        "* **Random Forest Regressor**\n",
        "* **Extra Tree Regressor**\n",
        "* **Gradient Boosting Regressor**\n",
        "* **XGB Regressor**\n",
        "\n",
        "###In all of these models our errors have been in the range of 2,00,000 which is around 10% of the average views. We have been able to correctly predict views 90% of the time.\n",
        "###After hyper parameter tuning, we have prevented overfitting and decreased errors by regularizing and reducing learning rate.\n",
        "###Given that only have 10% errors, our models have performed very well on unseen data due to various factors like feature selection,correct model selection,etc.\n",
        "\n",
        "###Out of all these models RandomForestRegressor is the best performer in terms of MAE.\n",
        "###In all the features speaker_wise_avg_views is most important this implies that speakers are directly impacting the views."
      ]
    },
    {
      "cell_type": "markdown",
      "metadata": {
        "id": "22hqK4EpsHcQ"
      },
      "source": [
        "#**Future Work**\n",
        "###We can do a dynamic regression time series modelling due to the availability of the time features.\n",
        "###We can use topic modelling to tackle views in each topic separately."
      ]
    },
    {
      "cell_type": "markdown",
      "metadata": {
        "id": "UjK3iFnIvOmc"
      },
      "source": [
        "---\n",
        "That's all..!!\n",
        "---"
      ]
    }
  ]
}